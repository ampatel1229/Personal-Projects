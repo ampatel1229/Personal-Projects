{
 "cells": [
  {
   "cell_type": "code",
   "execution_count": null,
   "id": "6da6c9f1-1b8a-44d0-b779-494a002b3951",
   "metadata": {},
   "outputs": [],
   "source": [
    "# QUESTION 1"
   ]
  },
  {
   "cell_type": "code",
   "execution_count": null,
   "id": "86f35300-c710-41cf-8aba-b40136c32f2d",
   "metadata": {},
   "outputs": [],
   "source": [
    "%%R\n",
    "myDF <- read.csv(\"/anvil/projects/tdm/data/flights/subset/airports.csv\")\n",
    "head(myDF)"
   ]
  },
  {
   "cell_type": "markdown",
   "id": "0864fada-afee-49ba-b51b-ab6c1a0348df",
   "metadata": {},
   "source": [
    "myDF is acting like the variable and read.csv and is reading the data in the file and the head() commands seems to act like a print/read statement"
   ]
  },
  {
   "cell_type": "code",
   "execution_count": null,
   "id": "ff18c421-db19-44a2-b50f-ed2083362b49",
   "metadata": {},
   "outputs": [],
   "source": [
    "%%R\n",
    "head(myDF, n=12) #n is the number of items you want printed from the sheet"
   ]
  },
  {
   "cell_type": "code",
   "execution_count": null,
   "id": "fa3aec69-f62c-47d6-b49f-c7001d811120",
   "metadata": {},
   "outputs": [],
   "source": [
    "# QUESTION 2:"
   ]
  },
  {
   "cell_type": "code",
   "execution_count": 2,
   "id": "c6a7d095-0091-4fa4-b336-2be2200f8758",
   "metadata": {},
   "outputs": [
    {
     "data": {
      "text/html": [
       "<table class=\"dataframe\">\n",
       "<caption>A data.frame: 12 x 7</caption>\n",
       "<thead>\n",
       "\t<tr><th></th><th scope=col>iata</th><th scope=col>airport</th><th scope=col>city</th><th scope=col>state</th><th scope=col>country</th><th scope=col>lat</th><th scope=col>long</th></tr>\n",
       "\t<tr><th></th><th scope=col>&lt;chr&gt;</th><th scope=col>&lt;chr&gt;</th><th scope=col>&lt;chr&gt;</th><th scope=col>&lt;chr&gt;</th><th scope=col>&lt;chr&gt;</th><th scope=col>&lt;dbl&gt;</th><th scope=col>&lt;dbl&gt;</th></tr>\n",
       "</thead>\n",
       "<tbody>\n",
       "\t<tr><th scope=row>1</th><td>00M</td><td>Thigpen             </td><td>Bay Springs     </td><td>MS</td><td>USA</td><td>31.95376</td><td> -89.23450</td></tr>\n",
       "\t<tr><th scope=row>2</th><td>00R</td><td>Livingston Municipal</td><td>Livingston      </td><td>TX</td><td>USA</td><td>30.68586</td><td> -95.01793</td></tr>\n",
       "\t<tr><th scope=row>3</th><td>00V</td><td>Meadow Lake         </td><td>Colorado Springs</td><td>CO</td><td>USA</td><td>38.94575</td><td>-104.56989</td></tr>\n",
       "\t<tr><th scope=row>4</th><td>01G</td><td>Perry-Warsaw        </td><td>Perry           </td><td>NY</td><td>USA</td><td>42.74135</td><td> -78.05208</td></tr>\n",
       "\t<tr><th scope=row>5</th><td>01J</td><td>Hilliard Airpark    </td><td>Hilliard        </td><td>FL</td><td>USA</td><td>30.68801</td><td> -81.90594</td></tr>\n",
       "\t<tr><th scope=row>6</th><td>01M</td><td>Tishomingo County   </td><td>Belmont         </td><td>MS</td><td>USA</td><td>34.49167</td><td> -88.20111</td></tr>\n",
       "\t<tr><th scope=row>7</th><td>02A</td><td>Gragg-Wade          </td><td>Clanton         </td><td>AL</td><td>USA</td><td>32.85049</td><td> -86.61145</td></tr>\n",
       "\t<tr><th scope=row>8</th><td>02C</td><td>Capitol             </td><td>Brookfield      </td><td>WI</td><td>USA</td><td>43.08751</td><td> -88.17787</td></tr>\n",
       "\t<tr><th scope=row>9</th><td>02G</td><td>Columbiana County   </td><td>East Liverpool  </td><td>OH</td><td>USA</td><td>40.67331</td><td> -80.64141</td></tr>\n",
       "\t<tr><th scope=row>10</th><td>03D</td><td>Memphis Memorial    </td><td>Memphis         </td><td>MO</td><td>USA</td><td>40.44726</td><td> -92.22696</td></tr>\n",
       "\t<tr><th scope=row>11</th><td>04M</td><td>Calhoun County      </td><td>Pittsboro       </td><td>MS</td><td>USA</td><td>33.93011</td><td> -89.34285</td></tr>\n",
       "\t<tr><th scope=row>12</th><td>04Y</td><td>Hawley Municipal    </td><td>Hawley          </td><td>MN</td><td>USA</td><td>46.88385</td><td> -96.35090</td></tr>\n",
       "</tbody>\n",
       "</table>\n"
      ],
      "text/latex": [
       "A data.frame: 12 x 7\n",
       "\\begin{tabular}{r|lllllll}\n",
       "  & iata & airport & city & state & country & lat & long\\\\\n",
       "  & <chr> & <chr> & <chr> & <chr> & <chr> & <dbl> & <dbl>\\\\\n",
       "\\hline\n",
       "\t1 & 00M & Thigpen              & Bay Springs      & MS & USA & 31.95376 &  -89.23450\\\\\n",
       "\t2 & 00R & Livingston Municipal & Livingston       & TX & USA & 30.68586 &  -95.01793\\\\\n",
       "\t3 & 00V & Meadow Lake          & Colorado Springs & CO & USA & 38.94575 & -104.56989\\\\\n",
       "\t4 & 01G & Perry-Warsaw         & Perry            & NY & USA & 42.74135 &  -78.05208\\\\\n",
       "\t5 & 01J & Hilliard Airpark     & Hilliard         & FL & USA & 30.68801 &  -81.90594\\\\\n",
       "\t6 & 01M & Tishomingo County    & Belmont          & MS & USA & 34.49167 &  -88.20111\\\\\n",
       "\t7 & 02A & Gragg-Wade           & Clanton          & AL & USA & 32.85049 &  -86.61145\\\\\n",
       "\t8 & 02C & Capitol              & Brookfield       & WI & USA & 43.08751 &  -88.17787\\\\\n",
       "\t9 & 02G & Columbiana County    & East Liverpool   & OH & USA & 40.67331 &  -80.64141\\\\\n",
       "\t10 & 03D & Memphis Memorial     & Memphis          & MO & USA & 40.44726 &  -92.22696\\\\\n",
       "\t11 & 04M & Calhoun County       & Pittsboro        & MS & USA & 33.93011 &  -89.34285\\\\\n",
       "\t12 & 04Y & Hawley Municipal     & Hawley           & MN & USA & 46.88385 &  -96.35090\\\\\n",
       "\\end{tabular}\n"
      ],
      "text/markdown": [
       "\n",
       "A data.frame: 12 x 7\n",
       "\n",
       "| <!--/--> | iata &lt;chr&gt; | airport &lt;chr&gt; | city &lt;chr&gt; | state &lt;chr&gt; | country &lt;chr&gt; | lat &lt;dbl&gt; | long &lt;dbl&gt; |\n",
       "|---|---|---|---|---|---|---|---|\n",
       "| 1 | 00M | Thigpen              | Bay Springs      | MS | USA | 31.95376 |  -89.23450 |\n",
       "| 2 | 00R | Livingston Municipal | Livingston       | TX | USA | 30.68586 |  -95.01793 |\n",
       "| 3 | 00V | Meadow Lake          | Colorado Springs | CO | USA | 38.94575 | -104.56989 |\n",
       "| 4 | 01G | Perry-Warsaw         | Perry            | NY | USA | 42.74135 |  -78.05208 |\n",
       "| 5 | 01J | Hilliard Airpark     | Hilliard         | FL | USA | 30.68801 |  -81.90594 |\n",
       "| 6 | 01M | Tishomingo County    | Belmont          | MS | USA | 34.49167 |  -88.20111 |\n",
       "| 7 | 02A | Gragg-Wade           | Clanton          | AL | USA | 32.85049 |  -86.61145 |\n",
       "| 8 | 02C | Capitol              | Brookfield       | WI | USA | 43.08751 |  -88.17787 |\n",
       "| 9 | 02G | Columbiana County    | East Liverpool   | OH | USA | 40.67331 |  -80.64141 |\n",
       "| 10 | 03D | Memphis Memorial     | Memphis          | MO | USA | 40.44726 |  -92.22696 |\n",
       "| 11 | 04M | Calhoun County       | Pittsboro        | MS | USA | 33.93011 |  -89.34285 |\n",
       "| 12 | 04Y | Hawley Municipal     | Hawley           | MN | USA | 46.88385 |  -96.35090 |\n",
       "\n"
      ],
      "text/plain": [
       "   iata airport              city             state country lat      long      \n",
       "1  00M  Thigpen              Bay Springs      MS    USA     31.95376  -89.23450\n",
       "2  00R  Livingston Municipal Livingston       TX    USA     30.68586  -95.01793\n",
       "3  00V  Meadow Lake          Colorado Springs CO    USA     38.94575 -104.56989\n",
       "4  01G  Perry-Warsaw         Perry            NY    USA     42.74135  -78.05208\n",
       "5  01J  Hilliard Airpark     Hilliard         FL    USA     30.68801  -81.90594\n",
       "6  01M  Tishomingo County    Belmont          MS    USA     34.49167  -88.20111\n",
       "7  02A  Gragg-Wade           Clanton          AL    USA     32.85049  -86.61145\n",
       "8  02C  Capitol              Brookfield       WI    USA     43.08751  -88.17787\n",
       "9  02G  Columbiana County    East Liverpool   OH    USA     40.67331  -80.64141\n",
       "10 03D  Memphis Memorial     Memphis          MO    USA     40.44726  -92.22696\n",
       "11 04M  Calhoun County       Pittsboro        MS    USA     33.93011  -89.34285\n",
       "12 04Y  Hawley Municipal     Hawley           MN    USA     46.88385  -96.35090"
      ]
     },
     "metadata": {},
     "output_type": "display_data"
    }
   ],
   "source": [
    "myDF <- read.csv(\"/anvil/projects/tdm/data/flights/subset/airports.csv\")\n",
    "head(myDF, n=12)"
   ]
  },
  {
   "cell_type": "markdown",
   "id": "a0a3de4d-85e0-487d-a8c6-d5c58c39a574",
   "metadata": {},
   "source": [
    "Noticeable difference between seminar and seminar-r data reading is that seminar-r seems to format the data better and makes the data look a lot nicer than it does in seminar. "
   ]
  },
  {
   "cell_type": "code",
   "execution_count": 3,
   "id": "98e22550-35f6-41ae-8948-895574e00690",
   "metadata": {},
   "outputs": [
    {
     "data": {
      "text/html": [
       "<table class=\"dataframe\">\n",
       "<caption>A data.frame: 10 x 7</caption>\n",
       "<thead>\n",
       "\t<tr><th></th><th scope=col>iata</th><th scope=col>airport</th><th scope=col>city</th><th scope=col>state</th><th scope=col>country</th><th scope=col>lat</th><th scope=col>long</th></tr>\n",
       "\t<tr><th></th><th scope=col>&lt;chr&gt;</th><th scope=col>&lt;chr&gt;</th><th scope=col>&lt;chr&gt;</th><th scope=col>&lt;chr&gt;</th><th scope=col>&lt;chr&gt;</th><th scope=col>&lt;dbl&gt;</th><th scope=col>&lt;dbl&gt;</th></tr>\n",
       "</thead>\n",
       "<tbody>\n",
       "\t<tr><th scope=row>13</th><td>05C</td><td>Griffith-Merrillville   </td><td>Griffith   </td><td>IN</td><td>USA</td><td>41.51962</td><td>-87.40109</td></tr>\n",
       "\t<tr><th scope=row>22</th><td>07C</td><td>Dekalb County           </td><td>Auburn     </td><td>IN</td><td>USA</td><td>41.30717</td><td>-85.06433</td></tr>\n",
       "\t<tr><th scope=row>163</th><td>1I9</td><td>Delphi Municipal        </td><td>Delphi     </td><td>IN</td><td>USA</td><td>40.54281</td><td>-86.68167</td></tr>\n",
       "\t<tr><th scope=row>437</th><td>4I7</td><td>Putnam County           </td><td>Greencastle</td><td>IN</td><td>USA</td><td>39.63360</td><td>-86.81383</td></tr>\n",
       "\t<tr><th scope=row>478</th><td>50I</td><td>Kentland Municipal      </td><td>Kentland   </td><td>IN</td><td>USA</td><td>40.75873</td><td>-87.42822</td></tr>\n",
       "\t<tr><th scope=row>515</th><td>5I4</td><td>Sheridan                </td><td>Sheridan   </td><td>IN</td><td>USA</td><td>40.17793</td><td>-86.21730</td></tr>\n",
       "\t<tr><th scope=row>803</th><td>AID</td><td>Anderson Municipal      </td><td>Anderson   </td><td>IN</td><td>USA</td><td>40.10862</td><td>-85.61299</td></tr>\n",
       "\t<tr><th scope=row>844</th><td>ANQ</td><td>Steuben County-Tri State</td><td>Angola     </td><td>IN</td><td>USA</td><td>41.63970</td><td>-85.08349</td></tr>\n",
       "\t<tr><th scope=row>877</th><td>ASW</td><td>Warsaw Municipal        </td><td>Warsaw     </td><td>IN</td><td>USA</td><td>41.27470</td><td>-85.84006</td></tr>\n",
       "\t<tr><th scope=row>919</th><td>BAK</td><td>Columbus Municipal      </td><td>Columbus   </td><td>IN</td><td>USA</td><td>39.26192</td><td>-85.89635</td></tr>\n",
       "</tbody>\n",
       "</table>\n"
      ],
      "text/latex": [
       "A data.frame: 10 x 7\n",
       "\\begin{tabular}{r|lllllll}\n",
       "  & iata & airport & city & state & country & lat & long\\\\\n",
       "  & <chr> & <chr> & <chr> & <chr> & <chr> & <dbl> & <dbl>\\\\\n",
       "\\hline\n",
       "\t13 & 05C & Griffith-Merrillville    & Griffith    & IN & USA & 41.51962 & -87.40109\\\\\n",
       "\t22 & 07C & Dekalb County            & Auburn      & IN & USA & 41.30717 & -85.06433\\\\\n",
       "\t163 & 1I9 & Delphi Municipal         & Delphi      & IN & USA & 40.54281 & -86.68167\\\\\n",
       "\t437 & 4I7 & Putnam County            & Greencastle & IN & USA & 39.63360 & -86.81383\\\\\n",
       "\t478 & 50I & Kentland Municipal       & Kentland    & IN & USA & 40.75873 & -87.42822\\\\\n",
       "\t515 & 5I4 & Sheridan                 & Sheridan    & IN & USA & 40.17793 & -86.21730\\\\\n",
       "\t803 & AID & Anderson Municipal       & Anderson    & IN & USA & 40.10862 & -85.61299\\\\\n",
       "\t844 & ANQ & Steuben County-Tri State & Angola      & IN & USA & 41.63970 & -85.08349\\\\\n",
       "\t877 & ASW & Warsaw Municipal         & Warsaw      & IN & USA & 41.27470 & -85.84006\\\\\n",
       "\t919 & BAK & Columbus Municipal       & Columbus    & IN & USA & 39.26192 & -85.89635\\\\\n",
       "\\end{tabular}\n"
      ],
      "text/markdown": [
       "\n",
       "A data.frame: 10 x 7\n",
       "\n",
       "| <!--/--> | iata &lt;chr&gt; | airport &lt;chr&gt; | city &lt;chr&gt; | state &lt;chr&gt; | country &lt;chr&gt; | lat &lt;dbl&gt; | long &lt;dbl&gt; |\n",
       "|---|---|---|---|---|---|---|---|\n",
       "| 13 | 05C | Griffith-Merrillville    | Griffith    | IN | USA | 41.51962 | -87.40109 |\n",
       "| 22 | 07C | Dekalb County            | Auburn      | IN | USA | 41.30717 | -85.06433 |\n",
       "| 163 | 1I9 | Delphi Municipal         | Delphi      | IN | USA | 40.54281 | -86.68167 |\n",
       "| 437 | 4I7 | Putnam County            | Greencastle | IN | USA | 39.63360 | -86.81383 |\n",
       "| 478 | 50I | Kentland Municipal       | Kentland    | IN | USA | 40.75873 | -87.42822 |\n",
       "| 515 | 5I4 | Sheridan                 | Sheridan    | IN | USA | 40.17793 | -86.21730 |\n",
       "| 803 | AID | Anderson Municipal       | Anderson    | IN | USA | 40.10862 | -85.61299 |\n",
       "| 844 | ANQ | Steuben County-Tri State | Angola      | IN | USA | 41.63970 | -85.08349 |\n",
       "| 877 | ASW | Warsaw Municipal         | Warsaw      | IN | USA | 41.27470 | -85.84006 |\n",
       "| 919 | BAK | Columbus Municipal       | Columbus    | IN | USA | 39.26192 | -85.89635 |\n",
       "\n"
      ],
      "text/plain": [
       "    iata airport                  city        state country lat      long     \n",
       "13  05C  Griffith-Merrillville    Griffith    IN    USA     41.51962 -87.40109\n",
       "22  07C  Dekalb County            Auburn      IN    USA     41.30717 -85.06433\n",
       "163 1I9  Delphi Municipal         Delphi      IN    USA     40.54281 -86.68167\n",
       "437 4I7  Putnam County            Greencastle IN    USA     39.63360 -86.81383\n",
       "478 50I  Kentland Municipal       Kentland    IN    USA     40.75873 -87.42822\n",
       "515 5I4  Sheridan                 Sheridan    IN    USA     40.17793 -86.21730\n",
       "803 AID  Anderson Municipal       Anderson    IN    USA     40.10862 -85.61299\n",
       "844 ANQ  Steuben County-Tri State Angola      IN    USA     41.63970 -85.08349\n",
       "877 ASW  Warsaw Municipal         Warsaw      IN    USA     41.27470 -85.84006\n",
       "919 BAK  Columbus Municipal       Columbus    IN    USA     39.26192 -85.89635"
      ]
     },
     "metadata": {},
     "output_type": "display_data"
    }
   ],
   "source": [
    "myIndy <- subset(myDF, state==\"IN\")\n",
    "head(myIndy, n=10)"
   ]
  },
  {
   "cell_type": "code",
   "execution_count": 14,
   "id": "cb4c0b90-4686-4c8c-bff7-baadfd3dd796",
   "metadata": {},
   "outputs": [
    {
     "data": {
      "text/html": [
       "<style>\n",
       ".list-inline {list-style: none; margin:0; padding: 0}\n",
       ".list-inline>li {display: inline-block}\n",
       ".list-inline>li:not(:last-child)::after {content: \"\\00b7\"; padding: 0 .5ex}\n",
       "</style>\n",
       "<ol class=list-inline><li>65</li><li>7</li></ol>\n"
      ],
      "text/latex": [
       "\\begin{enumerate*}\n",
       "\\item 65\n",
       "\\item 7\n",
       "\\end{enumerate*}\n"
      ],
      "text/markdown": [
       "1. 65\n",
       "2. 7\n",
       "\n",
       "\n"
      ],
      "text/plain": [
       "[1] 65  7"
      ]
     },
     "metadata": {},
     "output_type": "display_data"
    }
   ],
   "source": [
    "dim(myIndy) #65 rows and 7 columns in the Indiana data frame of Indiana airports"
   ]
  },
  {
   "cell_type": "code",
   "execution_count": null,
   "id": "eef9cb10-eae0-4911-b29b-1ab73ffdeee2",
   "metadata": {},
   "outputs": [],
   "source": []
  }
 ],
 "metadata": {
  "kernelspec": {
   "display_name": "seminar-r",
   "language": "R",
   "name": "seminar-r"
  },
  "language_info": {
   "codemirror_mode": "r",
   "file_extension": ".r",
   "mimetype": "text/x-r-source",
   "name": "R",
   "pygments_lexer": "r",
   "version": "4.4.3"
  }
 },
 "nbformat": 4,
 "nbformat_minor": 5
}
