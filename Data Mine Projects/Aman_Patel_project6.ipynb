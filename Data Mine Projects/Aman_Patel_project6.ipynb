{
 "cells": [
  {
   "cell_type": "markdown",
   "id": "82e02810-ab5a-4510-ae20-1fd972326735",
   "metadata": {},
   "source": [
    "# Project 6 -- Aman Patel"
   ]
  },
  {
   "cell_type": "markdown",
   "id": "6f8812a3-c258-4743-8df5-f48d13d396c8",
   "metadata": {},
   "source": [
    "# Question 1"
   ]
  },
  {
   "cell_type": "code",
   "execution_count": 1,
   "id": "d9001cdb-1a95-4881-9309-dd4ef0dc02c2",
   "metadata": {},
   "outputs": [],
   "source": [
    "need_coffee <- FALSE;"
   ]
  },
  {
   "cell_type": "code",
   "execution_count": 2,
   "id": "c7ec0cd6-ff17-4653-ae00-92163c3ec0e9",
   "metadata": {},
   "outputs": [
    {
     "name": "stdout",
     "output_type": "stream",
     "text": [
      "[1] \"Wow, you must be a superhero! No coffee needed\"\n"
     ]
    }
   ],
   "source": [
    "if (need_coffee) {\n",
    "  print(\"Yes! Grab a coffee first...\")\n",
    "} else {\n",
    "  print(\"Wow, you must be a superhero! No coffee needed\")\n",
    "}"
   ]
  },
  {
   "cell_type": "markdown",
   "id": "4460fb54-d8d3-4e02-a664-8de473720380",
   "metadata": {},
   "source": [
    "When need_coffee was set to true, it printed out the first response."
   ]
  },
  {
   "cell_type": "code",
   "execution_count": 3,
   "id": "24c9f7cb-9014-42d7-a3c3-f8adad50a853",
   "metadata": {},
   "outputs": [],
   "source": [
    "color = \"red\""
   ]
  },
  {
   "cell_type": "code",
   "execution_count": 4,
   "id": "a51e42cc-9b81-41f9-9180-e55702d19253",
   "metadata": {},
   "outputs": [
    {
     "name": "stdout",
     "output_type": "stream",
     "text": [
      "[1] \"Sith Lord\"\n"
     ]
    }
   ],
   "source": [
    "if(color == \"blue\") {\n",
    "    print(\"Jedi Guardian\")\n",
    "} else if (color == \"green\") {\n",
    "    print(\"Jedi Consular\")\n",
    "} else if (color == \"purple\") {\n",
    "    print(\"Unique Balance\")\n",
    "} else if (color == \"red\") {\n",
    "    print(\"Sith Lord\")\n",
    "} else {\n",
    "    print(\"Rare Occurence\")\n",
    "}"
   ]
  },
  {
   "cell_type": "code",
   "execution_count": 5,
   "id": "da743ca0-fbcc-4246-83da-aa90496d4891",
   "metadata": {},
   "outputs": [],
   "source": [
    "colors <- c(\"green\", \"blue\", \"red\", \"yellow\", \"blue\", \"red\", \"purple\", \"green\", \"red\", \"blue\", \"red\", \"blue\")"
   ]
  },
  {
   "cell_type": "code",
   "execution_count": 6,
   "id": "7b549bc0-7c48-4dd2-9358-36963f74bc75",
   "metadata": {},
   "outputs": [],
   "source": [
    "roles <- ifelse(colors == \"blue\", \"Jedi Guardian\",\n",
    "         ifelse(colors == \"green\", \"Jedi Consular\",\n",
    "         ifelse(colors == \"purple\", \"Unique Balance\",\n",
    "         ifelse(colors == \"red\", \"Sith Lord\", \"Rare Occurence\"))))\n",
    "         "
   ]
  },
  {
   "cell_type": "code",
   "execution_count": 7,
   "id": "2a5fbf44-142a-4bb2-a8d0-21ced0396d60",
   "metadata": {},
   "outputs": [
    {
     "name": "stdout",
     "output_type": "stream",
     "text": [
      " [1] \"Jedi Consular\"  \"Jedi Guardian\"  \"Sith Lord\"      \"Rare Occurence\"\n",
      " [5] \"Jedi Guardian\"  \"Sith Lord\"      \"Unique Balance\" \"Jedi Consular\" \n",
      " [9] \"Sith Lord\"      \"Jedi Guardian\"  \"Sith Lord\"      \"Jedi Guardian\" \n"
     ]
    }
   ],
   "source": [
    "print(roles)"
   ]
  },
  {
   "cell_type": "markdown",
   "id": "ef216aa7-9e70-4f6c-95a5-5dd074e7328a",
   "metadata": {},
   "source": [
    "The main difference between if/else and ifelse is that the if/else checks the values of a variable one at a time, whereas ifelse applies the condition to all the values in one go. In short, ifelse is a faster function compared to the if/else."
   ]
  },
  {
   "cell_type": "markdown",
   "id": "9d501d36-3c92-4971-95a4-a4de700d6343",
   "metadata": {},
   "source": [
    "# Question 2"
   ]
  },
  {
   "cell_type": "code",
   "execution_count": 8,
   "id": "3d9b081a-ff77-4979-a64b-aefc397c1753",
   "metadata": {},
   "outputs": [],
   "source": [
    "myDF <- read.csv(\"/anvil/projects/tdm/data/social_media_addiction/social_media.csv\")"
   ]
  },
  {
   "cell_type": "code",
   "execution_count": 9,
   "id": "82160d2f-c73e-42d6-9a2e-89c92b7c3112",
   "metadata": {},
   "outputs": [
    {
     "data": {
      "text/html": [
       "<style>\n",
       ".list-inline {list-style: none; margin:0; padding: 0}\n",
       ".list-inline>li {display: inline-block}\n",
       ".list-inline>li:not(:last-child)::after {content: \"\\00b7\"; padding: 0 .5ex}\n",
       "</style>\n",
       "<ol class=list-inline><li>705</li><li>13</li></ol>\n"
      ],
      "text/latex": [
       "\\begin{enumerate*}\n",
       "\\item 705\n",
       "\\item 13\n",
       "\\end{enumerate*}\n"
      ],
      "text/markdown": [
       "1. 705\n",
       "2. 13\n",
       "\n",
       "\n"
      ],
      "text/plain": [
       "[1] 705  13"
      ]
     },
     "metadata": {},
     "output_type": "display_data"
    }
   ],
   "source": [
    "dim(myDF)"
   ]
  },
  {
   "cell_type": "code",
   "execution_count": 10,
   "id": "1aab27a5-d58a-4ed5-9520-c2ffbad42181",
   "metadata": {},
   "outputs": [
    {
     "data": {
      "text/html": [
       "<table class=\"dataframe\">\n",
       "<caption>A data.frame: 6 x 13</caption>\n",
       "<thead>\n",
       "\t<tr><th></th><th scope=col>Student_ID</th><th scope=col>Age</th><th scope=col>Gender</th><th scope=col>Academic_Level</th><th scope=col>Country</th><th scope=col>Avg_Daily_Usage_Hours</th><th scope=col>Most_Used_Platform</th><th scope=col>Affects_Academic_Performance</th><th scope=col>Sleep_Hours_Per_Night</th><th scope=col>Mental_Health_Score</th><th scope=col>Relationship_Status</th><th scope=col>Conflicts_Over_Social_Media</th><th scope=col>Addicted_Score</th></tr>\n",
       "\t<tr><th></th><th scope=col>&lt;int&gt;</th><th scope=col>&lt;int&gt;</th><th scope=col>&lt;chr&gt;</th><th scope=col>&lt;chr&gt;</th><th scope=col>&lt;chr&gt;</th><th scope=col>&lt;dbl&gt;</th><th scope=col>&lt;chr&gt;</th><th scope=col>&lt;chr&gt;</th><th scope=col>&lt;dbl&gt;</th><th scope=col>&lt;int&gt;</th><th scope=col>&lt;chr&gt;</th><th scope=col>&lt;int&gt;</th><th scope=col>&lt;int&gt;</th></tr>\n",
       "</thead>\n",
       "<tbody>\n",
       "\t<tr><th scope=row>1</th><td>1</td><td>19</td><td>Female</td><td>Undergraduate</td><td>Bangladesh</td><td>5.2</td><td>Instagram</td><td>Yes</td><td>6.5</td><td>6</td><td>In Relationship</td><td>3</td><td>8</td></tr>\n",
       "\t<tr><th scope=row>2</th><td>2</td><td>22</td><td>Male  </td><td>Graduate     </td><td>India     </td><td>2.1</td><td>Twitter  </td><td>No </td><td>7.5</td><td>8</td><td>Single         </td><td>0</td><td>3</td></tr>\n",
       "\t<tr><th scope=row>3</th><td>3</td><td>20</td><td>Female</td><td>Undergraduate</td><td>USA       </td><td>6.0</td><td>TikTok   </td><td>Yes</td><td>5.0</td><td>5</td><td>Complicated    </td><td>4</td><td>9</td></tr>\n",
       "\t<tr><th scope=row>4</th><td>4</td><td>18</td><td>Male  </td><td>High School  </td><td>UK        </td><td>3.0</td><td>YouTube  </td><td>No </td><td>7.0</td><td>7</td><td>Single         </td><td>1</td><td>4</td></tr>\n",
       "\t<tr><th scope=row>5</th><td>5</td><td>21</td><td>Male  </td><td>Graduate     </td><td>Canada    </td><td>4.5</td><td>Facebook </td><td>Yes</td><td>6.0</td><td>6</td><td>In Relationship</td><td>2</td><td>7</td></tr>\n",
       "\t<tr><th scope=row>6</th><td>6</td><td>19</td><td>Female</td><td>Undergraduate</td><td>Australia </td><td>7.2</td><td>Instagram</td><td>Yes</td><td>4.5</td><td>4</td><td>Complicated    </td><td>5</td><td>9</td></tr>\n",
       "</tbody>\n",
       "</table>\n"
      ],
      "text/latex": [
       "A data.frame: 6 x 13\n",
       "\\begin{tabular}{r|lllllllllllll}\n",
       "  & Student\\_ID & Age & Gender & Academic\\_Level & Country & Avg\\_Daily\\_Usage\\_Hours & Most\\_Used\\_Platform & Affects\\_Academic\\_Performance & Sleep\\_Hours\\_Per\\_Night & Mental\\_Health\\_Score & Relationship\\_Status & Conflicts\\_Over\\_Social\\_Media & Addicted\\_Score\\\\\n",
       "  & <int> & <int> & <chr> & <chr> & <chr> & <dbl> & <chr> & <chr> & <dbl> & <int> & <chr> & <int> & <int>\\\\\n",
       "\\hline\n",
       "\t1 & 1 & 19 & Female & Undergraduate & Bangladesh & 5.2 & Instagram & Yes & 6.5 & 6 & In Relationship & 3 & 8\\\\\n",
       "\t2 & 2 & 22 & Male   & Graduate      & India      & 2.1 & Twitter   & No  & 7.5 & 8 & Single          & 0 & 3\\\\\n",
       "\t3 & 3 & 20 & Female & Undergraduate & USA        & 6.0 & TikTok    & Yes & 5.0 & 5 & Complicated     & 4 & 9\\\\\n",
       "\t4 & 4 & 18 & Male   & High School   & UK         & 3.0 & YouTube   & No  & 7.0 & 7 & Single          & 1 & 4\\\\\n",
       "\t5 & 5 & 21 & Male   & Graduate      & Canada     & 4.5 & Facebook  & Yes & 6.0 & 6 & In Relationship & 2 & 7\\\\\n",
       "\t6 & 6 & 19 & Female & Undergraduate & Australia  & 7.2 & Instagram & Yes & 4.5 & 4 & Complicated     & 5 & 9\\\\\n",
       "\\end{tabular}\n"
      ],
      "text/markdown": [
       "\n",
       "A data.frame: 6 x 13\n",
       "\n",
       "| <!--/--> | Student_ID &lt;int&gt; | Age &lt;int&gt; | Gender &lt;chr&gt; | Academic_Level &lt;chr&gt; | Country &lt;chr&gt; | Avg_Daily_Usage_Hours &lt;dbl&gt; | Most_Used_Platform &lt;chr&gt; | Affects_Academic_Performance &lt;chr&gt; | Sleep_Hours_Per_Night &lt;dbl&gt; | Mental_Health_Score &lt;int&gt; | Relationship_Status &lt;chr&gt; | Conflicts_Over_Social_Media &lt;int&gt; | Addicted_Score &lt;int&gt; |\n",
       "|---|---|---|---|---|---|---|---|---|---|---|---|---|---|\n",
       "| 1 | 1 | 19 | Female | Undergraduate | Bangladesh | 5.2 | Instagram | Yes | 6.5 | 6 | In Relationship | 3 | 8 |\n",
       "| 2 | 2 | 22 | Male   | Graduate      | India      | 2.1 | Twitter   | No  | 7.5 | 8 | Single          | 0 | 3 |\n",
       "| 3 | 3 | 20 | Female | Undergraduate | USA        | 6.0 | TikTok    | Yes | 5.0 | 5 | Complicated     | 4 | 9 |\n",
       "| 4 | 4 | 18 | Male   | High School   | UK         | 3.0 | YouTube   | No  | 7.0 | 7 | Single          | 1 | 4 |\n",
       "| 5 | 5 | 21 | Male   | Graduate      | Canada     | 4.5 | Facebook  | Yes | 6.0 | 6 | In Relationship | 2 | 7 |\n",
       "| 6 | 6 | 19 | Female | Undergraduate | Australia  | 7.2 | Instagram | Yes | 4.5 | 4 | Complicated     | 5 | 9 |\n",
       "\n"
      ],
      "text/plain": [
       "  Student_ID Age Gender Academic_Level Country    Avg_Daily_Usage_Hours\n",
       "1 1          19  Female Undergraduate  Bangladesh 5.2                  \n",
       "2 2          22  Male   Graduate       India      2.1                  \n",
       "3 3          20  Female Undergraduate  USA        6.0                  \n",
       "4 4          18  Male   High School    UK         3.0                  \n",
       "5 5          21  Male   Graduate       Canada     4.5                  \n",
       "6 6          19  Female Undergraduate  Australia  7.2                  \n",
       "  Most_Used_Platform Affects_Academic_Performance Sleep_Hours_Per_Night\n",
       "1 Instagram          Yes                          6.5                  \n",
       "2 Twitter            No                           7.5                  \n",
       "3 TikTok             Yes                          5.0                  \n",
       "4 YouTube            No                           7.0                  \n",
       "5 Facebook           Yes                          6.0                  \n",
       "6 Instagram          Yes                          4.5                  \n",
       "  Mental_Health_Score Relationship_Status Conflicts_Over_Social_Media\n",
       "1 6                   In Relationship     3                          \n",
       "2 8                   Single              0                          \n",
       "3 5                   Complicated         4                          \n",
       "4 7                   Single              1                          \n",
       "5 6                   In Relationship     2                          \n",
       "6 4                   Complicated         5                          \n",
       "  Addicted_Score\n",
       "1 8             \n",
       "2 3             \n",
       "3 9             \n",
       "4 4             \n",
       "5 7             \n",
       "6 9             "
      ]
     },
     "metadata": {},
     "output_type": "display_data"
    }
   ],
   "source": [
    "head(myDF)"
   ]
  },
  {
   "cell_type": "code",
   "execution_count": 11,
   "id": "8bd52253-ca4a-4717-b51a-a3ef54c4d0b8",
   "metadata": {},
   "outputs": [],
   "source": [
    "myDF$Status <- ifelse(myDF$Avg_Daily_Usage_Hours > myDF$Sleep_Hours_Per_Night, \"Zombie\",\n",
    "              ifelse(myDF$Avg_Daily_Usage_Hours == myDF$Sleep_Hours_Per_Night, \"Doom Scroll\", \"Doing Fine\"))"
   ]
  },
  {
   "cell_type": "code",
   "execution_count": 12,
   "id": "813b4ecb-c912-4085-b23a-6540264aef1f",
   "metadata": {},
   "outputs": [],
   "source": [
    "max_sleep <- max(myDF$Sleep_Hours_Per_Night)\n",
    "max_usage <- max(myDF$Avg_Daily_Usage_Hours)"
   ]
  },
  {
   "cell_type": "code",
   "execution_count": 13,
   "id": "d4a283df-f1e8-4c44-9589-75f119f3c59f",
   "metadata": {},
   "outputs": [
    {
     "name": "stdout",
     "output_type": "stream",
     "text": [
      "[1] 9.6\n"
     ]
    }
   ],
   "source": [
    "print(max_sleep)"
   ]
  },
  {
   "cell_type": "markdown",
   "id": "613c4029-1c5f-46e8-8a51-6af66060873e",
   "metadata": {},
   "source": [
    "The longest recorded sleep time is 9.6 hours"
   ]
  },
  {
   "cell_type": "code",
   "execution_count": 14,
   "id": "ac563463-7561-4e31-a8bc-9ead62da525f",
   "metadata": {},
   "outputs": [
    {
     "name": "stdout",
     "output_type": "stream",
     "text": [
      "[1] 8.5\n"
     ]
    }
   ],
   "source": [
    "print(max_usage)"
   ]
  },
  {
   "cell_type": "markdown",
   "id": "83fedd54-a78e-41aa-b572-8c162c5b68f6",
   "metadata": {},
   "source": [
    "The longest time spent of social media is 8.5 hours"
   ]
  },
  {
   "cell_type": "code",
   "execution_count": 15,
   "id": "f712c7f2-36d9-4227-99df-800f553f101d",
   "metadata": {},
   "outputs": [
    {
     "data": {
      "text/plain": [
       "\n",
       " Doing Fine Doom Scroll      Zombie \n",
       "        536          22         147 "
      ]
     },
     "metadata": {},
     "output_type": "display_data"
    }
   ],
   "source": [
    "table(myDF$Status)"
   ]
  },
  {
   "cell_type": "markdown",
   "id": "a7012641-b323-4591-bd23-da948349a5b5",
   "metadata": {},
   "source": [
    "The habit ratio that is the most common among the students is Doing Fine"
   ]
  },
  {
   "cell_type": "markdown",
   "id": "8e528e97-27d0-416a-8736-de524aa2e9aa",
   "metadata": {},
   "source": [
    "# Question 3"
   ]
  },
  {
   "cell_type": "code",
   "execution_count": 16,
   "id": "605368b2-28b1-4970-a5cf-2f1e66535421",
   "metadata": {},
   "outputs": [],
   "source": [
    "screen_time <- 10"
   ]
  },
  {
   "cell_type": "code",
   "execution_count": 17,
   "id": "5b58f5da-7d48-4f40-8949-047f2743a497",
   "metadata": {},
   "outputs": [
    {
     "name": "stdout",
     "output_type": "stream",
     "text": [
      "[1] \"Screen time: 10 hours\"\n",
      "[1] \"Screen time: 9 hours\"\n",
      "[1] \"Screen time: 8 hours\"\n",
      "[1] \"Screen time: 7 hours\"\n",
      "[1] \"Screen time: 6 hours\"\n",
      "[1] \"Screen time: 5 hours\"\n",
      "[1] \"Screen time: 4 hours\"\n",
      "[1] \"Screen time: 3 hours\"\n"
     ]
    }
   ],
   "source": [
    "while(screen_time > 2) {\n",
    "    print(paste(\"Screen time:\", screen_time, \"hours\"))\n",
    "    # OR\n",
    "    # cat(\"Screen time:\", screen_time, \"hours\")\n",
    "    screen_time <- screen_time - 1\n",
    "    }"
   ]
  },
  {
   "cell_type": "code",
   "execution_count": 18,
   "id": "5920f917-1e91-4a92-89bb-d703676bacbb",
   "metadata": {},
   "outputs": [],
   "source": [
    "sleep_time <- 2"
   ]
  },
  {
   "cell_type": "code",
   "execution_count": 19,
   "id": "836381ac-f8d0-4dba-b862-168c9cc465f1",
   "metadata": {},
   "outputs": [
    {
     "name": "stdout",
     "output_type": "stream",
     "text": [
      "[1] \"Sleep time:  2 hours\"\n",
      "[1] \"Sleep time:  3 hours\"\n",
      "[1] \"Sleep time:  4 hours\"\n",
      "[1] \"Sleep time:  5 hours\"\n",
      "[1] \"Sleep time:  6 hours\"\n",
      "[1] \"Sleep time:  7 hours\"\n",
      "[1] \"Sleep time:  8 hours\"\n",
      "[1] \"Sleep time:  9 hours\"\n"
     ]
    }
   ],
   "source": [
    "while (sleep_time < 10){\n",
    "    print(paste(\"Sleep time: \", sleep_time, \"hours\"))\n",
    "    sleep_time <- sleep_time + 1\n",
    "}"
   ]
  },
  {
   "cell_type": "code",
   "execution_count": 20,
   "id": "77b8bd62-6010-4db0-9bf3-fa95c6d1edad",
   "metadata": {},
   "outputs": [
    {
     "name": "stdout",
     "output_type": "stream",
     "text": [
      "[1] \"Screen time: 10 hours | Sleep time: 2 hours\"\n",
      "[1] \"Screen time: 9.5 hours | Sleep time: 2.5 hours\"\n",
      "[1] \"Screen time: 9 hours | Sleep time: 3 hours\"\n",
      "[1] \"Screen time: 8.5 hours | Sleep time: 3.5 hours\"\n",
      "[1] \"Screen time: 8 hours | Sleep time: 4 hours\"\n",
      "[1] \"Screen time: 7.5 hours | Sleep time: 4.5 hours\"\n",
      "[1] \"Screen time: 7 hours | Sleep time: 5 hours\"\n",
      "[1] \"Screen time: 6.5 hours | Sleep time: 5.5 hours\"\n",
      "[1] \"Screen time: 6 hours | Sleep time: 6 hours\"\n",
      "[1] \"Screen time: 5.5 hours | Sleep time: 6.5 hours\"\n",
      "[1] \"Screen time: 5 hours | Sleep time: 7 hours\"\n",
      "[1] \"Screen time: 4.5 hours | Sleep time: 7.5 hours\"\n",
      "[1] \"Screen time: 4 hours | Sleep time: 8 hours\"\n",
      "[1] \"Screen time: 3.5 hours | Sleep time: 8.5 hours\"\n",
      "[1] \"Screen time: 3 hours | Sleep time: 9 hours\"\n",
      "[1] \"Screen time: 2.5 hours | Sleep time: 9.5 hours\"\n"
     ]
    }
   ],
   "source": [
    "screen_time <- 10\n",
    "sleep_time <- 2\n",
    "while (screen_time > 2) {\n",
    "  print(paste(\"Screen time:\", screen_time, \"hours | Sleep time:\", sleep_time, \"hours\"))\n",
    "  screen_time <- screen_time - 0.5\n",
    "  sleep_time <- sleep_time + 0.5\n",
    "}"
   ]
  },
  {
   "cell_type": "code",
   "execution_count": 21,
   "id": "e0b28f0e-f730-468f-bef2-418ae69ce300",
   "metadata": {},
   "outputs": [
    {
     "name": "stdout",
     "output_type": "stream",
     "text": [
      "Screen time: 10 hours | Sleep time: 2 hoursScreen time: 9.5 hours | Sleep time: 2.5 hoursScreen time: 9 hours | Sleep time: 3 hoursScreen time: 8.5 hours | Sleep time: 3.5 hoursScreen time: 8 hours | Sleep time: 4 hoursScreen time: 7.5 hours | Sleep time: 4.5 hoursScreen time: 7 hours | Sleep time: 5 hoursScreen time: 6.5 hours | Sleep time: 5.5 hoursScreen time: 6 hours | Sleep time: 6 hoursScreen time: 5.5 hours | Sleep time: 6.5 hoursScreen time: 5 hours | Sleep time: 7 hoursScreen time: 4.5 hours | Sleep time: 7.5 hoursScreen time: 4 hours | Sleep time: 8 hoursScreen time: 3.5 hours | Sleep time: 8.5 hoursScreen time: 3 hours | Sleep time: 9 hoursScreen time: 2.5 hours | Sleep time: 9.5 hours"
     ]
    }
   ],
   "source": [
    "screen_time <- 10\n",
    "sleep_time <- 2\n",
    "while (screen_time > 2) {\n",
    "  cat(\"Screen time:\", screen_time, \"hours | Sleep time:\", sleep_time, \"hours\")\n",
    "  screen_time <- screen_time - 0.5\n",
    "  sleep_time <- sleep_time + 0.5\n",
    "}"
   ]
  },
  {
   "cell_type": "markdown",
   "id": "7e0020f5-e808-4a7a-8ff7-ca2f4ab7dbbe",
   "metadata": {},
   "source": [
    "One key difference I notice between cat() and print(paste()) is that the cat() function does not print the results in a new line. The print and paste functions print the results of each iteration in a new line, while the cat function does not. "
   ]
  },
  {
   "cell_type": "markdown",
   "id": "244c0f37-bb48-41c6-acc1-1e68afdf134c",
   "metadata": {},
   "source": [
    "# Question 4"
   ]
  },
  {
   "cell_type": "code",
   "execution_count": 22,
   "id": "6d9e1e97-9615-4307-bb6a-71ea960bf732",
   "metadata": {},
   "outputs": [],
   "source": [
    "characters <- read.csv(\"/anvil/projects/tdm/data/starwars/characters.csv\")"
   ]
  },
  {
   "cell_type": "code",
   "execution_count": 23,
   "id": "0ee7d7dd-1f4d-48a0-8c35-6a3ab4cc4b01",
   "metadata": {},
   "outputs": [],
   "source": [
    "i <- 1\n",
    "char_count <- 0\n",
    "non_human <- 0"
   ]
  },
  {
   "cell_type": "code",
   "execution_count": 24,
   "id": "6ddb1dae-29e0-4b61-a388-ff0674a3c994",
   "metadata": {},
   "outputs": [
    {
     "name": "stdout",
     "output_type": "stream",
     "text": [
      "0 This is a human\n",
      "1 This is a human\n",
      "2 This is a human\n",
      "[1] \"This is not a human\"\n",
      "4 This is a human\n",
      "[1] \"This is not a human\"\n",
      "6 This is a human\n",
      "7 This is a human\n",
      "8 This is a human\n",
      "9 This is a human\n",
      "10 This is a human\n",
      "11 This is a human\n",
      "[1] \"This is not a human\"\n",
      "13 This is a human\n",
      "14 This is a human\n",
      "15 This is a human\n",
      "16 This is a human\n",
      "17 This is a human\n",
      "[1] \"This is not a human\"\n",
      "[1] \"This is not a human\"\n"
     ]
    }
   ],
   "source": [
    "while (char_count < 20) {\n",
    "\n",
    "    if(characters$species[i] == \"Human\"){\n",
    "        cat(char_count, \"This is a human\\n\")\n",
    "    }\n",
    "    else {\n",
    "        print(\"This is not a human\")\n",
    "        non_human <- non_human + 1\n",
    "    }\n",
    "    i <- i + 1\n",
    "    char_count <- char_count + 1\n",
    "}"
   ]
  },
  {
   "cell_type": "code",
   "execution_count": 25,
   "id": "4e210c9f-f7f1-4fa9-a6ab-8ad0c38d326d",
   "metadata": {},
   "outputs": [
    {
     "name": "stdout",
     "output_type": "stream",
     "text": [
      "The number of non humans:  5"
     ]
    }
   ],
   "source": [
    "cat(\"The number of non humans: \", non_human)"
   ]
  },
  {
   "cell_type": "code",
   "execution_count": 26,
   "id": "4bf513b2-6b0d-4fe2-981a-f74b38079049",
   "metadata": {},
   "outputs": [],
   "source": [
    "no_humans <- sum(head(characters$species, 20) != \"Human\")"
   ]
  },
  {
   "cell_type": "code",
   "execution_count": 27,
   "id": "3bd28898-769f-4e2d-b426-3e3495b5edd5",
   "metadata": {},
   "outputs": [
    {
     "name": "stdout",
     "output_type": "stream",
     "text": [
      "The number of non humans(without using a loop):  5"
     ]
    }
   ],
   "source": [
    "cat(\"The number of non humans(without using a loop): \", no_humans)"
   ]
  },
  {
   "cell_type": "markdown",
   "id": "1cec11c4-0bd5-472a-820b-50503bd75fda",
   "metadata": {},
   "source": [
    "# Question 5"
   ]
  },
  {
   "cell_type": "code",
   "execution_count": 28,
   "id": "1364177b-fbb3-4fe1-b1bd-6464e3712375",
   "metadata": {},
   "outputs": [
    {
     "name": "stdout",
     "output_type": "stream",
     "text": [
      "0 +  1 = 1 \n",
      "1 +  4 = 5 \n",
      "5 +  5 = 10 \n",
      "10 +  2 = 12 \n",
      "12 +  8 = 20 \n",
      "20 +  4 = 24 \n",
      "24 +  6 = 30 \n",
      "30 +  3 = 33 \n",
      "33 +  9 = 42 \n",
      "[1] \"You win!!!!!!\"\n"
     ]
    }
   ],
   "source": [
    "my_vec <- c(1, 4, 5, 2, 8, 4, 6, 3, 9, 3, 2, 2, 4, 1)\n",
    "i <- 1\n",
    "total_count <- 0\n",
    "repeat {\n",
    "    my_score <- my_vec[i]\n",
    "    cat(total_count, \"+ \", my_score, \"= \")\n",
    "    total_count <- total_count + my_score\n",
    "    cat(total_count, \"\\n\")\n",
    "\n",
    "    if (total_count > 40) {\n",
    "        print(\"You win!!!!!!\")\n",
    "        break\n",
    "    }\n",
    "    \n",
    "    i <- i + 1\n",
    "}"
   ]
  },
  {
   "cell_type": "code",
   "execution_count": 30,
   "id": "84bf45c7-6991-4b1e-8548-76a91b376272",
   "metadata": {},
   "outputs": [
    {
     "name": "stdout",
     "output_type": "stream",
     "text": [
      "Mental health of student 1 is 6 \n",
      "Current mental health score is 1 \n",
      "\n",
      "Mental health of student 2 is 8 \n",
      "Current mental health score is 7 \n",
      "\n",
      "Mental health of student 3 is 5 \n",
      "Current mental health score is 15 \n",
      "\n",
      "Mental health of student 4 is 7 \n",
      "Current mental health score is 20 \n",
      "\n",
      "Mental health of student 5 is 6 \n",
      "Current mental health score is 27 \n",
      "\n",
      "Mental health of student 6 is 4 \n",
      "Current mental health score is 33 \n",
      "\n",
      "Mental health of student 7 is 9 \n",
      "Current mental health score is 37 \n",
      "\n",
      "Mental health of student 8 is 6 \n",
      "Current mental health score is 46 \n",
      "\n",
      "Mental health of student 9 is 7 \n",
      "Current mental health score is 52 \n",
      "\n",
      "Mental health of student 10 is 7 \n",
      "Current mental health score is 59 \n",
      "\n",
      "Mental health of student 11 is 5 \n",
      "Current mental health score is 66 \n",
      "\n",
      "Mental health of student 12 is 6 \n",
      "Current mental health score is 71 \n",
      "\n",
      "Mental health of student 13 is 8 \n",
      "Current mental health score is 77 \n",
      "\n",
      "Mental health of student 14 is 5 \n",
      "Current mental health score is 85 \n",
      "\n",
      "Mental health of student 15 is 7 \n",
      "Current mental health score is 90 \n",
      "\n",
      "Mental health of student 16 is 6 \n",
      "Current mental health score is 97 \n",
      "\n",
      "[1] \"ALLL DONEEEEE\"\n"
     ]
    }
   ],
   "source": [
    "i <- 1\n",
    "total_count <- 1\n",
    "\n",
    "repeat {\n",
    "    student_score <- myDF$Mental_Health_Score[i]\n",
    "    cat(\"Mental health of student\", i, \"is\", student_score, \"\\n\")\n",
    "    cat(\"Current mental health score is\", total_count, \"\\n\\n\")\n",
    "    total_count <- total_count + student_score\n",
    "\n",
    "    if (total_count >= 100) {\n",
    "        print(\"ALLL DONEEEEE\")\n",
    "        break\n",
    "    }\n",
    "\n",
    "    i <- i + 1\n",
    "}"
   ]
  },
  {
   "cell_type": "markdown",
   "id": "2449bd0d-71e8-4c06-b648-b3125fc05429",
   "metadata": {},
   "source": [
    "The difference between the while loop and the repeat loop is that the while loop checks the condition before it iterates through, while the repeat loop continues through iterations until a break is inserted."
   ]
  }
 ],
 "metadata": {
  "kernelspec": {
   "display_name": "seminar-r",
   "language": "R",
   "name": "seminar-r"
  },
  "language_info": {
   "codemirror_mode": "r",
   "file_extension": ".r",
   "mimetype": "text/x-r-source",
   "name": "R",
   "pygments_lexer": "r",
   "version": "4.4.3"
  }
 },
 "nbformat": 4,
 "nbformat_minor": 5
}
