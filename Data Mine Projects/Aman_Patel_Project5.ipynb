{
 "cells": [
  {
   "cell_type": "markdown",
   "id": "69bd7224-5b9d-4c26-ac62-f3496707112a",
   "metadata": {},
   "source": [
    "# Project 5 -- Aman Patel"
   ]
  },
  {
   "cell_type": "markdown",
   "id": "b3570c46-7f15-4298-bfca-ca9e7ef9fb04",
   "metadata": {},
   "source": [
    "# Question 1"
   ]
  },
  {
   "cell_type": "code",
   "execution_count": 3,
   "id": "23e6e69d-4251-4e4a-b665-844ce83f0d3e",
   "metadata": {},
   "outputs": [],
   "source": [
    "myDF <- read.csv(\"/anvil/projects/tdm/data/flights/subset/2006.csv\")\n",
    "options(repr.matrix.max.cols=100, repr.matrix.max.rows=100)"
   ]
  },
  {
   "cell_type": "code",
   "execution_count": 4,
   "id": "107f6ca9-c981-432e-ac4d-b12cab1276ff",
   "metadata": {},
   "outputs": [
    {
     "data": {
      "text/html": [
       "<table class=\"dataframe\">\n",
       "<caption>A data.frame: 6 x 29</caption>\n",
       "<thead>\n",
       "\t<tr><th></th><th scope=col>Year</th><th scope=col>Month</th><th scope=col>DayofMonth</th><th scope=col>DayOfWeek</th><th scope=col>DepTime</th><th scope=col>CRSDepTime</th><th scope=col>ArrTime</th><th scope=col>CRSArrTime</th><th scope=col>UniqueCarrier</th><th scope=col>FlightNum</th><th scope=col>TailNum</th><th scope=col>ActualElapsedTime</th><th scope=col>CRSElapsedTime</th><th scope=col>AirTime</th><th scope=col>ArrDelay</th><th scope=col>DepDelay</th><th scope=col>Origin</th><th scope=col>Dest</th><th scope=col>Distance</th><th scope=col>TaxiIn</th><th scope=col>TaxiOut</th><th scope=col>Cancelled</th><th scope=col>CancellationCode</th><th scope=col>Diverted</th><th scope=col>CarrierDelay</th><th scope=col>WeatherDelay</th><th scope=col>NASDelay</th><th scope=col>SecurityDelay</th><th scope=col>LateAircraftDelay</th></tr>\n",
       "\t<tr><th></th><th scope=col>&lt;int&gt;</th><th scope=col>&lt;int&gt;</th><th scope=col>&lt;int&gt;</th><th scope=col>&lt;int&gt;</th><th scope=col>&lt;int&gt;</th><th scope=col>&lt;int&gt;</th><th scope=col>&lt;int&gt;</th><th scope=col>&lt;int&gt;</th><th scope=col>&lt;chr&gt;</th><th scope=col>&lt;int&gt;</th><th scope=col>&lt;chr&gt;</th><th scope=col>&lt;int&gt;</th><th scope=col>&lt;int&gt;</th><th scope=col>&lt;int&gt;</th><th scope=col>&lt;int&gt;</th><th scope=col>&lt;int&gt;</th><th scope=col>&lt;chr&gt;</th><th scope=col>&lt;chr&gt;</th><th scope=col>&lt;int&gt;</th><th scope=col>&lt;int&gt;</th><th scope=col>&lt;int&gt;</th><th scope=col>&lt;int&gt;</th><th scope=col>&lt;chr&gt;</th><th scope=col>&lt;int&gt;</th><th scope=col>&lt;int&gt;</th><th scope=col>&lt;int&gt;</th><th scope=col>&lt;int&gt;</th><th scope=col>&lt;int&gt;</th><th scope=col>&lt;int&gt;</th></tr>\n",
       "</thead>\n",
       "<tbody>\n",
       "\t<tr><th scope=row>1</th><td>2006</td><td>1</td><td>11</td><td>3</td><td> 743</td><td> 745</td><td>1024</td><td>1018</td><td>US</td><td>343</td><td>N657AW</td><td>281</td><td>273</td><td>223</td><td>  6</td><td>-2</td><td>ATL</td><td>PHX</td><td>1587</td><td>45</td><td>13</td><td>0</td><td></td><td>0</td><td>0</td><td>0</td><td>0</td><td>0</td><td>0</td></tr>\n",
       "\t<tr><th scope=row>2</th><td>2006</td><td>1</td><td>11</td><td>3</td><td>1053</td><td>1053</td><td>1313</td><td>1318</td><td>US</td><td>613</td><td>N834AW</td><td>260</td><td>265</td><td>214</td><td> -5</td><td> 0</td><td>ATL</td><td>PHX</td><td>1587</td><td>27</td><td>19</td><td>0</td><td></td><td>0</td><td>0</td><td>0</td><td>0</td><td>0</td><td>0</td></tr>\n",
       "\t<tr><th scope=row>3</th><td>2006</td><td>1</td><td>11</td><td>3</td><td>1915</td><td>1915</td><td>2110</td><td>2133</td><td>US</td><td>617</td><td>N605AW</td><td>235</td><td>258</td><td>220</td><td>-23</td><td> 0</td><td>ATL</td><td>PHX</td><td>1587</td><td> 4</td><td>11</td><td>0</td><td></td><td>0</td><td>0</td><td>0</td><td>0</td><td>0</td><td>0</td></tr>\n",
       "\t<tr><th scope=row>4</th><td>2006</td><td>1</td><td>11</td><td>3</td><td>1753</td><td>1755</td><td>1925</td><td>1933</td><td>US</td><td>300</td><td>N312AW</td><td>152</td><td>158</td><td>126</td><td> -8</td><td>-2</td><td>AUS</td><td>PHX</td><td> 872</td><td>16</td><td>10</td><td>0</td><td></td><td>0</td><td>0</td><td>0</td><td>0</td><td>0</td><td>0</td></tr>\n",
       "\t<tr><th scope=row>5</th><td>2006</td><td>1</td><td>11</td><td>3</td><td> 824</td><td> 832</td><td>1015</td><td>1015</td><td>US</td><td>765</td><td>N309AW</td><td>171</td><td>163</td><td>132</td><td>  0</td><td>-8</td><td>AUS</td><td>PHX</td><td> 872</td><td>27</td><td>12</td><td>0</td><td></td><td>0</td><td>0</td><td>0</td><td>0</td><td>0</td><td>0</td></tr>\n",
       "\t<tr><th scope=row>6</th><td>2006</td><td>1</td><td>11</td><td>3</td><td> 627</td><td> 630</td><td> 834</td><td> 832</td><td>US</td><td>295</td><td>N733UW</td><td>127</td><td>122</td><td>108</td><td>  2</td><td>-3</td><td>BDL</td><td>CLT</td><td> 644</td><td> 6</td><td>13</td><td>0</td><td></td><td>0</td><td>0</td><td>0</td><td>0</td><td>0</td><td>0</td></tr>\n",
       "</tbody>\n",
       "</table>\n"
      ],
      "text/latex": [
       "A data.frame: 6 x 29\n",
       "\\begin{tabular}{r|lllllllllllllllllllllllllllll}\n",
       "  & Year & Month & DayofMonth & DayOfWeek & DepTime & CRSDepTime & ArrTime & CRSArrTime & UniqueCarrier & FlightNum & TailNum & ActualElapsedTime & CRSElapsedTime & AirTime & ArrDelay & DepDelay & Origin & Dest & Distance & TaxiIn & TaxiOut & Cancelled & CancellationCode & Diverted & CarrierDelay & WeatherDelay & NASDelay & SecurityDelay & LateAircraftDelay\\\\\n",
       "  & <int> & <int> & <int> & <int> & <int> & <int> & <int> & <int> & <chr> & <int> & <chr> & <int> & <int> & <int> & <int> & <int> & <chr> & <chr> & <int> & <int> & <int> & <int> & <chr> & <int> & <int> & <int> & <int> & <int> & <int>\\\\\n",
       "\\hline\n",
       "\t1 & 2006 & 1 & 11 & 3 &  743 &  745 & 1024 & 1018 & US & 343 & N657AW & 281 & 273 & 223 &   6 & -2 & ATL & PHX & 1587 & 45 & 13 & 0 &  & 0 & 0 & 0 & 0 & 0 & 0\\\\\n",
       "\t2 & 2006 & 1 & 11 & 3 & 1053 & 1053 & 1313 & 1318 & US & 613 & N834AW & 260 & 265 & 214 &  -5 &  0 & ATL & PHX & 1587 & 27 & 19 & 0 &  & 0 & 0 & 0 & 0 & 0 & 0\\\\\n",
       "\t3 & 2006 & 1 & 11 & 3 & 1915 & 1915 & 2110 & 2133 & US & 617 & N605AW & 235 & 258 & 220 & -23 &  0 & ATL & PHX & 1587 &  4 & 11 & 0 &  & 0 & 0 & 0 & 0 & 0 & 0\\\\\n",
       "\t4 & 2006 & 1 & 11 & 3 & 1753 & 1755 & 1925 & 1933 & US & 300 & N312AW & 152 & 158 & 126 &  -8 & -2 & AUS & PHX &  872 & 16 & 10 & 0 &  & 0 & 0 & 0 & 0 & 0 & 0\\\\\n",
       "\t5 & 2006 & 1 & 11 & 3 &  824 &  832 & 1015 & 1015 & US & 765 & N309AW & 171 & 163 & 132 &   0 & -8 & AUS & PHX &  872 & 27 & 12 & 0 &  & 0 & 0 & 0 & 0 & 0 & 0\\\\\n",
       "\t6 & 2006 & 1 & 11 & 3 &  627 &  630 &  834 &  832 & US & 295 & N733UW & 127 & 122 & 108 &   2 & -3 & BDL & CLT &  644 &  6 & 13 & 0 &  & 0 & 0 & 0 & 0 & 0 & 0\\\\\n",
       "\\end{tabular}\n"
      ],
      "text/markdown": [
       "\n",
       "A data.frame: 6 x 29\n",
       "\n",
       "| <!--/--> | Year &lt;int&gt; | Month &lt;int&gt; | DayofMonth &lt;int&gt; | DayOfWeek &lt;int&gt; | DepTime &lt;int&gt; | CRSDepTime &lt;int&gt; | ArrTime &lt;int&gt; | CRSArrTime &lt;int&gt; | UniqueCarrier &lt;chr&gt; | FlightNum &lt;int&gt; | TailNum &lt;chr&gt; | ActualElapsedTime &lt;int&gt; | CRSElapsedTime &lt;int&gt; | AirTime &lt;int&gt; | ArrDelay &lt;int&gt; | DepDelay &lt;int&gt; | Origin &lt;chr&gt; | Dest &lt;chr&gt; | Distance &lt;int&gt; | TaxiIn &lt;int&gt; | TaxiOut &lt;int&gt; | Cancelled &lt;int&gt; | CancellationCode &lt;chr&gt; | Diverted &lt;int&gt; | CarrierDelay &lt;int&gt; | WeatherDelay &lt;int&gt; | NASDelay &lt;int&gt; | SecurityDelay &lt;int&gt; | LateAircraftDelay &lt;int&gt; |\n",
       "|---|---|---|---|---|---|---|---|---|---|---|---|---|---|---|---|---|---|---|---|---|---|---|---|---|---|---|---|---|---|\n",
       "| 1 | 2006 | 1 | 11 | 3 |  743 |  745 | 1024 | 1018 | US | 343 | N657AW | 281 | 273 | 223 |   6 | -2 | ATL | PHX | 1587 | 45 | 13 | 0 | <!----> | 0 | 0 | 0 | 0 | 0 | 0 |\n",
       "| 2 | 2006 | 1 | 11 | 3 | 1053 | 1053 | 1313 | 1318 | US | 613 | N834AW | 260 | 265 | 214 |  -5 |  0 | ATL | PHX | 1587 | 27 | 19 | 0 | <!----> | 0 | 0 | 0 | 0 | 0 | 0 |\n",
       "| 3 | 2006 | 1 | 11 | 3 | 1915 | 1915 | 2110 | 2133 | US | 617 | N605AW | 235 | 258 | 220 | -23 |  0 | ATL | PHX | 1587 |  4 | 11 | 0 | <!----> | 0 | 0 | 0 | 0 | 0 | 0 |\n",
       "| 4 | 2006 | 1 | 11 | 3 | 1753 | 1755 | 1925 | 1933 | US | 300 | N312AW | 152 | 158 | 126 |  -8 | -2 | AUS | PHX |  872 | 16 | 10 | 0 | <!----> | 0 | 0 | 0 | 0 | 0 | 0 |\n",
       "| 5 | 2006 | 1 | 11 | 3 |  824 |  832 | 1015 | 1015 | US | 765 | N309AW | 171 | 163 | 132 |   0 | -8 | AUS | PHX |  872 | 27 | 12 | 0 | <!----> | 0 | 0 | 0 | 0 | 0 | 0 |\n",
       "| 6 | 2006 | 1 | 11 | 3 |  627 |  630 |  834 |  832 | US | 295 | N733UW | 127 | 122 | 108 |   2 | -3 | BDL | CLT |  644 |  6 | 13 | 0 | <!----> | 0 | 0 | 0 | 0 | 0 | 0 |\n",
       "\n"
      ],
      "text/plain": [
       "  Year Month DayofMonth DayOfWeek DepTime CRSDepTime ArrTime CRSArrTime\n",
       "1 2006 1     11         3          743     745       1024    1018      \n",
       "2 2006 1     11         3         1053    1053       1313    1318      \n",
       "3 2006 1     11         3         1915    1915       2110    2133      \n",
       "4 2006 1     11         3         1753    1755       1925    1933      \n",
       "5 2006 1     11         3          824     832       1015    1015      \n",
       "6 2006 1     11         3          627     630        834     832      \n",
       "  UniqueCarrier FlightNum TailNum ActualElapsedTime CRSElapsedTime AirTime\n",
       "1 US            343       N657AW  281               273            223    \n",
       "2 US            613       N834AW  260               265            214    \n",
       "3 US            617       N605AW  235               258            220    \n",
       "4 US            300       N312AW  152               158            126    \n",
       "5 US            765       N309AW  171               163            132    \n",
       "6 US            295       N733UW  127               122            108    \n",
       "  ArrDelay DepDelay Origin Dest Distance TaxiIn TaxiOut Cancelled\n",
       "1   6      -2       ATL    PHX  1587     45     13      0        \n",
       "2  -5       0       ATL    PHX  1587     27     19      0        \n",
       "3 -23       0       ATL    PHX  1587      4     11      0        \n",
       "4  -8      -2       AUS    PHX   872     16     10      0        \n",
       "5   0      -8       AUS    PHX   872     27     12      0        \n",
       "6   2      -3       BDL    CLT   644      6     13      0        \n",
       "  CancellationCode Diverted CarrierDelay WeatherDelay NASDelay SecurityDelay\n",
       "1                  0        0            0            0        0            \n",
       "2                  0        0            0            0        0            \n",
       "3                  0        0            0            0        0            \n",
       "4                  0        0            0            0        0            \n",
       "5                  0        0            0            0        0            \n",
       "6                  0        0            0            0        0            \n",
       "  LateAircraftDelay\n",
       "1 0                \n",
       "2 0                \n",
       "3 0                \n",
       "4 0                \n",
       "5 0                \n",
       "6 0                "
      ]
     },
     "metadata": {},
     "output_type": "display_data"
    }
   ],
   "source": [
    "head(myDF)"
   ]
  },
  {
   "cell_type": "code",
   "execution_count": 5,
   "id": "16060a00-5fe1-40d4-92f5-42c892063390",
   "metadata": {},
   "outputs": [],
   "source": [
    "pa_flights <- myDF[myDF$Dest == \"PHL\", ]"
   ]
  },
  {
   "cell_type": "code",
   "execution_count": 6,
   "id": "834cc2f8-2a59-452d-87c4-f3b42353b1fa",
   "metadata": {},
   "outputs": [
    {
     "data": {
      "text/html": [
       "66"
      ],
      "text/latex": [
       "66"
      ],
      "text/markdown": [
       "66"
      ],
      "text/plain": [
       "[1] 66"
      ]
     },
     "metadata": {},
     "output_type": "display_data"
    }
   ],
   "source": [
    "length(unique(pa_flights$Origin))"
   ]
  },
  {
   "cell_type": "markdown",
   "id": "0359b7c0-93c3-42ad-93b6-470025cad68e",
   "metadata": {},
   "source": [
    "When I was finding the length, I got a 6 digit number, but then I read up about the unique() function (link posted below) and learned that using the unique function prints the length without counting the repeated values.\n",
    "\n",
    "Link URL: https://www.geeksforgeeks.org/r-language/unique-function-in-r"
   ]
  },
  {
   "cell_type": "code",
   "execution_count": 7,
   "id": "b893dfe4-5fdd-4f1e-af41-8133afac2d4d",
   "metadata": {},
   "outputs": [
    {
     "data": {
      "text/html": [
       "<strong>BOS:</strong> 63.9128799277761"
      ],
      "text/latex": [
       "\\textbf{BOS:} 63.9128799277761"
      ],
      "text/markdown": [
       "**BOS:** 63.9128799277761"
      ],
      "text/plain": [
       "     BOS \n",
       "63.91288 "
      ]
     },
     "metadata": {},
     "output_type": "display_data"
    }
   ],
   "source": [
    "tail(sort(tapply(pa_flights$AirTime, pa_flights$Origin, mean, na.rm=TRUE)[\"BOS\"]))"
   ]
  },
  {
   "cell_type": "code",
   "execution_count": 8,
   "id": "4c838e60-0807-4b2f-92d6-49a342dfdead",
   "metadata": {},
   "outputs": [],
   "source": [
    "phx_flights <- myDF[myDF$Dest == \"PHX\", ]"
   ]
  },
  {
   "cell_type": "code",
   "execution_count": 9,
   "id": "ecd67e0d-80ab-4dcf-a417-78e05d38581b",
   "metadata": {},
   "outputs": [
    {
     "data": {
      "text/html": [
       "<style>\n",
       ".dl-inline {width: auto; margin:0; padding: 0}\n",
       ".dl-inline>dt, .dl-inline>dd {float: none; width: auto; display: inline-block}\n",
       ".dl-inline>dt::after {content: \":\\0020\"; padding-right: .5ex}\n",
       ".dl-inline>dt:not(:first-of-type) {padding-left: .5ex}\n",
       "</style><dl class=dl-inline><dt>TUS</dt><dd>26.9666431759455</dd><dt>FLG</dt><dd>40.2987249544627</dd><dt>YUM</dt><dd>40.4263521288838</dd><dt>LAS</dt><dd>45.641012307159</dd><dt>SAN</dt><dd>50.1933243727599</dd><dt>PSP</dt><dd>50.4345137717819</dd><dt>ONT</dt><dd>51.7382215288612</dd><dt>SNA</dt><dd>53.3778897966278</dd><dt>ABQ</dt><dd>56.551711776304</dd><dt>LGB</dt><dd>56.9418537708693</dd><dt>ELP</dt><dd>57.5211301044634</dd><dt>LAX</dt><dd>57.7657882983475</dd><dt>BUR</dt><dd>63.6642482869811</dd><dt>SBA</dt><dd>68.9002816901408</dd><dt>BFL</dt><dd>69.9775910364146</dd><dt>CLD</dt><dd>73.9427083333333</dd><dt>SLC</dt><dd>74.6744376949598</dd><dt>SBP</dt><dd>76.7960992907801</dd><dt>FAT</dt><dd>79.727016356458</dd><dt>DRO</dt><dd>81.3543743078627</dd><dt>RNO</dt><dd>83.3062248995984</dd><dt>MRY</dt><dd>85.2338028169014</dd><dt>COS</dt><dd>86.4053271569195</dd><dt>AMA</dt><dd>87</dd><dt>SJC</dt><dd>87.2170542635659</dd><dt>SMF</dt><dd>89.8982182628062</dd><dt>DEN</dt><dd>90.0806882230792</dd><dt>GJT</dt><dd>90.7059405940594</dd><dt>SFO</dt><dd>91.3750652060511</dd><dt>OAK</dt><dd>92.082</dd><dt>TEX</dt><dd>94.6166666666667</dd><dt>BOI</dt><dd>100.683492496589</dd><dt>ASE</dt><dd>114.832740213523</dd><dt>MFR</dt><dd>115.846534653465</dd><dt>BIL</dt><dd>117.411764705882</dd><dt>SAT</dt><dd>123.295046661881</dd><dt>OKC</dt><dd>123.502247191011</dd><dt>AUS</dt><dd>125.903653295129</dd><dt>EUG</dt><dd>126.632857142857</dd><dt>ICT</dt><dd>127.046153846154</dd><dt>DFW</dt><dd>127.23543731525</dd><dt>PDX</dt><dd>133.597570235383</dd><dt>GEG</dt><dd>134.310843373494</dd><dt>TUL</dt><dd>136.760787992495</dd><dt>FCA</dt><dd>136.884210526316</dd><dt>IAH</dt><dd>142.790337078652</dd><dt>SEA</dt><dd>144.871833364609</dd><dt>HOU</dt><dd>145.958239277652</dd><dt>OMA</dt><dd>146.191006026889</dd><dt>MCI</dt><dd>149.678036605657</dd><dt>FSD</dt><dd>154.488888888889</dd><dt>DSM</dt><dd>163.03717472119</dd><dt>LIT</dt><dd>165.35989010989</dd><dt>MSP</dt><dd>174.646290636288</dd><dt>MEM</dt><dd>178.683287165282</dd><dt>MSY</dt><dd>179.820388349515</dd><dt>STL</dt><dd>180.049268912905</dd><dt>ORD</dt><dd>197.667613161851</dd><dt>MDW</dt><dd>199.670997191011</dd><dt>BNA</dt><dd>202.273044692737</dd><dt>MKE</dt><dd>205.686192468619</dd><dt>BHM</dt><dd>206.941988950276</dd><dt>IND</dt><dd>209.638927097662</dd><dt>SDF</dt><dd>213.172602739726</dd><dt>ATL</dt><dd>218.62524005487</dd><dt>CVG</dt><dd>219.869451697128</dd><dt>CMH</dt><dd>229.734317343173</dd><dt>DTW</dt><dd>230.202558635394</dd><dt>JFK</dt><dd>235.242747187685</dd><dt>CLE</dt><dd>238.375299760192</dd><dt>CLT</dt><dd>243.609354413702</dd><dt>TPA</dt><dd>247.300275482094</dd><dt>PIT</dt><dd>248.172175249808</dd><dt>MCO</dt><dd>252.86593204775</dd><dt>BUF</dt><dd>261.917355371901</dd><dt>RDU</dt><dd>264.502120441052</dd><dt>FLL</dt><dd>269.468899521531</dd><dt>IAD</dt><dd>269.646353646354</dd><dt>DCA</dt><dd>271.855421686747</dd><dt>BWI</dt><dd>275.230011815675</dd><dt>MIA</dt><dd>277.227488151659</dd><dt>PHL</dt><dd>281.353367125272</dd><dt>BOS</dt><dd>282.6866359447</dd><dt>EWR</dt><dd>291.777103866566</dd><dt>ANC</dt><dd>303.837988826816</dd><dt>BDL</dt><dd>304.963585434174</dd><dt>PVD</dt><dd>314.596973865199</dd><dt>OGG</dt><dd>317.876420454545</dd><dt>KOA</dt><dd>319.18410041841</dd><dt>LIH</dt><dd>333.385593220339</dd><dt>HNL</dt><dd>378.04469273743</dd></dl>\n"
      ],
      "text/latex": [
       "\\begin{description*}\n",
       "\\item[TUS] 26.9666431759455\n",
       "\\item[FLG] 40.2987249544627\n",
       "\\item[YUM] 40.4263521288838\n",
       "\\item[LAS] 45.641012307159\n",
       "\\item[SAN] 50.1933243727599\n",
       "\\item[PSP] 50.4345137717819\n",
       "\\item[ONT] 51.7382215288612\n",
       "\\item[SNA] 53.3778897966278\n",
       "\\item[ABQ] 56.551711776304\n",
       "\\item[LGB] 56.9418537708693\n",
       "\\item[ELP] 57.5211301044634\n",
       "\\item[LAX] 57.7657882983475\n",
       "\\item[BUR] 63.6642482869811\n",
       "\\item[SBA] 68.9002816901408\n",
       "\\item[BFL] 69.9775910364146\n",
       "\\item[CLD] 73.9427083333333\n",
       "\\item[SLC] 74.6744376949598\n",
       "\\item[SBP] 76.7960992907801\n",
       "\\item[FAT] 79.727016356458\n",
       "\\item[DRO] 81.3543743078627\n",
       "\\item[RNO] 83.3062248995984\n",
       "\\item[MRY] 85.2338028169014\n",
       "\\item[COS] 86.4053271569195\n",
       "\\item[AMA] 87\n",
       "\\item[SJC] 87.2170542635659\n",
       "\\item[SMF] 89.8982182628062\n",
       "\\item[DEN] 90.0806882230792\n",
       "\\item[GJT] 90.7059405940594\n",
       "\\item[SFO] 91.3750652060511\n",
       "\\item[OAK] 92.082\n",
       "\\item[TEX] 94.6166666666667\n",
       "\\item[BOI] 100.683492496589\n",
       "\\item[ASE] 114.832740213523\n",
       "\\item[MFR] 115.846534653465\n",
       "\\item[BIL] 117.411764705882\n",
       "\\item[SAT] 123.295046661881\n",
       "\\item[OKC] 123.502247191011\n",
       "\\item[AUS] 125.903653295129\n",
       "\\item[EUG] 126.632857142857\n",
       "\\item[ICT] 127.046153846154\n",
       "\\item[DFW] 127.23543731525\n",
       "\\item[PDX] 133.597570235383\n",
       "\\item[GEG] 134.310843373494\n",
       "\\item[TUL] 136.760787992495\n",
       "\\item[FCA] 136.884210526316\n",
       "\\item[IAH] 142.790337078652\n",
       "\\item[SEA] 144.871833364609\n",
       "\\item[HOU] 145.958239277652\n",
       "\\item[OMA] 146.191006026889\n",
       "\\item[MCI] 149.678036605657\n",
       "\\item[FSD] 154.488888888889\n",
       "\\item[DSM] 163.03717472119\n",
       "\\item[LIT] 165.35989010989\n",
       "\\item[MSP] 174.646290636288\n",
       "\\item[MEM] 178.683287165282\n",
       "\\item[MSY] 179.820388349515\n",
       "\\item[STL] 180.049268912905\n",
       "\\item[ORD] 197.667613161851\n",
       "\\item[MDW] 199.670997191011\n",
       "\\item[BNA] 202.273044692737\n",
       "\\item[MKE] 205.686192468619\n",
       "\\item[BHM] 206.941988950276\n",
       "\\item[IND] 209.638927097662\n",
       "\\item[SDF] 213.172602739726\n",
       "\\item[ATL] 218.62524005487\n",
       "\\item[CVG] 219.869451697128\n",
       "\\item[CMH] 229.734317343173\n",
       "\\item[DTW] 230.202558635394\n",
       "\\item[JFK] 235.242747187685\n",
       "\\item[CLE] 238.375299760192\n",
       "\\item[CLT] 243.609354413702\n",
       "\\item[TPA] 247.300275482094\n",
       "\\item[PIT] 248.172175249808\n",
       "\\item[MCO] 252.86593204775\n",
       "\\item[BUF] 261.917355371901\n",
       "\\item[RDU] 264.502120441052\n",
       "\\item[FLL] 269.468899521531\n",
       "\\item[IAD] 269.646353646354\n",
       "\\item[DCA] 271.855421686747\n",
       "\\item[BWI] 275.230011815675\n",
       "\\item[MIA] 277.227488151659\n",
       "\\item[PHL] 281.353367125272\n",
       "\\item[BOS] 282.6866359447\n",
       "\\item[EWR] 291.777103866566\n",
       "\\item[ANC] 303.837988826816\n",
       "\\item[BDL] 304.963585434174\n",
       "\\item[PVD] 314.596973865199\n",
       "\\item[OGG] 317.876420454545\n",
       "\\item[KOA] 319.18410041841\n",
       "\\item[LIH] 333.385593220339\n",
       "\\item[HNL] 378.04469273743\n",
       "\\end{description*}\n"
      ],
      "text/markdown": [
       "TUS\n",
       ":   26.9666431759455FLG\n",
       ":   40.2987249544627YUM\n",
       ":   40.4263521288838LAS\n",
       ":   45.641012307159SAN\n",
       ":   50.1933243727599PSP\n",
       ":   50.4345137717819ONT\n",
       ":   51.7382215288612SNA\n",
       ":   53.3778897966278ABQ\n",
       ":   56.551711776304LGB\n",
       ":   56.9418537708693ELP\n",
       ":   57.5211301044634LAX\n",
       ":   57.7657882983475BUR\n",
       ":   63.6642482869811SBA\n",
       ":   68.9002816901408BFL\n",
       ":   69.9775910364146CLD\n",
       ":   73.9427083333333SLC\n",
       ":   74.6744376949598SBP\n",
       ":   76.7960992907801FAT\n",
       ":   79.727016356458DRO\n",
       ":   81.3543743078627RNO\n",
       ":   83.3062248995984MRY\n",
       ":   85.2338028169014COS\n",
       ":   86.4053271569195AMA\n",
       ":   87SJC\n",
       ":   87.2170542635659SMF\n",
       ":   89.8982182628062DEN\n",
       ":   90.0806882230792GJT\n",
       ":   90.7059405940594SFO\n",
       ":   91.3750652060511OAK\n",
       ":   92.082TEX\n",
       ":   94.6166666666667BOI\n",
       ":   100.683492496589ASE\n",
       ":   114.832740213523MFR\n",
       ":   115.846534653465BIL\n",
       ":   117.411764705882SAT\n",
       ":   123.295046661881OKC\n",
       ":   123.502247191011AUS\n",
       ":   125.903653295129EUG\n",
       ":   126.632857142857ICT\n",
       ":   127.046153846154DFW\n",
       ":   127.23543731525PDX\n",
       ":   133.597570235383GEG\n",
       ":   134.310843373494TUL\n",
       ":   136.760787992495FCA\n",
       ":   136.884210526316IAH\n",
       ":   142.790337078652SEA\n",
       ":   144.871833364609HOU\n",
       ":   145.958239277652OMA\n",
       ":   146.191006026889MCI\n",
       ":   149.678036605657FSD\n",
       ":   154.488888888889DSM\n",
       ":   163.03717472119LIT\n",
       ":   165.35989010989MSP\n",
       ":   174.646290636288MEM\n",
       ":   178.683287165282MSY\n",
       ":   179.820388349515STL\n",
       ":   180.049268912905ORD\n",
       ":   197.667613161851MDW\n",
       ":   199.670997191011BNA\n",
       ":   202.273044692737MKE\n",
       ":   205.686192468619BHM\n",
       ":   206.941988950276IND\n",
       ":   209.638927097662SDF\n",
       ":   213.172602739726ATL\n",
       ":   218.62524005487CVG\n",
       ":   219.869451697128CMH\n",
       ":   229.734317343173DTW\n",
       ":   230.202558635394JFK\n",
       ":   235.242747187685CLE\n",
       ":   238.375299760192CLT\n",
       ":   243.609354413702TPA\n",
       ":   247.300275482094PIT\n",
       ":   248.172175249808MCO\n",
       ":   252.86593204775BUF\n",
       ":   261.917355371901RDU\n",
       ":   264.502120441052FLL\n",
       ":   269.468899521531IAD\n",
       ":   269.646353646354DCA\n",
       ":   271.855421686747BWI\n",
       ":   275.230011815675MIA\n",
       ":   277.227488151659PHL\n",
       ":   281.353367125272BOS\n",
       ":   282.6866359447EWR\n",
       ":   291.777103866566ANC\n",
       ":   303.837988826816BDL\n",
       ":   304.963585434174PVD\n",
       ":   314.596973865199OGG\n",
       ":   317.876420454545KOA\n",
       ":   319.18410041841LIH\n",
       ":   333.385593220339HNL\n",
       ":   378.04469273743\n",
       "\n"
      ],
      "text/plain": [
       "      TUS       FLG       YUM       LAS       SAN       PSP       ONT       SNA \n",
       " 26.96664  40.29872  40.42635  45.64101  50.19332  50.43451  51.73822  53.37789 \n",
       "      ABQ       LGB       ELP       LAX       BUR       SBA       BFL       CLD \n",
       " 56.55171  56.94185  57.52113  57.76579  63.66425  68.90028  69.97759  73.94271 \n",
       "      SLC       SBP       FAT       DRO       RNO       MRY       COS       AMA \n",
       " 74.67444  76.79610  79.72702  81.35437  83.30622  85.23380  86.40533  87.00000 \n",
       "      SJC       SMF       DEN       GJT       SFO       OAK       TEX       BOI \n",
       " 87.21705  89.89822  90.08069  90.70594  91.37507  92.08200  94.61667 100.68349 \n",
       "      ASE       MFR       BIL       SAT       OKC       AUS       EUG       ICT \n",
       "114.83274 115.84653 117.41176 123.29505 123.50225 125.90365 126.63286 127.04615 \n",
       "      DFW       PDX       GEG       TUL       FCA       IAH       SEA       HOU \n",
       "127.23544 133.59757 134.31084 136.76079 136.88421 142.79034 144.87183 145.95824 \n",
       "      OMA       MCI       FSD       DSM       LIT       MSP       MEM       MSY \n",
       "146.19101 149.67804 154.48889 163.03717 165.35989 174.64629 178.68329 179.82039 \n",
       "      STL       ORD       MDW       BNA       MKE       BHM       IND       SDF \n",
       "180.04927 197.66761 199.67100 202.27304 205.68619 206.94199 209.63893 213.17260 \n",
       "      ATL       CVG       CMH       DTW       JFK       CLE       CLT       TPA \n",
       "218.62524 219.86945 229.73432 230.20256 235.24275 238.37530 243.60935 247.30028 \n",
       "      PIT       MCO       BUF       RDU       FLL       IAD       DCA       BWI \n",
       "248.17218 252.86593 261.91736 264.50212 269.46890 269.64635 271.85542 275.23001 \n",
       "      MIA       PHL       BOS       EWR       ANC       BDL       PVD       OGG \n",
       "277.22749 281.35337 282.68664 291.77710 303.83799 304.96359 314.59697 317.87642 \n",
       "      KOA       LIH       HNL \n",
       "319.18410 333.38559 378.04469 "
      ]
     },
     "metadata": {},
     "output_type": "display_data"
    }
   ],
   "source": [
    "sort(tapply(phx_flights$AirTime, phx_flights$Origin, mean, na.rm=TRUE))"
   ]
  },
  {
   "cell_type": "markdown",
   "id": "247f3e51-4a2d-4b54-8f50-285fa3df1552",
   "metadata": {},
   "source": [
    "1.1 PHL has 66 flight origins in 2006\n",
    "\n",
    "1.2 Flights leaving BOS had an average air time of 63.913\n",
    "\n",
    "1.3 The average air time across each origin for flights ending in PHX is posted above, with HNL having the highest air time average"
   ]
  },
  {
   "cell_type": "markdown",
   "id": "0fe71bb1-0a56-406b-8078-db939129ca87",
   "metadata": {},
   "source": [
    "# Question 2"
   ]
  },
  {
   "cell_type": "code",
   "execution_count": 10,
   "id": "07a595bc-5508-4ec2-8b4a-8de5ad2614f4",
   "metadata": {},
   "outputs": [],
   "source": [
    "top_20 <- names(head(sort(table(myDF$Dest), decreasing=TRUE), n=20))"
   ]
  },
  {
   "cell_type": "markdown",
   "id": "0191d21f-10be-43ed-bab8-0b6436e5235a",
   "metadata": {},
   "source": [
    "I used https://www.rdocumentation.org/packages/base/versions/3.6.2/topics/names to research some information on the names() function"
   ]
  },
  {
   "cell_type": "code",
   "execution_count": 11,
   "id": "fe925b50-44b3-47d0-982d-bf5719cad648",
   "metadata": {},
   "outputs": [],
   "source": [
    "top_dests_df <- myDF[myDF$Dest %in% top_20, ]"
   ]
  },
  {
   "cell_type": "markdown",
   "id": "5faf372d-8ba0-4b10-8973-fa1d2f3e0c23",
   "metadata": {},
   "source": [
    "%in% is used to check whether a value is found in another set of values"
   ]
  },
  {
   "cell_type": "code",
   "execution_count": 12,
   "id": "494bfd40-dacd-40da-b7af-1f97bc9ebc9f",
   "metadata": {},
   "outputs": [
    {
     "data": {
      "text/html": [
       "<table class=\"dataframe\">\n",
       "<caption>A matrix: 270 x 20 of type dbl</caption>\n",
       "<thead>\n",
       "\t<tr><th></th><th scope=col>ATL</th><th scope=col>BOS</th><th scope=col>CLT</th><th scope=col>CVG</th><th scope=col>DEN</th><th scope=col>DFW</th><th scope=col>DTW</th><th scope=col>EWR</th><th scope=col>IAH</th><th scope=col>JFK</th><th scope=col>LAS</th><th scope=col>LAX</th><th scope=col>LGA</th><th scope=col>MCO</th><th scope=col>MSP</th><th scope=col>ORD</th><th scope=col>PHL</th><th scope=col>PHX</th><th scope=col>SFO</th><th scope=col>SLC</th></tr>\n",
       "</thead>\n",
       "<tbody>\n",
       "\t<tr><th scope=row>ABE</th><td> 99.76581</td><td>       NA</td><td> 76.24309</td><td> 86.53635</td><td>       NA</td><td>       NA</td><td> 75.50000</td><td>       NA</td><td>       NA</td><td>   38.75000</td><td>       NA</td><td>       NA</td><td> 38.50000</td><td>       NA</td><td>       NA</td><td>105.34195</td><td>      NA</td><td>       NA</td><td>       NA</td><td>       NA</td></tr>\n",
       "\t<tr><th scope=row>ABI</th><td>       NA</td><td>       NA</td><td>       NA</td><td>       NA</td><td>       NA</td><td> 37.10790</td><td>       NA</td><td>       NA</td><td>       NA</td><td>         NA</td><td>       NA</td><td>144.00000</td><td>       NA</td><td>       NA</td><td>       NA</td><td>       NA</td><td>      NA</td><td>       NA</td><td>       NA</td><td>       NA</td></tr>\n",
       "\t<tr><th scope=row>ABQ</th><td>155.82889</td><td>       NA</td><td>       NA</td><td>150.65424</td><td> 55.01665</td><td> 76.08173</td><td>       NA</td><td>219.24324</td><td>103.27048</td><td>         NA</td><td> 74.64480</td><td> 99.82022</td><td>       NA</td><td>184.00831</td><td>126.50704</td><td>140.79052</td><td>      NA</td><td> 56.55171</td><td>130.20445</td><td> 77.40541</td></tr>\n",
       "\t<tr><th scope=row>ABY</th><td> 33.82929</td><td>       NA</td><td>       NA</td><td>       NA</td><td>       NA</td><td>       NA</td><td>       NA</td><td>       NA</td><td>       NA</td><td>         NA</td><td>       NA</td><td>       NA</td><td>       NA</td><td>       NA</td><td>       NA</td><td>       NA</td><td>      NA</td><td>       NA</td><td>       NA</td><td>       NA</td></tr>\n",
       "\t<tr><th scope=row>ACK</th><td>       NA</td><td>       NA</td><td>       NA</td><td>       NA</td><td>       NA</td><td>       NA</td><td>       NA</td><td> 61.00976</td><td>       NA</td><td>         NA</td><td>       NA</td><td>       NA</td><td>       NA</td><td>       NA</td><td>       NA</td><td>       NA</td><td>      NA</td><td>       NA</td><td>       NA</td><td>       NA</td></tr>\n",
       "\t<tr><th scope=row>ACT</th><td>       NA</td><td>       NA</td><td>       NA</td><td>       NA</td><td>       NA</td><td> 29.97392</td><td>       NA</td><td>       NA</td><td>       NA</td><td>         NA</td><td>       NA</td><td>       NA</td><td>       NA</td><td>       NA</td><td>       NA</td><td>       NA</td><td>      NA</td><td>       NA</td><td>       NA</td><td>       NA</td></tr>\n",
       "\t<tr><th scope=row>ACV</th><td>       NA</td><td>       NA</td><td>       NA</td><td>       NA</td><td>       NA</td><td>       NA</td><td>       NA</td><td>       NA</td><td>       NA</td><td>         NA</td><td>       NA</td><td>       NA</td><td>       NA</td><td>       NA</td><td>       NA</td><td>       NA</td><td>      NA</td><td>       NA</td><td> 61.25723</td><td>       NA</td></tr>\n",
       "\t<tr><th scope=row>ACY</th><td>111.41406</td><td>       NA</td><td>       NA</td><td> 95.27191</td><td>       NA</td><td>       NA</td><td>       NA</td><td>       NA</td><td>       NA</td><td>         NA</td><td>       NA</td><td>       NA</td><td> 37.75000</td><td>129.45000</td><td>       NA</td><td>       NA</td><td>      NA</td><td>       NA</td><td>       NA</td><td>       NA</td></tr>\n",
       "\t<tr><th scope=row>AEX</th><td> 74.48528</td><td>       NA</td><td>       NA</td><td>       NA</td><td>       NA</td><td> 73.76596</td><td>       NA</td><td>       NA</td><td> 37.27797</td><td>         NA</td><td>       NA</td><td>       NA</td><td>       NA</td><td>       NA</td><td>       NA</td><td>       NA</td><td>      NA</td><td>       NA</td><td>       NA</td><td>       NA</td></tr>\n",
       "\t<tr><th scope=row>AGS</th><td> 38.84975</td><td>       NA</td><td> 34.62500</td><td>       NA</td><td>       NA</td><td>       NA</td><td>       NA</td><td>       NA</td><td>       NA</td><td>         NA</td><td>       NA</td><td>       NA</td><td>       NA</td><td>       NA</td><td>       NA</td><td>       NA</td><td>      NA</td><td>       NA</td><td>       NA</td><td>       NA</td></tr>\n",
       "\t<tr><th scope=row>ALB</th><td>130.00129</td><td>       NA</td><td>106.70433</td><td>105.49542</td><td>       NA</td><td>       NA</td><td> 81.61670</td><td> 37.28656</td><td>       NA</td><td>   50.69697</td><td>305.91781</td><td>       NA</td><td>       NA</td><td>152.87716</td><td>       NA</td><td>115.77251</td><td>52.63048</td><td>       NA</td><td>       NA</td><td>       NA</td></tr>\n",
       "\t<tr><th scope=row>AMA</th><td>       NA</td><td>       NA</td><td>       NA</td><td>       NA</td><td>       NA</td><td> 48.17827</td><td>       NA</td><td>       NA</td><td> 78.19925</td><td>         NA</td><td>111.47802</td><td>       NA</td><td>       NA</td><td>       NA</td><td>       NA</td><td>       NA</td><td>      NA</td><td> 87.00000</td><td>       NA</td><td>       NA</td></tr>\n",
       "\t<tr><th scope=row>ANC</th><td>396.09434</td><td>       NA</td><td>       NA</td><td>357.48529</td><td>282.54063</td><td>351.73026</td><td>339.82667</td><td>       NA</td><td>383.42714</td><td>         NA</td><td>282.77899</td><td>290.25153</td><td>       NA</td><td>       NA</td><td>292.15822</td><td>332.14529</td><td>      NA</td><td>303.83799</td><td>252.86145</td><td>251.11522</td></tr>\n",
       "\t<tr><th scope=row>APF</th><td> 85.90641</td><td>       NA</td><td>       NA</td><td>       NA</td><td>       NA</td><td>       NA</td><td>       NA</td><td>       NA</td><td>       NA</td><td>         NA</td><td>       NA</td><td>       NA</td><td>       NA</td><td>       NA</td><td>       NA</td><td>       NA</td><td>      NA</td><td>       NA</td><td>       NA</td><td>       NA</td></tr>\n",
       "\t<tr><th scope=row>ASE</th><td>       NA</td><td>       NA</td><td>       NA</td><td>       NA</td><td> 34.63804</td><td>       NA</td><td>       NA</td><td>       NA</td><td>       NA</td><td>         NA</td><td>       NA</td><td>105.55357</td><td>       NA</td><td>       NA</td><td>       NA</td><td>131.03448</td><td>      NA</td><td>114.83274</td><td>122.00000</td><td> 52.65505</td></tr>\n",
       "\t<tr><th scope=row>ATL</th><td>       NA</td><td>123.52259</td><td> 41.11313</td><td> 60.32167</td><td>169.82033</td><td>111.24186</td><td> 84.01060</td><td>106.11811</td><td>104.34296</td><td>  106.26499</td><td>236.37072</td><td>256.98233</td><td>106.65166</td><td> 59.53870</td><td>120.15724</td><td> 94.85563</td><td>96.09057</td><td>218.62524</td><td>283.29794</td><td>215.89889</td></tr>\n",
       "\t<tr><th scope=row>ATW</th><td>108.05573</td><td>       NA</td><td>       NA</td><td> 70.27113</td><td>       NA</td><td>       NA</td><td>       NA</td><td>       NA</td><td>       NA</td><td>         NA</td><td>       NA</td><td>       NA</td><td>       NA</td><td>       NA</td><td>       NA</td><td> 35.01496</td><td>      NA</td><td>       NA</td><td>       NA</td><td>       NA</td></tr>\n",
       "\t<tr><th scope=row>AUS</th><td>105.48342</td><td>270.98538</td><td>       NA</td><td>134.29964</td><td>110.08958</td><td> 38.27298</td><td>       NA</td><td>194.94595</td><td> 34.62937</td><td>  255.01761</td><td>154.07106</td><td>169.05746</td><td>       NA</td><td>127.01923</td><td>140.70599</td><td>131.73571</td><td>      NA</td><td>125.90365</td><td>208.68956</td><td>153.45956</td></tr>\n",
       "\t<tr><th scope=row>AVL</th><td> 41.22086</td><td>       NA</td><td> 25.82353</td><td> 56.97674</td><td>       NA</td><td>       NA</td><td>       NA</td><td> 89.72344</td><td>125.13573</td><td>         NA</td><td>       NA</td><td>       NA</td><td>       NA</td><td>       NA</td><td>       NA</td><td>       NA</td><td>      NA</td><td>       NA</td><td>       NA</td><td>       NA</td></tr>\n",
       "\t<tr><th scope=row>AVP</th><td>114.35123</td><td>       NA</td><td>       NA</td><td> 87.24690</td><td>       NA</td><td>       NA</td><td>       NA</td><td>       NA</td><td>       NA</td><td>   44.25000</td><td>       NA</td><td>       NA</td><td> 38.00000</td><td>       NA</td><td>       NA</td><td>104.63422</td><td>      NA</td><td>       NA</td><td>       NA</td><td>       NA</td></tr>\n",
       "\t<tr><th scope=row>AZO</th><td> 93.38997</td><td>       NA</td><td>       NA</td><td> 43.85422</td><td>       NA</td><td>       NA</td><td> 30.93878</td><td>       NA</td><td>       NA</td><td>         NA</td><td>       NA</td><td>       NA</td><td>       NA</td><td>       NA</td><td> 72.00000</td><td> 31.13696</td><td>      NA</td><td>       NA</td><td>       NA</td><td>       NA</td></tr>\n",
       "\t<tr><th scope=row>BDL</th><td>127.49979</td><td> 33.00000</td><td>102.28854</td><td>106.22195</td><td>       NA</td><td>205.97458</td><td> 93.34089</td><td> 38.60094</td><td>208.94118</td><td>   32.00000</td><td>314.75532</td><td>338.45704</td><td>       NA</td><td>148.01879</td><td>153.98755</td><td>126.06321</td><td>54.44915</td><td>304.96359</td><td>       NA</td><td>281.81776</td></tr>\n",
       "\t<tr><th scope=row>BFL</th><td>       NA</td><td>       NA</td><td>       NA</td><td>       NA</td><td>       NA</td><td>       NA</td><td>       NA</td><td>       NA</td><td>183.68668</td><td>         NA</td><td> 47.24281</td><td> 30.89519</td><td>       NA</td><td>       NA</td><td>       NA</td><td>       NA</td><td>      NA</td><td> 69.97759</td><td> 57.36495</td><td> 88.88766</td></tr>\n",
       "\t<tr><th scope=row>BGM</th><td>114.52793</td><td>       NA</td><td>       NA</td><td> 87.65744</td><td>       NA</td><td>       NA</td><td>       NA</td><td>       NA</td><td>       NA</td><td>         NA</td><td>       NA</td><td>       NA</td><td>       NA</td><td>       NA</td><td>       NA</td><td>       NA</td><td>      NA</td><td>       NA</td><td>       NA</td><td>       NA</td></tr>\n",
       "\t<tr><th scope=row>BGR</th><td>162.64000</td><td> 41.71405</td><td>       NA</td><td>141.79268</td><td>       NA</td><td>       NA</td><td>       NA</td><td> 78.10507</td><td>       NA</td><td>         NA</td><td>       NA</td><td>       NA</td><td> 70.56566</td><td>       NA</td><td>       NA</td><td>       NA</td><td>73.00000</td><td>       NA</td><td>       NA</td><td>       NA</td></tr>\n",
       "\t<tr><th scope=row>BHM</th><td> 32.66816</td><td>       NA</td><td> 54.56763</td><td> 74.48409</td><td>151.06474</td><td> 94.89685</td><td> 95.41525</td><td>121.07057</td><td> 89.35189</td><td>         NA</td><td>223.33791</td><td>       NA</td><td>126.45854</td><td> 69.96433</td><td>       NA</td><td> 98.40845</td><td>      NA</td><td>206.94199</td><td>       NA</td><td>       NA</td></tr>\n",
       "\t<tr><th scope=row>BIL</th><td>       NA</td><td>       NA</td><td>       NA</td><td>       NA</td><td> 66.27015</td><td>       NA</td><td>       NA</td><td>       NA</td><td>       NA</td><td>         NA</td><td>106.12500</td><td>       NA</td><td>       NA</td><td>       NA</td><td> 96.87042</td><td>129.28571</td><td>      NA</td><td>117.41176</td><td>       NA</td><td> 61.09237</td></tr>\n",
       "\t<tr><th scope=row>BIS</th><td>       NA</td><td>       NA</td><td>       NA</td><td>       NA</td><td> 77.92795</td><td>       NA</td><td>       NA</td><td>       NA</td><td>       NA</td><td>         NA</td><td>       NA</td><td>       NA</td><td>       NA</td><td>       NA</td><td> 59.38588</td><td>       NA</td><td>      NA</td><td>       NA</td><td>       NA</td><td>       NA</td></tr>\n",
       "\t<tr><th scope=row>BLI</th><td>       NA</td><td>       NA</td><td>       NA</td><td>       NA</td><td>       NA</td><td>       NA</td><td>       NA</td><td>       NA</td><td>       NA</td><td>         NA</td><td>       NA</td><td>       NA</td><td>       NA</td><td>       NA</td><td>       NA</td><td>       NA</td><td>      NA</td><td>       NA</td><td>       NA</td><td>103.38832</td></tr>\n",
       "\t<tr><th scope=row>BMI</th><td> 81.68878</td><td>       NA</td><td>       NA</td><td>       NA</td><td>       NA</td><td>       NA</td><td>       NA</td><td>       NA</td><td>       NA</td><td>         NA</td><td>       NA</td><td>       NA</td><td>       NA</td><td>119.56548</td><td>       NA</td><td> 29.59315</td><td>      NA</td><td>       NA</td><td>       NA</td><td>       NA</td></tr>\n",
       "\t<tr><th scope=row>BNA</th><td> 39.77019</td><td>132.98780</td><td> 53.88952</td><td> 51.44226</td><td>146.30055</td><td> 95.27199</td><td> 74.04354</td><td>115.39938</td><td>106.14915</td><td>  141.31828</td><td>220.08536</td><td>243.54387</td><td>107.54059</td><td> 83.53837</td><td>106.57650</td><td> 73.61115</td><td>94.44558</td><td>202.27304</td><td>       NA</td><td>198.12500</td></tr>\n",
       "\t<tr><th scope=row>BOI</th><td>213.28017</td><td>       NA</td><td>       NA</td><td>       NA</td><td> 87.21566</td><td>       NA</td><td>       NA</td><td>       NA</td><td>186.83664</td><td>         NA</td><td> 82.94384</td><td>106.89053</td><td>       NA</td><td>       NA</td><td>140.09158</td><td>176.59960</td><td>      NA</td><td>100.68349</td><td> 84.76170</td><td> 46.31830</td></tr>\n",
       "\t<tr><th scope=row>BOS</th><td>140.08160</td><td>       NA</td><td>111.62887</td><td>118.71377</td><td>225.03144</td><td>221.76416</td><td>101.53184</td><td> 54.14145</td><td>227.16852</td><td>   46.09112</td><td>284.34483</td><td>347.11603</td><td> 46.28668</td><td>157.47942</td><td>163.79575</td><td>135.19867</td><td>63.91288</td><td>282.68664</td><td>360.45100</td><td>291.62323</td></tr>\n",
       "\t<tr><th scope=row>BPT</th><td>       NA</td><td>       NA</td><td>       NA</td><td>       NA</td><td>       NA</td><td>       NA</td><td>       NA</td><td>       NA</td><td> 21.60169</td><td>         NA</td><td>       NA</td><td>       NA</td><td>       NA</td><td>       NA</td><td>       NA</td><td>       NA</td><td>      NA</td><td>       NA</td><td>       NA</td><td>       NA</td></tr>\n",
       "\t<tr><th scope=row>BQK</th><td> 44.96566</td><td>       NA</td><td>       NA</td><td>       NA</td><td>       NA</td><td>       NA</td><td>       NA</td><td>       NA</td><td>       NA</td><td>         NA</td><td>       NA</td><td>       NA</td><td>       NA</td><td>       NA</td><td>       NA</td><td>       NA</td><td>      NA</td><td>       NA</td><td>       NA</td><td>       NA</td></tr>\n",
       "\t<tr><th scope=row>BQN</th><td>       NA</td><td>       NA</td><td>       NA</td><td>       NA</td><td>       NA</td><td>       NA</td><td>       NA</td><td>217.00000</td><td>       NA</td><td>  179.57543</td><td>       NA</td><td>       NA</td><td>       NA</td><td>130.85950</td><td>       NA</td><td>       NA</td><td>      NA</td><td>       NA</td><td>       NA</td><td>       NA</td></tr>\n",
       "\t<tr><th scope=row>BRO</th><td>       NA</td><td>       NA</td><td>       NA</td><td>       NA</td><td>       NA</td><td>       NA</td><td>       NA</td><td>       NA</td><td> 57.39603</td><td>         NA</td><td>       NA</td><td>       NA</td><td>       NA</td><td>       NA</td><td>       NA</td><td>       NA</td><td>      NA</td><td>       NA</td><td>       NA</td><td>       NA</td></tr>\n",
       "\t<tr><th scope=row>BTM</th><td>       NA</td><td>       NA</td><td>       NA</td><td>       NA</td><td>       NA</td><td>       NA</td><td>       NA</td><td>       NA</td><td>       NA</td><td>         NA</td><td>       NA</td><td>       NA</td><td>       NA</td><td>       NA</td><td>       NA</td><td>       NA</td><td>      NA</td><td>       NA</td><td>       NA</td><td> 55.26546</td></tr>\n",
       "\t<tr><th scope=row>BTR</th><td> 64.58610</td><td>       NA</td><td>       NA</td><td>100.11527</td><td>       NA</td><td> 65.29965</td><td>       NA</td><td>155.52027</td><td> 48.38486</td><td>         NA</td><td>       NA</td><td>       NA</td><td>148.76190</td><td>       NA</td><td>       NA</td><td>120.71465</td><td>      NA</td><td>       NA</td><td>       NA</td><td>       NA</td></tr>\n",
       "\t<tr><th scope=row>BTV</th><td>143.79630</td><td> 35.00000</td><td>       NA</td><td>113.06009</td><td>       NA</td><td>       NA</td><td>       NA</td><td> 54.98521</td><td>       NA</td><td>   56.23673</td><td>       NA</td><td>       NA</td><td>       NA</td><td>       NA</td><td>       NA</td><td>117.42427</td><td>65.61751</td><td>       NA</td><td>       NA</td><td>       NA</td></tr>\n",
       "\t<tr><th scope=row>BUF</th><td>103.13225</td><td> 60.78832</td><td> 90.93596</td><td> 74.42144</td><td>       NA</td><td>167.15385</td><td> 47.11780</td><td> 57.40000</td><td>       NA</td><td>   60.45564</td><td>270.87637</td><td>       NA</td><td>       NA</td><td>134.79554</td><td>112.56667</td><td> 79.55185</td><td>57.75613</td><td>261.91736</td><td>       NA</td><td>       NA</td></tr>\n",
       "\t<tr><th scope=row>BUR</th><td>236.22222</td><td>       NA</td><td>       NA</td><td>       NA</td><td>111.13057</td><td>153.33410</td><td>       NA</td><td>       NA</td><td>       NA</td><td>  467.71937</td><td> 43.37451</td><td>       NA</td><td>       NA</td><td>445.29167</td><td>       NA</td><td>       NA</td><td>      NA</td><td> 63.66425</td><td> 55.44762</td><td> 84.60512</td></tr>\n",
       "\t<tr><th scope=row>BWI</th><td> 90.48135</td><td> 61.29524</td><td> 61.91610</td><td> 77.38824</td><td>212.17565</td><td>169.88153</td><td> 69.93646</td><td> 39.32421</td><td>177.31920</td><td>   42.14993</td><td>288.24395</td><td>314.15925</td><td> 41.00000</td><td>112.26203</td><td>137.21156</td><td>103.43732</td><td>31.42875</td><td>275.23001</td><td>332.16201</td><td>262.09129</td></tr>\n",
       "\t<tr><th scope=row>BZN</th><td>197.75610</td><td>       NA</td><td>       NA</td><td>       NA</td><td> 73.92585</td><td>       NA</td><td>168.33333</td><td>       NA</td><td>       NA</td><td>         NA</td><td>       NA</td><td>       NA</td><td>       NA</td><td>       NA</td><td>113.57993</td><td>146.00714</td><td>      NA</td><td>       NA</td><td>       NA</td><td> 53.17032</td></tr>\n",
       "\t<tr><th scope=row>CAE</th><td> 41.16421</td><td>       NA</td><td> 27.23288</td><td> 68.98643</td><td>       NA</td><td>144.24347</td><td>       NA</td><td> 90.70112</td><td>133.56969</td><td>-1350.00000</td><td>       NA</td><td>       NA</td><td> 85.03130</td><td>       NA</td><td>       NA</td><td>103.99547</td><td>80.34571</td><td>       NA</td><td>       NA</td><td>       NA</td></tr>\n",
       "\t<tr><th scope=row>CAK</th><td> 80.66066</td><td> 79.32083</td><td> 69.00000</td><td> 45.14776</td><td>176.70646</td><td>       NA</td><td>       NA</td><td>       NA</td><td>       NA</td><td>         NA</td><td>261.37838</td><td>       NA</td><td> 67.41441</td><td>116.08033</td><td>       NA</td><td> 62.39202</td><td>      NA</td><td>       NA</td><td>       NA</td><td>       NA</td></tr>\n",
       "\t<tr><th scope=row>CDC</th><td>       NA</td><td>       NA</td><td>       NA</td><td>       NA</td><td>       NA</td><td>       NA</td><td>       NA</td><td>       NA</td><td>       NA</td><td>         NA</td><td>       NA</td><td>       NA</td><td>       NA</td><td>       NA</td><td>       NA</td><td>       NA</td><td>      NA</td><td>       NA</td><td>       NA</td><td> 48.64672</td></tr>\n",
       "\t<tr><th scope=row>CEC</th><td>       NA</td><td>       NA</td><td>       NA</td><td>       NA</td><td>       NA</td><td>       NA</td><td>       NA</td><td>       NA</td><td>       NA</td><td>         NA</td><td>       NA</td><td>       NA</td><td>       NA</td><td>       NA</td><td>       NA</td><td>       NA</td><td>      NA</td><td>       NA</td><td> 72.04941</td><td>       NA</td></tr>\n",
       "\t<tr><th scope=row>CHA</th><td> 29.88889</td><td>       NA</td><td> 49.07692</td><td> 61.60685</td><td>       NA</td><td>110.09348</td><td>       NA</td><td>       NA</td><td>105.73440</td><td>         NA</td><td>       NA</td><td>       NA</td><td>       NA</td><td>       NA</td><td>       NA</td><td> 84.54303</td><td>      NA</td><td>       NA</td><td>       NA</td><td>       NA</td></tr>\n",
       "\t<tr><th scope=row>CHO</th><td> 75.33638</td><td>       NA</td><td> 46.29032</td><td> 68.05843</td><td>       NA</td><td>       NA</td><td>       NA</td><td>       NA</td><td>       NA</td><td>         NA</td><td>       NA</td><td>       NA</td><td>       NA</td><td>       NA</td><td>       NA</td><td>       NA</td><td>      NA</td><td>       NA</td><td>       NA</td><td>       NA</td></tr>\n",
       "\t<tr><th scope=row>...</th><td>...</td><td>...</td><td>...</td><td>...</td><td>...</td><td>...</td><td>...</td><td>...</td><td>...</td><td>...</td><td>...</td><td>...</td><td>...</td><td>...</td><td>...</td><td>...</td><td>...</td><td>...</td><td>...</td><td>...</td></tr>\n",
       "\t<tr><th scope=row>RSW</th><td> 82.93184</td><td>161.59581</td><td> 91.82364</td><td>127.19471</td><td>227.08989</td><td>149.04784</td><td>149.21511</td><td>147.38584</td><td>130.28695</td><td>141.20962</td><td>       NA</td><td>       NA</td><td>145.91445</td><td> 30.36685</td><td>193.77165</td><td>159.95444</td><td>140.31089</td><td>       NA</td><td>       NA</td><td>       NA</td></tr>\n",
       "\t<tr><th scope=row>SAN</th><td>220.35081</td><td>295.29121</td><td>240.38617</td><td>216.43243</td><td>112.81484</td><td>146.06262</td><td>234.68487</td><td>281.34474</td><td>164.02524</td><td>372.39198</td><td> 51.28143</td><td> 28.93469</td><td>       NA</td><td>       NA</td><td>186.98681</td><td>209.05636</td><td>278.42896</td><td> 50.19332</td><td> 68.38142</td><td> 88.78362</td></tr>\n",
       "\t<tr><th scope=row>SAT</th><td>116.33333</td><td>       NA</td><td>       NA</td><td>140.56628</td><td>112.44644</td><td> 43.39703</td><td>157.95265</td><td>204.60355</td><td> 40.35825</td><td>       NA</td><td>152.08815</td><td>166.56906</td><td>       NA</td><td>133.00205</td><td>142.05233</td><td>137.61657</td><td>       NA</td><td>123.29505</td><td>204.09524</td><td>154.04819</td></tr>\n",
       "\t<tr><th scope=row>SAV</th><td> 42.65896</td><td>127.30594</td><td> 45.96373</td><td> 88.06312</td><td>       NA</td><td>142.10464</td><td>107.33333</td><td>103.68983</td><td>130.80347</td><td>       NA</td><td>       NA</td><td>       NA</td><td>107.25214</td><td> 49.00000</td><td>       NA</td><td>117.75270</td><td>       NA</td><td>       NA</td><td>       NA</td><td>       NA</td></tr>\n",
       "\t<tr><th scope=row>SBA</th><td>       NA</td><td>       NA</td><td>       NA</td><td>       NA</td><td>119.23836</td><td>156.99415</td><td>       NA</td><td>       NA</td><td>       NA</td><td>       NA</td><td> 51.98203</td><td> 29.85906</td><td>       NA</td><td>       NA</td><td>       NA</td><td>       NA</td><td>       NA</td><td> 68.90028</td><td> 61.80574</td><td> 94.27578</td></tr>\n",
       "\t<tr><th scope=row>SBN</th><td> 83.26829</td><td>       NA</td><td>       NA</td><td> 43.92308</td><td>       NA</td><td>       NA</td><td>       NA</td><td>       NA</td><td>       NA</td><td>       NA</td><td>       NA</td><td>       NA</td><td>       NA</td><td>       NA</td><td> 67.00000</td><td> 27.43495</td><td>       NA</td><td>       NA</td><td>       NA</td><td>       NA</td></tr>\n",
       "\t<tr><th scope=row>SBP</th><td>       NA</td><td>       NA</td><td>       NA</td><td>       NA</td><td>       NA</td><td>       NA</td><td>       NA</td><td>       NA</td><td>       NA</td><td>       NA</td><td> 57.97213</td><td> 42.11985</td><td>       NA</td><td>       NA</td><td>       NA</td><td>       NA</td><td>       NA</td><td> 76.79610</td><td> 45.66493</td><td>       NA</td></tr>\n",
       "\t<tr><th scope=row>SCE</th><td>       NA</td><td>       NA</td><td>       NA</td><td> 71.03018</td><td>       NA</td><td>       NA</td><td>       NA</td><td>       NA</td><td>       NA</td><td>       NA</td><td>       NA</td><td>       NA</td><td>       NA</td><td>       NA</td><td>       NA</td><td>       NA</td><td>       NA</td><td>       NA</td><td>       NA</td><td>       NA</td></tr>\n",
       "\t<tr><th scope=row>SDF</th><td> 57.58792</td><td>       NA</td><td> 58.66667</td><td> 27.06853</td><td>       NA</td><td>111.30717</td><td> 59.13386</td><td>102.22083</td><td>124.22920</td><td>105.58824</td><td>225.21644</td><td>       NA</td><td>       NA</td><td>101.28042</td><td>100.16442</td><td> 56.64403</td><td>101.00000</td><td>213.17260</td><td>       NA</td><td>       NA</td></tr>\n",
       "\t<tr><th scope=row>SEA</th><td>251.80639</td><td>359.80418</td><td>263.55094</td><td>227.46813</td><td>129.57110</td><td>197.99604</td><td>221.59036</td><td>281.56351</td><td>224.42965</td><td>343.88215</td><td>120.89593</td><td>130.95603</td><td>       NA</td><td>294.81319</td><td>166.24142</td><td>204.13659</td><td>278.12129</td><td>144.87183</td><td>103.33794</td><td> 92.69077</td></tr>\n",
       "\t<tr><th scope=row>SFO</th><td>244.57911</td><td>304.53376</td><td>264.77635</td><td>233.17427</td><td>119.39754</td><td>175.53150</td><td>239.43411</td><td>293.98113</td><td>201.21339</td><td>296.80855</td><td> 65.54279</td><td> 55.45085</td><td>       NA</td><td>276.20430</td><td>186.93959</td><td>215.78435</td><td>290.10942</td><td> 91.37507</td><td>       NA</td><td> 81.68642</td></tr>\n",
       "\t<tr><th scope=row>SGF</th><td> 78.77588</td><td>       NA</td><td>       NA</td><td> 75.36318</td><td> 98.47168</td><td> 60.64859</td><td>       NA</td><td>       NA</td><td>       NA</td><td>       NA</td><td>       NA</td><td>       NA</td><td>       NA</td><td>       NA</td><td>       NA</td><td> 67.90942</td><td>       NA</td><td>       NA</td><td>       NA</td><td>       NA</td></tr>\n",
       "\t<tr><th scope=row>SGU</th><td>       NA</td><td>       NA</td><td>       NA</td><td>       NA</td><td>       NA</td><td>       NA</td><td>       NA</td><td>       NA</td><td>       NA</td><td>       NA</td><td>       NA</td><td> 84.25140</td><td>       NA</td><td>       NA</td><td>       NA</td><td>       NA</td><td>       NA</td><td>       NA</td><td>       NA</td><td> 60.23080</td></tr>\n",
       "\t<tr><th scope=row>SHV</th><td> 79.77522</td><td>       NA</td><td>       NA</td><td> 94.97376</td><td>       NA</td><td> 43.56562</td><td>       NA</td><td>       NA</td><td> 40.06826</td><td>       NA</td><td>       NA</td><td>       NA</td><td>       NA</td><td>       NA</td><td>       NA</td><td>       NA</td><td>       NA</td><td>       NA</td><td>       NA</td><td>       NA</td></tr>\n",
       "\t<tr><th scope=row>SJC</th><td>248.14604</td><td>488.40000</td><td>       NA</td><td>       NA</td><td>125.30761</td><td>178.47981</td><td>       NA</td><td>289.34762</td><td>203.97570</td><td>483.34272</td><td> 61.93898</td><td> 52.28673</td><td>       NA</td><td>       NA</td><td>193.96537</td><td>224.29247</td><td>       NA</td><td> 87.21705</td><td>       NA</td><td> 87.34111</td></tr>\n",
       "\t<tr><th scope=row>SJT</th><td>       NA</td><td>       NA</td><td>       NA</td><td>       NA</td><td>       NA</td><td> 43.80884</td><td>       NA</td><td>       NA</td><td>       NA</td><td>       NA</td><td>       NA</td><td>       NA</td><td>       NA</td><td>       NA</td><td>       NA</td><td>       NA</td><td>       NA</td><td>       NA</td><td>       NA</td><td>       NA</td></tr>\n",
       "\t<tr><th scope=row>SJU</th><td>208.09841</td><td>217.88103</td><td>197.79198</td><td>249.96970</td><td>       NA</td><td>279.99525</td><td>269.47778</td><td>217.71619</td><td>263.25547</td><td>197.90536</td><td>       NA</td><td>413.94186</td><td>219.61111</td><td>154.94657</td><td>339.25926</td><td>281.98646</td><td>212.82201</td><td>       NA</td><td>       NA</td><td>       NA</td></tr>\n",
       "\t<tr><th scope=row>SLC</th><td>187.22732</td><td>241.12447</td><td>       NA</td><td>174.83907</td><td> 58.96893</td><td>125.11486</td><td>180.71333</td><td>231.84494</td><td>154.58199</td><td>271.63917</td><td> 58.93038</td><td> 88.99568</td><td>228.63415</td><td>225.26844</td><td>124.41347</td><td>156.39579</td><td>225.75909</td><td> 74.67444</td><td> 94.12300</td><td>       NA</td></tr>\n",
       "\t<tr><th scope=row>SMF</th><td>238.96721</td><td>       NA</td><td>       NA</td><td>       NA</td><td>115.63312</td><td>170.71832</td><td>       NA</td><td>       NA</td><td>195.20225</td><td>469.41176</td><td> 61.23920</td><td> 61.14151</td><td>       NA</td><td>       NA</td><td>181.57002</td><td>210.96435</td><td>       NA</td><td> 89.89822</td><td> 28.90007</td><td> 74.70000</td></tr>\n",
       "\t<tr><th scope=row>SMX</th><td>       NA</td><td>       NA</td><td>       NA</td><td>       NA</td><td>       NA</td><td>       NA</td><td>       NA</td><td>       NA</td><td>       NA</td><td>       NA</td><td>       NA</td><td> 37.34636</td><td>       NA</td><td>       NA</td><td>       NA</td><td>       NA</td><td>       NA</td><td>       NA</td><td>       NA</td><td>       NA</td></tr>\n",
       "\t<tr><th scope=row>SNA</th><td>224.31255</td><td>       NA</td><td>       NA</td><td>216.58528</td><td>109.76375</td><td>147.15488</td><td>223.66667</td><td>282.42346</td><td>170.61643</td><td>       NA</td><td> 46.23158</td><td> 16.29961</td><td>       NA</td><td>       NA</td><td>185.26070</td><td>205.37248</td><td>       NA</td><td> 53.37789</td><td> 63.74945</td><td> 85.90230</td></tr>\n",
       "\t<tr><th scope=row>SOP</th><td> 58.49180</td><td>       NA</td><td>       NA</td><td>       NA</td><td>       NA</td><td>       NA</td><td>       NA</td><td>       NA</td><td>       NA</td><td>       NA</td><td>       NA</td><td>       NA</td><td>       NA</td><td>       NA</td><td>       NA</td><td>       NA</td><td>       NA</td><td>       NA</td><td>       NA</td><td>       NA</td></tr>\n",
       "\t<tr><th scope=row>SPI</th><td>       NA</td><td>       NA</td><td>       NA</td><td>       NA</td><td>       NA</td><td>       NA</td><td>       NA</td><td>       NA</td><td>       NA</td><td>       NA</td><td>       NA</td><td>       NA</td><td>       NA</td><td>       NA</td><td>       NA</td><td> 36.53493</td><td>       NA</td><td>       NA</td><td>       NA</td><td>       NA</td></tr>\n",
       "\t<tr><th scope=row>SPS</th><td>       NA</td><td>       NA</td><td>       NA</td><td>       NA</td><td>       NA</td><td> 29.67606</td><td>       NA</td><td>       NA</td><td>       NA</td><td>       NA</td><td>       NA</td><td>       NA</td><td>       NA</td><td>       NA</td><td>       NA</td><td>       NA</td><td>       NA</td><td>       NA</td><td>       NA</td><td>       NA</td></tr>\n",
       "\t<tr><th scope=row>SRQ</th><td> 73.87254</td><td>161.12500</td><td> 83.05882</td><td>121.67098</td><td>       NA</td><td>       NA</td><td>145.13115</td><td>145.27331</td><td>132.25575</td><td>137.93636</td><td>       NA</td><td>       NA</td><td>141.10563</td><td>       NA</td><td>       NA</td><td>       NA</td><td>       NA</td><td>       NA</td><td>       NA</td><td>       NA</td></tr>\n",
       "\t<tr><th scope=row>STL</th><td> 70.58891</td><td>133.59605</td><td> 82.92320</td><td> 54.02257</td><td>117.52297</td><td> 83.73664</td><td> 69.55181</td><td>121.13809</td><td>104.68803</td><td>126.88378</td><td>190.28463</td><td>217.75759</td><td>121.59915</td><td>114.75345</td><td> 72.75288</td><td> 46.74456</td><td>103.33333</td><td>180.04927</td><td>235.16110</td><td>168.29309</td></tr>\n",
       "\t<tr><th scope=row>STT</th><td>216.79545</td><td>228.79000</td><td>205.41439</td><td>       NA</td><td>       NA</td><td>       NA</td><td>       NA</td><td>233.28070</td><td>       NA</td><td>217.43056</td><td>       NA</td><td>       NA</td><td>228.58824</td><td>       NA</td><td>       NA</td><td>       NA</td><td>223.41860</td><td>       NA</td><td>       NA</td><td>       NA</td></tr>\n",
       "\t<tr><th scope=row>STX</th><td>224.87500</td><td>       NA</td><td>214.56818</td><td>       NA</td><td>       NA</td><td>       NA</td><td>       NA</td><td>       NA</td><td>       NA</td><td>       NA</td><td>       NA</td><td>       NA</td><td>       NA</td><td>       NA</td><td>       NA</td><td>       NA</td><td>       NA</td><td>       NA</td><td>       NA</td><td>       NA</td></tr>\n",
       "\t<tr><th scope=row>SUN</th><td>       NA</td><td>       NA</td><td>       NA</td><td>       NA</td><td>       NA</td><td>       NA</td><td>       NA</td><td>       NA</td><td>       NA</td><td>       NA</td><td>       NA</td><td>       NA</td><td>       NA</td><td>       NA</td><td>       NA</td><td>       NA</td><td>       NA</td><td>       NA</td><td>       NA</td><td> 47.95436</td></tr>\n",
       "\t<tr><th scope=row>SWF</th><td>       NA</td><td>       NA</td><td>       NA</td><td>       NA</td><td>       NA</td><td>       NA</td><td>       NA</td><td>       NA</td><td>       NA</td><td> 31.00000</td><td>       NA</td><td>       NA</td><td> 24.00000</td><td>149.30769</td><td>       NA</td><td>117.85987</td><td>       NA</td><td>       NA</td><td>       NA</td><td>       NA</td></tr>\n",
       "\t<tr><th scope=row>SYR</th><td>117.72656</td><td>       NA</td><td>100.08044</td><td> 89.96477</td><td>       NA</td><td>186.07123</td><td> 65.32130</td><td> 45.11202</td><td>       NA</td><td> 46.67389</td><td>       NA</td><td>       NA</td><td> 39.00000</td><td>144.20571</td><td>       NA</td><td> 98.61814</td><td> 49.35075</td><td>       NA</td><td>       NA</td><td>       NA</td></tr>\n",
       "\t<tr><th scope=row>TEX</th><td>       NA</td><td>       NA</td><td>       NA</td><td>       NA</td><td>       NA</td><td>       NA</td><td>       NA</td><td>       NA</td><td>       NA</td><td>       NA</td><td>       NA</td><td>       NA</td><td>       NA</td><td>       NA</td><td>       NA</td><td>       NA</td><td>       NA</td><td> 94.61667</td><td>       NA</td><td>       NA</td></tr>\n",
       "\t<tr><th scope=row>TLH</th><td> 43.69088</td><td>       NA</td><td> 58.95238</td><td> 87.76074</td><td>       NA</td><td>       NA</td><td>       NA</td><td>       NA</td><td>103.85006</td><td>       NA</td><td>       NA</td><td>       NA</td><td>       NA</td><td> 38.00000</td><td>       NA</td><td>       NA</td><td>       NA</td><td>       NA</td><td>       NA</td><td>       NA</td></tr>\n",
       "\t<tr><th scope=row>TOL</th><td> 87.54591</td><td>       NA</td><td>       NA</td><td> 41.40787</td><td>       NA</td><td>       NA</td><td>       NA</td><td>       NA</td><td>       NA</td><td>       NA</td><td>       NA</td><td>       NA</td><td>       NA</td><td>       NA</td><td>       NA</td><td> 45.08388</td><td>       NA</td><td>       NA</td><td>       NA</td><td>       NA</td></tr>\n",
       "\t<tr><th scope=row>TPA</th><td> 68.74961</td><td>153.90213</td><td> 78.15210</td><td>109.51089</td><td>209.40951</td><td>137.50225</td><td>136.28058</td><td>136.68474</td><td>114.04618</td><td>133.50841</td><td>270.17056</td><td>283.86614</td><td>137.51260</td><td>       NA</td><td>178.86716</td><td>144.23568</td><td>128.38494</td><td>247.30028</td><td>       NA</td><td>260.02975</td></tr>\n",
       "\t<tr><th scope=row>TRI</th><td> 53.61102</td><td>       NA</td><td> 28.44231</td><td> 46.50000</td><td>       NA</td><td>       NA</td><td>       NA</td><td>       NA</td><td>       NA</td><td>       NA</td><td>       NA</td><td>       NA</td><td>       NA</td><td>       NA</td><td>       NA</td><td>       NA</td><td>       NA</td><td>       NA</td><td>       NA</td><td>       NA</td></tr>\n",
       "\t<tr><th scope=row>TTN</th><td>118.12500</td><td> 52.60606</td><td>       NA</td><td>       NA</td><td>       NA</td><td>       NA</td><td>       NA</td><td>       NA</td><td>       NA</td><td>       NA</td><td>       NA</td><td>       NA</td><td>       NA</td><td>       NA</td><td>       NA</td><td>       NA</td><td>       NA</td><td>       NA</td><td>       NA</td><td>       NA</td></tr>\n",
       "\t<tr><th scope=row>TUL</th><td> 89.47529</td><td>       NA</td><td>       NA</td><td> 93.32952</td><td> 82.82383</td><td> 43.89305</td><td>       NA</td><td>157.11402</td><td> 74.44073</td><td>       NA</td><td>156.41918</td><td>       NA</td><td>       NA</td><td>131.30732</td><td>       NA</td><td> 83.63326</td><td>       NA</td><td>136.76079</td><td>       NA</td><td>138.87549</td></tr>\n",
       "\t<tr><th scope=row>TUP</th><td> 45.44866</td><td>       NA</td><td>       NA</td><td>       NA</td><td>       NA</td><td>       NA</td><td>       NA</td><td>       NA</td><td>       NA</td><td>       NA</td><td>       NA</td><td>       NA</td><td>       NA</td><td>       NA</td><td>       NA</td><td>       NA</td><td>       NA</td><td>       NA</td><td>       NA</td><td>       NA</td></tr>\n",
       "\t<tr><th scope=row>TUS</th><td>185.41863</td><td>       NA</td><td>       NA</td><td>       NA</td><td> 90.12527</td><td>105.03726</td><td>       NA</td><td>231.95238</td><td>125.00763</td><td>383.93617</td><td> 58.02762</td><td> 71.52328</td><td>       NA</td><td>       NA</td><td>160.30319</td><td>176.04642</td><td>       NA</td><td> 26.96664</td><td>114.24390</td><td> 88.00000</td></tr>\n",
       "\t<tr><th scope=row>TVC</th><td>115.73256</td><td>       NA</td><td>       NA</td><td> 67.87719</td><td>       NA</td><td>       NA</td><td> 41.59008</td><td>       NA</td><td>       NA</td><td>       NA</td><td>       NA</td><td>       NA</td><td> 98.02632</td><td>       NA</td><td> 62.06757</td><td> 46.27850</td><td>       NA</td><td>       NA</td><td>       NA</td><td>       NA</td></tr>\n",
       "\t<tr><th scope=row>TWF</th><td>       NA</td><td>       NA</td><td>       NA</td><td>       NA</td><td>       NA</td><td>       NA</td><td>       NA</td><td>       NA</td><td>       NA</td><td>       NA</td><td>       NA</td><td>       NA</td><td>       NA</td><td>       NA</td><td>       NA</td><td>       NA</td><td>       NA</td><td>       NA</td><td>       NA</td><td> 41.55641</td></tr>\n",
       "\t<tr><th scope=row>TXK</th><td>       NA</td><td>       NA</td><td>       NA</td><td>       NA</td><td>       NA</td><td> 41.53947</td><td>       NA</td><td>       NA</td><td>       NA</td><td>       NA</td><td>       NA</td><td>       NA</td><td>       NA</td><td>       NA</td><td>       NA</td><td>       NA</td><td>       NA</td><td>       NA</td><td>       NA</td><td>       NA</td></tr>\n",
       "\t<tr><th scope=row>TYR</th><td>       NA</td><td>       NA</td><td>       NA</td><td>       NA</td><td>       NA</td><td> 30.48733</td><td>       NA</td><td>       NA</td><td> 40.51456</td><td>       NA</td><td>       NA</td><td>       NA</td><td>       NA</td><td>       NA</td><td>       NA</td><td>       NA</td><td>       NA</td><td>       NA</td><td>       NA</td><td>       NA</td></tr>\n",
       "\t<tr><th scope=row>TYS</th><td> 35.01960</td><td>       NA</td><td> 37.50000</td><td> 49.86525</td><td>165.25157</td><td>119.51237</td><td>       NA</td><td> 95.60932</td><td>117.50516</td><td>       NA</td><td>       NA</td><td>       NA</td><td> 97.54575</td><td> 74.46591</td><td>       NA</td><td> 80.21979</td><td>       NA</td><td>       NA</td><td>       NA</td><td>       NA</td></tr>\n",
       "\t<tr><th scope=row>VLD</th><td> 47.51441</td><td>       NA</td><td>       NA</td><td>       NA</td><td>       NA</td><td>       NA</td><td>       NA</td><td>       NA</td><td>       NA</td><td>       NA</td><td>       NA</td><td>       NA</td><td>       NA</td><td>       NA</td><td>       NA</td><td>       NA</td><td>       NA</td><td>       NA</td><td>       NA</td><td>       NA</td></tr>\n",
       "\t<tr><th scope=row>VPS</th><td> 43.85534</td><td>       NA</td><td>       NA</td><td>       NA</td><td>       NA</td><td>105.09003</td><td>       NA</td><td>       NA</td><td> 88.31888</td><td>       NA</td><td>       NA</td><td>       NA</td><td>       NA</td><td>       NA</td><td>       NA</td><td>       NA</td><td>       NA</td><td>       NA</td><td>       NA</td><td>       NA</td></tr>\n",
       "\t<tr><th scope=row>WYS</th><td>       NA</td><td>       NA</td><td>       NA</td><td>       NA</td><td>       NA</td><td>       NA</td><td>       NA</td><td>       NA</td><td>       NA</td><td>       NA</td><td>       NA</td><td>       NA</td><td>       NA</td><td>       NA</td><td>       NA</td><td>       NA</td><td>       NA</td><td>       NA</td><td>       NA</td><td> 62.22989</td></tr>\n",
       "\t<tr><th scope=row>XNA</th><td> 76.85714</td><td>       NA</td><td>100.52632</td><td> 86.10387</td><td> 93.66241</td><td> 48.55969</td><td>114.00000</td><td>150.50389</td><td> 78.77298</td><td>       NA</td><td>       NA</td><td>186.04830</td><td>155.46331</td><td>       NA</td><td> 89.00000</td><td> 77.43692</td><td>       NA</td><td>       NA</td><td>       NA</td><td>150.01282</td></tr>\n",
       "\t<tr><th scope=row>YUM</th><td>       NA</td><td>       NA</td><td>       NA</td><td>       NA</td><td>       NA</td><td>       NA</td><td>       NA</td><td>       NA</td><td>       NA</td><td>       NA</td><td>       NA</td><td> 57.27344</td><td>       NA</td><td>       NA</td><td>       NA</td><td>       NA</td><td>       NA</td><td> 40.42635</td><td>       NA</td><td>       NA</td></tr>\n",
       "</tbody>\n",
       "</table>\n"
      ],
      "text/latex": [
       "A matrix: 270 x 20 of type dbl\n",
       "\\begin{tabular}{r|llllllllllllllllllll}\n",
       "  & ATL & BOS & CLT & CVG & DEN & DFW & DTW & EWR & IAH & JFK & LAS & LAX & LGA & MCO & MSP & ORD & PHL & PHX & SFO & SLC\\\\\n",
       "\\hline\n",
       "\tABE &  99.76581 &        NA &  76.24309 &  86.53635 &        NA &        NA &  75.50000 &        NA &        NA &    38.75000 &        NA &        NA &  38.50000 &        NA &        NA & 105.34195 &       NA &        NA &        NA &        NA\\\\\n",
       "\tABI &        NA &        NA &        NA &        NA &        NA &  37.10790 &        NA &        NA &        NA &          NA &        NA & 144.00000 &        NA &        NA &        NA &        NA &       NA &        NA &        NA &        NA\\\\\n",
       "\tABQ & 155.82889 &        NA &        NA & 150.65424 &  55.01665 &  76.08173 &        NA & 219.24324 & 103.27048 &          NA &  74.64480 &  99.82022 &        NA & 184.00831 & 126.50704 & 140.79052 &       NA &  56.55171 & 130.20445 &  77.40541\\\\\n",
       "\tABY &  33.82929 &        NA &        NA &        NA &        NA &        NA &        NA &        NA &        NA &          NA &        NA &        NA &        NA &        NA &        NA &        NA &       NA &        NA &        NA &        NA\\\\\n",
       "\tACK &        NA &        NA &        NA &        NA &        NA &        NA &        NA &  61.00976 &        NA &          NA &        NA &        NA &        NA &        NA &        NA &        NA &       NA &        NA &        NA &        NA\\\\\n",
       "\tACT &        NA &        NA &        NA &        NA &        NA &  29.97392 &        NA &        NA &        NA &          NA &        NA &        NA &        NA &        NA &        NA &        NA &       NA &        NA &        NA &        NA\\\\\n",
       "\tACV &        NA &        NA &        NA &        NA &        NA &        NA &        NA &        NA &        NA &          NA &        NA &        NA &        NA &        NA &        NA &        NA &       NA &        NA &  61.25723 &        NA\\\\\n",
       "\tACY & 111.41406 &        NA &        NA &  95.27191 &        NA &        NA &        NA &        NA &        NA &          NA &        NA &        NA &  37.75000 & 129.45000 &        NA &        NA &       NA &        NA &        NA &        NA\\\\\n",
       "\tAEX &  74.48528 &        NA &        NA &        NA &        NA &  73.76596 &        NA &        NA &  37.27797 &          NA &        NA &        NA &        NA &        NA &        NA &        NA &       NA &        NA &        NA &        NA\\\\\n",
       "\tAGS &  38.84975 &        NA &  34.62500 &        NA &        NA &        NA &        NA &        NA &        NA &          NA &        NA &        NA &        NA &        NA &        NA &        NA &       NA &        NA &        NA &        NA\\\\\n",
       "\tALB & 130.00129 &        NA & 106.70433 & 105.49542 &        NA &        NA &  81.61670 &  37.28656 &        NA &    50.69697 & 305.91781 &        NA &        NA & 152.87716 &        NA & 115.77251 & 52.63048 &        NA &        NA &        NA\\\\\n",
       "\tAMA &        NA &        NA &        NA &        NA &        NA &  48.17827 &        NA &        NA &  78.19925 &          NA & 111.47802 &        NA &        NA &        NA &        NA &        NA &       NA &  87.00000 &        NA &        NA\\\\\n",
       "\tANC & 396.09434 &        NA &        NA & 357.48529 & 282.54063 & 351.73026 & 339.82667 &        NA & 383.42714 &          NA & 282.77899 & 290.25153 &        NA &        NA & 292.15822 & 332.14529 &       NA & 303.83799 & 252.86145 & 251.11522\\\\\n",
       "\tAPF &  85.90641 &        NA &        NA &        NA &        NA &        NA &        NA &        NA &        NA &          NA &        NA &        NA &        NA &        NA &        NA &        NA &       NA &        NA &        NA &        NA\\\\\n",
       "\tASE &        NA &        NA &        NA &        NA &  34.63804 &        NA &        NA &        NA &        NA &          NA &        NA & 105.55357 &        NA &        NA &        NA & 131.03448 &       NA & 114.83274 & 122.00000 &  52.65505\\\\\n",
       "\tATL &        NA & 123.52259 &  41.11313 &  60.32167 & 169.82033 & 111.24186 &  84.01060 & 106.11811 & 104.34296 &   106.26499 & 236.37072 & 256.98233 & 106.65166 &  59.53870 & 120.15724 &  94.85563 & 96.09057 & 218.62524 & 283.29794 & 215.89889\\\\\n",
       "\tATW & 108.05573 &        NA &        NA &  70.27113 &        NA &        NA &        NA &        NA &        NA &          NA &        NA &        NA &        NA &        NA &        NA &  35.01496 &       NA &        NA &        NA &        NA\\\\\n",
       "\tAUS & 105.48342 & 270.98538 &        NA & 134.29964 & 110.08958 &  38.27298 &        NA & 194.94595 &  34.62937 &   255.01761 & 154.07106 & 169.05746 &        NA & 127.01923 & 140.70599 & 131.73571 &       NA & 125.90365 & 208.68956 & 153.45956\\\\\n",
       "\tAVL &  41.22086 &        NA &  25.82353 &  56.97674 &        NA &        NA &        NA &  89.72344 & 125.13573 &          NA &        NA &        NA &        NA &        NA &        NA &        NA &       NA &        NA &        NA &        NA\\\\\n",
       "\tAVP & 114.35123 &        NA &        NA &  87.24690 &        NA &        NA &        NA &        NA &        NA &    44.25000 &        NA &        NA &  38.00000 &        NA &        NA & 104.63422 &       NA &        NA &        NA &        NA\\\\\n",
       "\tAZO &  93.38997 &        NA &        NA &  43.85422 &        NA &        NA &  30.93878 &        NA &        NA &          NA &        NA &        NA &        NA &        NA &  72.00000 &  31.13696 &       NA &        NA &        NA &        NA\\\\\n",
       "\tBDL & 127.49979 &  33.00000 & 102.28854 & 106.22195 &        NA & 205.97458 &  93.34089 &  38.60094 & 208.94118 &    32.00000 & 314.75532 & 338.45704 &        NA & 148.01879 & 153.98755 & 126.06321 & 54.44915 & 304.96359 &        NA & 281.81776\\\\\n",
       "\tBFL &        NA &        NA &        NA &        NA &        NA &        NA &        NA &        NA & 183.68668 &          NA &  47.24281 &  30.89519 &        NA &        NA &        NA &        NA &       NA &  69.97759 &  57.36495 &  88.88766\\\\\n",
       "\tBGM & 114.52793 &        NA &        NA &  87.65744 &        NA &        NA &        NA &        NA &        NA &          NA &        NA &        NA &        NA &        NA &        NA &        NA &       NA &        NA &        NA &        NA\\\\\n",
       "\tBGR & 162.64000 &  41.71405 &        NA & 141.79268 &        NA &        NA &        NA &  78.10507 &        NA &          NA &        NA &        NA &  70.56566 &        NA &        NA &        NA & 73.00000 &        NA &        NA &        NA\\\\\n",
       "\tBHM &  32.66816 &        NA &  54.56763 &  74.48409 & 151.06474 &  94.89685 &  95.41525 & 121.07057 &  89.35189 &          NA & 223.33791 &        NA & 126.45854 &  69.96433 &        NA &  98.40845 &       NA & 206.94199 &        NA &        NA\\\\\n",
       "\tBIL &        NA &        NA &        NA &        NA &  66.27015 &        NA &        NA &        NA &        NA &          NA & 106.12500 &        NA &        NA &        NA &  96.87042 & 129.28571 &       NA & 117.41176 &        NA &  61.09237\\\\\n",
       "\tBIS &        NA &        NA &        NA &        NA &  77.92795 &        NA &        NA &        NA &        NA &          NA &        NA &        NA &        NA &        NA &  59.38588 &        NA &       NA &        NA &        NA &        NA\\\\\n",
       "\tBLI &        NA &        NA &        NA &        NA &        NA &        NA &        NA &        NA &        NA &          NA &        NA &        NA &        NA &        NA &        NA &        NA &       NA &        NA &        NA & 103.38832\\\\\n",
       "\tBMI &  81.68878 &        NA &        NA &        NA &        NA &        NA &        NA &        NA &        NA &          NA &        NA &        NA &        NA & 119.56548 &        NA &  29.59315 &       NA &        NA &        NA &        NA\\\\\n",
       "\tBNA &  39.77019 & 132.98780 &  53.88952 &  51.44226 & 146.30055 &  95.27199 &  74.04354 & 115.39938 & 106.14915 &   141.31828 & 220.08536 & 243.54387 & 107.54059 &  83.53837 & 106.57650 &  73.61115 & 94.44558 & 202.27304 &        NA & 198.12500\\\\\n",
       "\tBOI & 213.28017 &        NA &        NA &        NA &  87.21566 &        NA &        NA &        NA & 186.83664 &          NA &  82.94384 & 106.89053 &        NA &        NA & 140.09158 & 176.59960 &       NA & 100.68349 &  84.76170 &  46.31830\\\\\n",
       "\tBOS & 140.08160 &        NA & 111.62887 & 118.71377 & 225.03144 & 221.76416 & 101.53184 &  54.14145 & 227.16852 &    46.09112 & 284.34483 & 347.11603 &  46.28668 & 157.47942 & 163.79575 & 135.19867 & 63.91288 & 282.68664 & 360.45100 & 291.62323\\\\\n",
       "\tBPT &        NA &        NA &        NA &        NA &        NA &        NA &        NA &        NA &  21.60169 &          NA &        NA &        NA &        NA &        NA &        NA &        NA &       NA &        NA &        NA &        NA\\\\\n",
       "\tBQK &  44.96566 &        NA &        NA &        NA &        NA &        NA &        NA &        NA &        NA &          NA &        NA &        NA &        NA &        NA &        NA &        NA &       NA &        NA &        NA &        NA\\\\\n",
       "\tBQN &        NA &        NA &        NA &        NA &        NA &        NA &        NA & 217.00000 &        NA &   179.57543 &        NA &        NA &        NA & 130.85950 &        NA &        NA &       NA &        NA &        NA &        NA\\\\\n",
       "\tBRO &        NA &        NA &        NA &        NA &        NA &        NA &        NA &        NA &  57.39603 &          NA &        NA &        NA &        NA &        NA &        NA &        NA &       NA &        NA &        NA &        NA\\\\\n",
       "\tBTM &        NA &        NA &        NA &        NA &        NA &        NA &        NA &        NA &        NA &          NA &        NA &        NA &        NA &        NA &        NA &        NA &       NA &        NA &        NA &  55.26546\\\\\n",
       "\tBTR &  64.58610 &        NA &        NA & 100.11527 &        NA &  65.29965 &        NA & 155.52027 &  48.38486 &          NA &        NA &        NA & 148.76190 &        NA &        NA & 120.71465 &       NA &        NA &        NA &        NA\\\\\n",
       "\tBTV & 143.79630 &  35.00000 &        NA & 113.06009 &        NA &        NA &        NA &  54.98521 &        NA &    56.23673 &        NA &        NA &        NA &        NA &        NA & 117.42427 & 65.61751 &        NA &        NA &        NA\\\\\n",
       "\tBUF & 103.13225 &  60.78832 &  90.93596 &  74.42144 &        NA & 167.15385 &  47.11780 &  57.40000 &        NA &    60.45564 & 270.87637 &        NA &        NA & 134.79554 & 112.56667 &  79.55185 & 57.75613 & 261.91736 &        NA &        NA\\\\\n",
       "\tBUR & 236.22222 &        NA &        NA &        NA & 111.13057 & 153.33410 &        NA &        NA &        NA &   467.71937 &  43.37451 &        NA &        NA & 445.29167 &        NA &        NA &       NA &  63.66425 &  55.44762 &  84.60512\\\\\n",
       "\tBWI &  90.48135 &  61.29524 &  61.91610 &  77.38824 & 212.17565 & 169.88153 &  69.93646 &  39.32421 & 177.31920 &    42.14993 & 288.24395 & 314.15925 &  41.00000 & 112.26203 & 137.21156 & 103.43732 & 31.42875 & 275.23001 & 332.16201 & 262.09129\\\\\n",
       "\tBZN & 197.75610 &        NA &        NA &        NA &  73.92585 &        NA & 168.33333 &        NA &        NA &          NA &        NA &        NA &        NA &        NA & 113.57993 & 146.00714 &       NA &        NA &        NA &  53.17032\\\\\n",
       "\tCAE &  41.16421 &        NA &  27.23288 &  68.98643 &        NA & 144.24347 &        NA &  90.70112 & 133.56969 & -1350.00000 &        NA &        NA &  85.03130 &        NA &        NA & 103.99547 & 80.34571 &        NA &        NA &        NA\\\\\n",
       "\tCAK &  80.66066 &  79.32083 &  69.00000 &  45.14776 & 176.70646 &        NA &        NA &        NA &        NA &          NA & 261.37838 &        NA &  67.41441 & 116.08033 &        NA &  62.39202 &       NA &        NA &        NA &        NA\\\\\n",
       "\tCDC &        NA &        NA &        NA &        NA &        NA &        NA &        NA &        NA &        NA &          NA &        NA &        NA &        NA &        NA &        NA &        NA &       NA &        NA &        NA &  48.64672\\\\\n",
       "\tCEC &        NA &        NA &        NA &        NA &        NA &        NA &        NA &        NA &        NA &          NA &        NA &        NA &        NA &        NA &        NA &        NA &       NA &        NA &  72.04941 &        NA\\\\\n",
       "\tCHA &  29.88889 &        NA &  49.07692 &  61.60685 &        NA & 110.09348 &        NA &        NA & 105.73440 &          NA &        NA &        NA &        NA &        NA &        NA &  84.54303 &       NA &        NA &        NA &        NA\\\\\n",
       "\tCHO &  75.33638 &        NA &  46.29032 &  68.05843 &        NA &        NA &        NA &        NA &        NA &          NA &        NA &        NA &        NA &        NA &        NA &        NA &       NA &        NA &        NA &        NA\\\\\n",
       "\t... & ... & ... & ... & ... & ... & ... & ... & ... & ... & ... & ... & ... & ... & ... & ... & ... & ... & ... & ... & ...\\\\\n",
       "\tRSW &  82.93184 & 161.59581 &  91.82364 & 127.19471 & 227.08989 & 149.04784 & 149.21511 & 147.38584 & 130.28695 & 141.20962 &        NA &        NA & 145.91445 &  30.36685 & 193.77165 & 159.95444 & 140.31089 &        NA &        NA &        NA\\\\\n",
       "\tSAN & 220.35081 & 295.29121 & 240.38617 & 216.43243 & 112.81484 & 146.06262 & 234.68487 & 281.34474 & 164.02524 & 372.39198 &  51.28143 &  28.93469 &        NA &        NA & 186.98681 & 209.05636 & 278.42896 &  50.19332 &  68.38142 &  88.78362\\\\\n",
       "\tSAT & 116.33333 &        NA &        NA & 140.56628 & 112.44644 &  43.39703 & 157.95265 & 204.60355 &  40.35825 &        NA & 152.08815 & 166.56906 &        NA & 133.00205 & 142.05233 & 137.61657 &        NA & 123.29505 & 204.09524 & 154.04819\\\\\n",
       "\tSAV &  42.65896 & 127.30594 &  45.96373 &  88.06312 &        NA & 142.10464 & 107.33333 & 103.68983 & 130.80347 &        NA &        NA &        NA & 107.25214 &  49.00000 &        NA & 117.75270 &        NA &        NA &        NA &        NA\\\\\n",
       "\tSBA &        NA &        NA &        NA &        NA & 119.23836 & 156.99415 &        NA &        NA &        NA &        NA &  51.98203 &  29.85906 &        NA &        NA &        NA &        NA &        NA &  68.90028 &  61.80574 &  94.27578\\\\\n",
       "\tSBN &  83.26829 &        NA &        NA &  43.92308 &        NA &        NA &        NA &        NA &        NA &        NA &        NA &        NA &        NA &        NA &  67.00000 &  27.43495 &        NA &        NA &        NA &        NA\\\\\n",
       "\tSBP &        NA &        NA &        NA &        NA &        NA &        NA &        NA &        NA &        NA &        NA &  57.97213 &  42.11985 &        NA &        NA &        NA &        NA &        NA &  76.79610 &  45.66493 &        NA\\\\\n",
       "\tSCE &        NA &        NA &        NA &  71.03018 &        NA &        NA &        NA &        NA &        NA &        NA &        NA &        NA &        NA &        NA &        NA &        NA &        NA &        NA &        NA &        NA\\\\\n",
       "\tSDF &  57.58792 &        NA &  58.66667 &  27.06853 &        NA & 111.30717 &  59.13386 & 102.22083 & 124.22920 & 105.58824 & 225.21644 &        NA &        NA & 101.28042 & 100.16442 &  56.64403 & 101.00000 & 213.17260 &        NA &        NA\\\\\n",
       "\tSEA & 251.80639 & 359.80418 & 263.55094 & 227.46813 & 129.57110 & 197.99604 & 221.59036 & 281.56351 & 224.42965 & 343.88215 & 120.89593 & 130.95603 &        NA & 294.81319 & 166.24142 & 204.13659 & 278.12129 & 144.87183 & 103.33794 &  92.69077\\\\\n",
       "\tSFO & 244.57911 & 304.53376 & 264.77635 & 233.17427 & 119.39754 & 175.53150 & 239.43411 & 293.98113 & 201.21339 & 296.80855 &  65.54279 &  55.45085 &        NA & 276.20430 & 186.93959 & 215.78435 & 290.10942 &  91.37507 &        NA &  81.68642\\\\\n",
       "\tSGF &  78.77588 &        NA &        NA &  75.36318 &  98.47168 &  60.64859 &        NA &        NA &        NA &        NA &        NA &        NA &        NA &        NA &        NA &  67.90942 &        NA &        NA &        NA &        NA\\\\\n",
       "\tSGU &        NA &        NA &        NA &        NA &        NA &        NA &        NA &        NA &        NA &        NA &        NA &  84.25140 &        NA &        NA &        NA &        NA &        NA &        NA &        NA &  60.23080\\\\\n",
       "\tSHV &  79.77522 &        NA &        NA &  94.97376 &        NA &  43.56562 &        NA &        NA &  40.06826 &        NA &        NA &        NA &        NA &        NA &        NA &        NA &        NA &        NA &        NA &        NA\\\\\n",
       "\tSJC & 248.14604 & 488.40000 &        NA &        NA & 125.30761 & 178.47981 &        NA & 289.34762 & 203.97570 & 483.34272 &  61.93898 &  52.28673 &        NA &        NA & 193.96537 & 224.29247 &        NA &  87.21705 &        NA &  87.34111\\\\\n",
       "\tSJT &        NA &        NA &        NA &        NA &        NA &  43.80884 &        NA &        NA &        NA &        NA &        NA &        NA &        NA &        NA &        NA &        NA &        NA &        NA &        NA &        NA\\\\\n",
       "\tSJU & 208.09841 & 217.88103 & 197.79198 & 249.96970 &        NA & 279.99525 & 269.47778 & 217.71619 & 263.25547 & 197.90536 &        NA & 413.94186 & 219.61111 & 154.94657 & 339.25926 & 281.98646 & 212.82201 &        NA &        NA &        NA\\\\\n",
       "\tSLC & 187.22732 & 241.12447 &        NA & 174.83907 &  58.96893 & 125.11486 & 180.71333 & 231.84494 & 154.58199 & 271.63917 &  58.93038 &  88.99568 & 228.63415 & 225.26844 & 124.41347 & 156.39579 & 225.75909 &  74.67444 &  94.12300 &        NA\\\\\n",
       "\tSMF & 238.96721 &        NA &        NA &        NA & 115.63312 & 170.71832 &        NA &        NA & 195.20225 & 469.41176 &  61.23920 &  61.14151 &        NA &        NA & 181.57002 & 210.96435 &        NA &  89.89822 &  28.90007 &  74.70000\\\\\n",
       "\tSMX &        NA &        NA &        NA &        NA &        NA &        NA &        NA &        NA &        NA &        NA &        NA &  37.34636 &        NA &        NA &        NA &        NA &        NA &        NA &        NA &        NA\\\\\n",
       "\tSNA & 224.31255 &        NA &        NA & 216.58528 & 109.76375 & 147.15488 & 223.66667 & 282.42346 & 170.61643 &        NA &  46.23158 &  16.29961 &        NA &        NA & 185.26070 & 205.37248 &        NA &  53.37789 &  63.74945 &  85.90230\\\\\n",
       "\tSOP &  58.49180 &        NA &        NA &        NA &        NA &        NA &        NA &        NA &        NA &        NA &        NA &        NA &        NA &        NA &        NA &        NA &        NA &        NA &        NA &        NA\\\\\n",
       "\tSPI &        NA &        NA &        NA &        NA &        NA &        NA &        NA &        NA &        NA &        NA &        NA &        NA &        NA &        NA &        NA &  36.53493 &        NA &        NA &        NA &        NA\\\\\n",
       "\tSPS &        NA &        NA &        NA &        NA &        NA &  29.67606 &        NA &        NA &        NA &        NA &        NA &        NA &        NA &        NA &        NA &        NA &        NA &        NA &        NA &        NA\\\\\n",
       "\tSRQ &  73.87254 & 161.12500 &  83.05882 & 121.67098 &        NA &        NA & 145.13115 & 145.27331 & 132.25575 & 137.93636 &        NA &        NA & 141.10563 &        NA &        NA &        NA &        NA &        NA &        NA &        NA\\\\\n",
       "\tSTL &  70.58891 & 133.59605 &  82.92320 &  54.02257 & 117.52297 &  83.73664 &  69.55181 & 121.13809 & 104.68803 & 126.88378 & 190.28463 & 217.75759 & 121.59915 & 114.75345 &  72.75288 &  46.74456 & 103.33333 & 180.04927 & 235.16110 & 168.29309\\\\\n",
       "\tSTT & 216.79545 & 228.79000 & 205.41439 &        NA &        NA &        NA &        NA & 233.28070 &        NA & 217.43056 &        NA &        NA & 228.58824 &        NA &        NA &        NA & 223.41860 &        NA &        NA &        NA\\\\\n",
       "\tSTX & 224.87500 &        NA & 214.56818 &        NA &        NA &        NA &        NA &        NA &        NA &        NA &        NA &        NA &        NA &        NA &        NA &        NA &        NA &        NA &        NA &        NA\\\\\n",
       "\tSUN &        NA &        NA &        NA &        NA &        NA &        NA &        NA &        NA &        NA &        NA &        NA &        NA &        NA &        NA &        NA &        NA &        NA &        NA &        NA &  47.95436\\\\\n",
       "\tSWF &        NA &        NA &        NA &        NA &        NA &        NA &        NA &        NA &        NA &  31.00000 &        NA &        NA &  24.00000 & 149.30769 &        NA & 117.85987 &        NA &        NA &        NA &        NA\\\\\n",
       "\tSYR & 117.72656 &        NA & 100.08044 &  89.96477 &        NA & 186.07123 &  65.32130 &  45.11202 &        NA &  46.67389 &        NA &        NA &  39.00000 & 144.20571 &        NA &  98.61814 &  49.35075 &        NA &        NA &        NA\\\\\n",
       "\tTEX &        NA &        NA &        NA &        NA &        NA &        NA &        NA &        NA &        NA &        NA &        NA &        NA &        NA &        NA &        NA &        NA &        NA &  94.61667 &        NA &        NA\\\\\n",
       "\tTLH &  43.69088 &        NA &  58.95238 &  87.76074 &        NA &        NA &        NA &        NA & 103.85006 &        NA &        NA &        NA &        NA &  38.00000 &        NA &        NA &        NA &        NA &        NA &        NA\\\\\n",
       "\tTOL &  87.54591 &        NA &        NA &  41.40787 &        NA &        NA &        NA &        NA &        NA &        NA &        NA &        NA &        NA &        NA &        NA &  45.08388 &        NA &        NA &        NA &        NA\\\\\n",
       "\tTPA &  68.74961 & 153.90213 &  78.15210 & 109.51089 & 209.40951 & 137.50225 & 136.28058 & 136.68474 & 114.04618 & 133.50841 & 270.17056 & 283.86614 & 137.51260 &        NA & 178.86716 & 144.23568 & 128.38494 & 247.30028 &        NA & 260.02975\\\\\n",
       "\tTRI &  53.61102 &        NA &  28.44231 &  46.50000 &        NA &        NA &        NA &        NA &        NA &        NA &        NA &        NA &        NA &        NA &        NA &        NA &        NA &        NA &        NA &        NA\\\\\n",
       "\tTTN & 118.12500 &  52.60606 &        NA &        NA &        NA &        NA &        NA &        NA &        NA &        NA &        NA &        NA &        NA &        NA &        NA &        NA &        NA &        NA &        NA &        NA\\\\\n",
       "\tTUL &  89.47529 &        NA &        NA &  93.32952 &  82.82383 &  43.89305 &        NA & 157.11402 &  74.44073 &        NA & 156.41918 &        NA &        NA & 131.30732 &        NA &  83.63326 &        NA & 136.76079 &        NA & 138.87549\\\\\n",
       "\tTUP &  45.44866 &        NA &        NA &        NA &        NA &        NA &        NA &        NA &        NA &        NA &        NA &        NA &        NA &        NA &        NA &        NA &        NA &        NA &        NA &        NA\\\\\n",
       "\tTUS & 185.41863 &        NA &        NA &        NA &  90.12527 & 105.03726 &        NA & 231.95238 & 125.00763 & 383.93617 &  58.02762 &  71.52328 &        NA &        NA & 160.30319 & 176.04642 &        NA &  26.96664 & 114.24390 &  88.00000\\\\\n",
       "\tTVC & 115.73256 &        NA &        NA &  67.87719 &        NA &        NA &  41.59008 &        NA &        NA &        NA &        NA &        NA &  98.02632 &        NA &  62.06757 &  46.27850 &        NA &        NA &        NA &        NA\\\\\n",
       "\tTWF &        NA &        NA &        NA &        NA &        NA &        NA &        NA &        NA &        NA &        NA &        NA &        NA &        NA &        NA &        NA &        NA &        NA &        NA &        NA &  41.55641\\\\\n",
       "\tTXK &        NA &        NA &        NA &        NA &        NA &  41.53947 &        NA &        NA &        NA &        NA &        NA &        NA &        NA &        NA &        NA &        NA &        NA &        NA &        NA &        NA\\\\\n",
       "\tTYR &        NA &        NA &        NA &        NA &        NA &  30.48733 &        NA &        NA &  40.51456 &        NA &        NA &        NA &        NA &        NA &        NA &        NA &        NA &        NA &        NA &        NA\\\\\n",
       "\tTYS &  35.01960 &        NA &  37.50000 &  49.86525 & 165.25157 & 119.51237 &        NA &  95.60932 & 117.50516 &        NA &        NA &        NA &  97.54575 &  74.46591 &        NA &  80.21979 &        NA &        NA &        NA &        NA\\\\\n",
       "\tVLD &  47.51441 &        NA &        NA &        NA &        NA &        NA &        NA &        NA &        NA &        NA &        NA &        NA &        NA &        NA &        NA &        NA &        NA &        NA &        NA &        NA\\\\\n",
       "\tVPS &  43.85534 &        NA &        NA &        NA &        NA & 105.09003 &        NA &        NA &  88.31888 &        NA &        NA &        NA &        NA &        NA &        NA &        NA &        NA &        NA &        NA &        NA\\\\\n",
       "\tWYS &        NA &        NA &        NA &        NA &        NA &        NA &        NA &        NA &        NA &        NA &        NA &        NA &        NA &        NA &        NA &        NA &        NA &        NA &        NA &  62.22989\\\\\n",
       "\tXNA &  76.85714 &        NA & 100.52632 &  86.10387 &  93.66241 &  48.55969 & 114.00000 & 150.50389 &  78.77298 &        NA &        NA & 186.04830 & 155.46331 &        NA &  89.00000 &  77.43692 &        NA &        NA &        NA & 150.01282\\\\\n",
       "\tYUM &        NA &        NA &        NA &        NA &        NA &        NA &        NA &        NA &        NA &        NA &        NA &  57.27344 &        NA &        NA &        NA &        NA &        NA &  40.42635 &        NA &        NA\\\\\n",
       "\\end{tabular}\n"
      ],
      "text/markdown": [
       "\n",
       "A matrix: 270 x 20 of type dbl\n",
       "\n",
       "| <!--/--> | ATL | BOS | CLT | CVG | DEN | DFW | DTW | EWR | IAH | JFK | LAS | LAX | LGA | MCO | MSP | ORD | PHL | PHX | SFO | SLC |\n",
       "|---|---|---|---|---|---|---|---|---|---|---|---|---|---|---|---|---|---|---|---|---|\n",
       "| ABE |  99.76581 |        NA |  76.24309 |  86.53635 |        NA |        NA |  75.50000 |        NA |        NA |    38.75000 |        NA |        NA |  38.50000 |        NA |        NA | 105.34195 |       NA |        NA |        NA |        NA |\n",
       "| ABI |        NA |        NA |        NA |        NA |        NA |  37.10790 |        NA |        NA |        NA |          NA |        NA | 144.00000 |        NA |        NA |        NA |        NA |       NA |        NA |        NA |        NA |\n",
       "| ABQ | 155.82889 |        NA |        NA | 150.65424 |  55.01665 |  76.08173 |        NA | 219.24324 | 103.27048 |          NA |  74.64480 |  99.82022 |        NA | 184.00831 | 126.50704 | 140.79052 |       NA |  56.55171 | 130.20445 |  77.40541 |\n",
       "| ABY |  33.82929 |        NA |        NA |        NA |        NA |        NA |        NA |        NA |        NA |          NA |        NA |        NA |        NA |        NA |        NA |        NA |       NA |        NA |        NA |        NA |\n",
       "| ACK |        NA |        NA |        NA |        NA |        NA |        NA |        NA |  61.00976 |        NA |          NA |        NA |        NA |        NA |        NA |        NA |        NA |       NA |        NA |        NA |        NA |\n",
       "| ACT |        NA |        NA |        NA |        NA |        NA |  29.97392 |        NA |        NA |        NA |          NA |        NA |        NA |        NA |        NA |        NA |        NA |       NA |        NA |        NA |        NA |\n",
       "| ACV |        NA |        NA |        NA |        NA |        NA |        NA |        NA |        NA |        NA |          NA |        NA |        NA |        NA |        NA |        NA |        NA |       NA |        NA |  61.25723 |        NA |\n",
       "| ACY | 111.41406 |        NA |        NA |  95.27191 |        NA |        NA |        NA |        NA |        NA |          NA |        NA |        NA |  37.75000 | 129.45000 |        NA |        NA |       NA |        NA |        NA |        NA |\n",
       "| AEX |  74.48528 |        NA |        NA |        NA |        NA |  73.76596 |        NA |        NA |  37.27797 |          NA |        NA |        NA |        NA |        NA |        NA |        NA |       NA |        NA |        NA |        NA |\n",
       "| AGS |  38.84975 |        NA |  34.62500 |        NA |        NA |        NA |        NA |        NA |        NA |          NA |        NA |        NA |        NA |        NA |        NA |        NA |       NA |        NA |        NA |        NA |\n",
       "| ALB | 130.00129 |        NA | 106.70433 | 105.49542 |        NA |        NA |  81.61670 |  37.28656 |        NA |    50.69697 | 305.91781 |        NA |        NA | 152.87716 |        NA | 115.77251 | 52.63048 |        NA |        NA |        NA |\n",
       "| AMA |        NA |        NA |        NA |        NA |        NA |  48.17827 |        NA |        NA |  78.19925 |          NA | 111.47802 |        NA |        NA |        NA |        NA |        NA |       NA |  87.00000 |        NA |        NA |\n",
       "| ANC | 396.09434 |        NA |        NA | 357.48529 | 282.54063 | 351.73026 | 339.82667 |        NA | 383.42714 |          NA | 282.77899 | 290.25153 |        NA |        NA | 292.15822 | 332.14529 |       NA | 303.83799 | 252.86145 | 251.11522 |\n",
       "| APF |  85.90641 |        NA |        NA |        NA |        NA |        NA |        NA |        NA |        NA |          NA |        NA |        NA |        NA |        NA |        NA |        NA |       NA |        NA |        NA |        NA |\n",
       "| ASE |        NA |        NA |        NA |        NA |  34.63804 |        NA |        NA |        NA |        NA |          NA |        NA | 105.55357 |        NA |        NA |        NA | 131.03448 |       NA | 114.83274 | 122.00000 |  52.65505 |\n",
       "| ATL |        NA | 123.52259 |  41.11313 |  60.32167 | 169.82033 | 111.24186 |  84.01060 | 106.11811 | 104.34296 |   106.26499 | 236.37072 | 256.98233 | 106.65166 |  59.53870 | 120.15724 |  94.85563 | 96.09057 | 218.62524 | 283.29794 | 215.89889 |\n",
       "| ATW | 108.05573 |        NA |        NA |  70.27113 |        NA |        NA |        NA |        NA |        NA |          NA |        NA |        NA |        NA |        NA |        NA |  35.01496 |       NA |        NA |        NA |        NA |\n",
       "| AUS | 105.48342 | 270.98538 |        NA | 134.29964 | 110.08958 |  38.27298 |        NA | 194.94595 |  34.62937 |   255.01761 | 154.07106 | 169.05746 |        NA | 127.01923 | 140.70599 | 131.73571 |       NA | 125.90365 | 208.68956 | 153.45956 |\n",
       "| AVL |  41.22086 |        NA |  25.82353 |  56.97674 |        NA |        NA |        NA |  89.72344 | 125.13573 |          NA |        NA |        NA |        NA |        NA |        NA |        NA |       NA |        NA |        NA |        NA |\n",
       "| AVP | 114.35123 |        NA |        NA |  87.24690 |        NA |        NA |        NA |        NA |        NA |    44.25000 |        NA |        NA |  38.00000 |        NA |        NA | 104.63422 |       NA |        NA |        NA |        NA |\n",
       "| AZO |  93.38997 |        NA |        NA |  43.85422 |        NA |        NA |  30.93878 |        NA |        NA |          NA |        NA |        NA |        NA |        NA |  72.00000 |  31.13696 |       NA |        NA |        NA |        NA |\n",
       "| BDL | 127.49979 |  33.00000 | 102.28854 | 106.22195 |        NA | 205.97458 |  93.34089 |  38.60094 | 208.94118 |    32.00000 | 314.75532 | 338.45704 |        NA | 148.01879 | 153.98755 | 126.06321 | 54.44915 | 304.96359 |        NA | 281.81776 |\n",
       "| BFL |        NA |        NA |        NA |        NA |        NA |        NA |        NA |        NA | 183.68668 |          NA |  47.24281 |  30.89519 |        NA |        NA |        NA |        NA |       NA |  69.97759 |  57.36495 |  88.88766 |\n",
       "| BGM | 114.52793 |        NA |        NA |  87.65744 |        NA |        NA |        NA |        NA |        NA |          NA |        NA |        NA |        NA |        NA |        NA |        NA |       NA |        NA |        NA |        NA |\n",
       "| BGR | 162.64000 |  41.71405 |        NA | 141.79268 |        NA |        NA |        NA |  78.10507 |        NA |          NA |        NA |        NA |  70.56566 |        NA |        NA |        NA | 73.00000 |        NA |        NA |        NA |\n",
       "| BHM |  32.66816 |        NA |  54.56763 |  74.48409 | 151.06474 |  94.89685 |  95.41525 | 121.07057 |  89.35189 |          NA | 223.33791 |        NA | 126.45854 |  69.96433 |        NA |  98.40845 |       NA | 206.94199 |        NA |        NA |\n",
       "| BIL |        NA |        NA |        NA |        NA |  66.27015 |        NA |        NA |        NA |        NA |          NA | 106.12500 |        NA |        NA |        NA |  96.87042 | 129.28571 |       NA | 117.41176 |        NA |  61.09237 |\n",
       "| BIS |        NA |        NA |        NA |        NA |  77.92795 |        NA |        NA |        NA |        NA |          NA |        NA |        NA |        NA |        NA |  59.38588 |        NA |       NA |        NA |        NA |        NA |\n",
       "| BLI |        NA |        NA |        NA |        NA |        NA |        NA |        NA |        NA |        NA |          NA |        NA |        NA |        NA |        NA |        NA |        NA |       NA |        NA |        NA | 103.38832 |\n",
       "| BMI |  81.68878 |        NA |        NA |        NA |        NA |        NA |        NA |        NA |        NA |          NA |        NA |        NA |        NA | 119.56548 |        NA |  29.59315 |       NA |        NA |        NA |        NA |\n",
       "| BNA |  39.77019 | 132.98780 |  53.88952 |  51.44226 | 146.30055 |  95.27199 |  74.04354 | 115.39938 | 106.14915 |   141.31828 | 220.08536 | 243.54387 | 107.54059 |  83.53837 | 106.57650 |  73.61115 | 94.44558 | 202.27304 |        NA | 198.12500 |\n",
       "| BOI | 213.28017 |        NA |        NA |        NA |  87.21566 |        NA |        NA |        NA | 186.83664 |          NA |  82.94384 | 106.89053 |        NA |        NA | 140.09158 | 176.59960 |       NA | 100.68349 |  84.76170 |  46.31830 |\n",
       "| BOS | 140.08160 |        NA | 111.62887 | 118.71377 | 225.03144 | 221.76416 | 101.53184 |  54.14145 | 227.16852 |    46.09112 | 284.34483 | 347.11603 |  46.28668 | 157.47942 | 163.79575 | 135.19867 | 63.91288 | 282.68664 | 360.45100 | 291.62323 |\n",
       "| BPT |        NA |        NA |        NA |        NA |        NA |        NA |        NA |        NA |  21.60169 |          NA |        NA |        NA |        NA |        NA |        NA |        NA |       NA |        NA |        NA |        NA |\n",
       "| BQK |  44.96566 |        NA |        NA |        NA |        NA |        NA |        NA |        NA |        NA |          NA |        NA |        NA |        NA |        NA |        NA |        NA |       NA |        NA |        NA |        NA |\n",
       "| BQN |        NA |        NA |        NA |        NA |        NA |        NA |        NA | 217.00000 |        NA |   179.57543 |        NA |        NA |        NA | 130.85950 |        NA |        NA |       NA |        NA |        NA |        NA |\n",
       "| BRO |        NA |        NA |        NA |        NA |        NA |        NA |        NA |        NA |  57.39603 |          NA |        NA |        NA |        NA |        NA |        NA |        NA |       NA |        NA |        NA |        NA |\n",
       "| BTM |        NA |        NA |        NA |        NA |        NA |        NA |        NA |        NA |        NA |          NA |        NA |        NA |        NA |        NA |        NA |        NA |       NA |        NA |        NA |  55.26546 |\n",
       "| BTR |  64.58610 |        NA |        NA | 100.11527 |        NA |  65.29965 |        NA | 155.52027 |  48.38486 |          NA |        NA |        NA | 148.76190 |        NA |        NA | 120.71465 |       NA |        NA |        NA |        NA |\n",
       "| BTV | 143.79630 |  35.00000 |        NA | 113.06009 |        NA |        NA |        NA |  54.98521 |        NA |    56.23673 |        NA |        NA |        NA |        NA |        NA | 117.42427 | 65.61751 |        NA |        NA |        NA |\n",
       "| BUF | 103.13225 |  60.78832 |  90.93596 |  74.42144 |        NA | 167.15385 |  47.11780 |  57.40000 |        NA |    60.45564 | 270.87637 |        NA |        NA | 134.79554 | 112.56667 |  79.55185 | 57.75613 | 261.91736 |        NA |        NA |\n",
       "| BUR | 236.22222 |        NA |        NA |        NA | 111.13057 | 153.33410 |        NA |        NA |        NA |   467.71937 |  43.37451 |        NA |        NA | 445.29167 |        NA |        NA |       NA |  63.66425 |  55.44762 |  84.60512 |\n",
       "| BWI |  90.48135 |  61.29524 |  61.91610 |  77.38824 | 212.17565 | 169.88153 |  69.93646 |  39.32421 | 177.31920 |    42.14993 | 288.24395 | 314.15925 |  41.00000 | 112.26203 | 137.21156 | 103.43732 | 31.42875 | 275.23001 | 332.16201 | 262.09129 |\n",
       "| BZN | 197.75610 |        NA |        NA |        NA |  73.92585 |        NA | 168.33333 |        NA |        NA |          NA |        NA |        NA |        NA |        NA | 113.57993 | 146.00714 |       NA |        NA |        NA |  53.17032 |\n",
       "| CAE |  41.16421 |        NA |  27.23288 |  68.98643 |        NA | 144.24347 |        NA |  90.70112 | 133.56969 | -1350.00000 |        NA |        NA |  85.03130 |        NA |        NA | 103.99547 | 80.34571 |        NA |        NA |        NA |\n",
       "| CAK |  80.66066 |  79.32083 |  69.00000 |  45.14776 | 176.70646 |        NA |        NA |        NA |        NA |          NA | 261.37838 |        NA |  67.41441 | 116.08033 |        NA |  62.39202 |       NA |        NA |        NA |        NA |\n",
       "| CDC |        NA |        NA |        NA |        NA |        NA |        NA |        NA |        NA |        NA |          NA |        NA |        NA |        NA |        NA |        NA |        NA |       NA |        NA |        NA |  48.64672 |\n",
       "| CEC |        NA |        NA |        NA |        NA |        NA |        NA |        NA |        NA |        NA |          NA |        NA |        NA |        NA |        NA |        NA |        NA |       NA |        NA |  72.04941 |        NA |\n",
       "| CHA |  29.88889 |        NA |  49.07692 |  61.60685 |        NA | 110.09348 |        NA |        NA | 105.73440 |          NA |        NA |        NA |        NA |        NA |        NA |  84.54303 |       NA |        NA |        NA |        NA |\n",
       "| CHO |  75.33638 |        NA |  46.29032 |  68.05843 |        NA |        NA |        NA |        NA |        NA |          NA |        NA |        NA |        NA |        NA |        NA |        NA |       NA |        NA |        NA |        NA |\n",
       "| ... | ... | ... | ... | ... | ... | ... | ... | ... | ... | ... | ... | ... | ... | ... | ... | ... | ... | ... | ... | ... |\n",
       "| RSW |  82.93184 | 161.59581 |  91.82364 | 127.19471 | 227.08989 | 149.04784 | 149.21511 | 147.38584 | 130.28695 | 141.20962 |        NA |        NA | 145.91445 |  30.36685 | 193.77165 | 159.95444 | 140.31089 |        NA |        NA |        NA |\n",
       "| SAN | 220.35081 | 295.29121 | 240.38617 | 216.43243 | 112.81484 | 146.06262 | 234.68487 | 281.34474 | 164.02524 | 372.39198 |  51.28143 |  28.93469 |        NA |        NA | 186.98681 | 209.05636 | 278.42896 |  50.19332 |  68.38142 |  88.78362 |\n",
       "| SAT | 116.33333 |        NA |        NA | 140.56628 | 112.44644 |  43.39703 | 157.95265 | 204.60355 |  40.35825 |        NA | 152.08815 | 166.56906 |        NA | 133.00205 | 142.05233 | 137.61657 |        NA | 123.29505 | 204.09524 | 154.04819 |\n",
       "| SAV |  42.65896 | 127.30594 |  45.96373 |  88.06312 |        NA | 142.10464 | 107.33333 | 103.68983 | 130.80347 |        NA |        NA |        NA | 107.25214 |  49.00000 |        NA | 117.75270 |        NA |        NA |        NA |        NA |\n",
       "| SBA |        NA |        NA |        NA |        NA | 119.23836 | 156.99415 |        NA |        NA |        NA |        NA |  51.98203 |  29.85906 |        NA |        NA |        NA |        NA |        NA |  68.90028 |  61.80574 |  94.27578 |\n",
       "| SBN |  83.26829 |        NA |        NA |  43.92308 |        NA |        NA |        NA |        NA |        NA |        NA |        NA |        NA |        NA |        NA |  67.00000 |  27.43495 |        NA |        NA |        NA |        NA |\n",
       "| SBP |        NA |        NA |        NA |        NA |        NA |        NA |        NA |        NA |        NA |        NA |  57.97213 |  42.11985 |        NA |        NA |        NA |        NA |        NA |  76.79610 |  45.66493 |        NA |\n",
       "| SCE |        NA |        NA |        NA |  71.03018 |        NA |        NA |        NA |        NA |        NA |        NA |        NA |        NA |        NA |        NA |        NA |        NA |        NA |        NA |        NA |        NA |\n",
       "| SDF |  57.58792 |        NA |  58.66667 |  27.06853 |        NA | 111.30717 |  59.13386 | 102.22083 | 124.22920 | 105.58824 | 225.21644 |        NA |        NA | 101.28042 | 100.16442 |  56.64403 | 101.00000 | 213.17260 |        NA |        NA |\n",
       "| SEA | 251.80639 | 359.80418 | 263.55094 | 227.46813 | 129.57110 | 197.99604 | 221.59036 | 281.56351 | 224.42965 | 343.88215 | 120.89593 | 130.95603 |        NA | 294.81319 | 166.24142 | 204.13659 | 278.12129 | 144.87183 | 103.33794 |  92.69077 |\n",
       "| SFO | 244.57911 | 304.53376 | 264.77635 | 233.17427 | 119.39754 | 175.53150 | 239.43411 | 293.98113 | 201.21339 | 296.80855 |  65.54279 |  55.45085 |        NA | 276.20430 | 186.93959 | 215.78435 | 290.10942 |  91.37507 |        NA |  81.68642 |\n",
       "| SGF |  78.77588 |        NA |        NA |  75.36318 |  98.47168 |  60.64859 |        NA |        NA |        NA |        NA |        NA |        NA |        NA |        NA |        NA |  67.90942 |        NA |        NA |        NA |        NA |\n",
       "| SGU |        NA |        NA |        NA |        NA |        NA |        NA |        NA |        NA |        NA |        NA |        NA |  84.25140 |        NA |        NA |        NA |        NA |        NA |        NA |        NA |  60.23080 |\n",
       "| SHV |  79.77522 |        NA |        NA |  94.97376 |        NA |  43.56562 |        NA |        NA |  40.06826 |        NA |        NA |        NA |        NA |        NA |        NA |        NA |        NA |        NA |        NA |        NA |\n",
       "| SJC | 248.14604 | 488.40000 |        NA |        NA | 125.30761 | 178.47981 |        NA | 289.34762 | 203.97570 | 483.34272 |  61.93898 |  52.28673 |        NA |        NA | 193.96537 | 224.29247 |        NA |  87.21705 |        NA |  87.34111 |\n",
       "| SJT |        NA |        NA |        NA |        NA |        NA |  43.80884 |        NA |        NA |        NA |        NA |        NA |        NA |        NA |        NA |        NA |        NA |        NA |        NA |        NA |        NA |\n",
       "| SJU | 208.09841 | 217.88103 | 197.79198 | 249.96970 |        NA | 279.99525 | 269.47778 | 217.71619 | 263.25547 | 197.90536 |        NA | 413.94186 | 219.61111 | 154.94657 | 339.25926 | 281.98646 | 212.82201 |        NA |        NA |        NA |\n",
       "| SLC | 187.22732 | 241.12447 |        NA | 174.83907 |  58.96893 | 125.11486 | 180.71333 | 231.84494 | 154.58199 | 271.63917 |  58.93038 |  88.99568 | 228.63415 | 225.26844 | 124.41347 | 156.39579 | 225.75909 |  74.67444 |  94.12300 |        NA |\n",
       "| SMF | 238.96721 |        NA |        NA |        NA | 115.63312 | 170.71832 |        NA |        NA | 195.20225 | 469.41176 |  61.23920 |  61.14151 |        NA |        NA | 181.57002 | 210.96435 |        NA |  89.89822 |  28.90007 |  74.70000 |\n",
       "| SMX |        NA |        NA |        NA |        NA |        NA |        NA |        NA |        NA |        NA |        NA |        NA |  37.34636 |        NA |        NA |        NA |        NA |        NA |        NA |        NA |        NA |\n",
       "| SNA | 224.31255 |        NA |        NA | 216.58528 | 109.76375 | 147.15488 | 223.66667 | 282.42346 | 170.61643 |        NA |  46.23158 |  16.29961 |        NA |        NA | 185.26070 | 205.37248 |        NA |  53.37789 |  63.74945 |  85.90230 |\n",
       "| SOP |  58.49180 |        NA |        NA |        NA |        NA |        NA |        NA |        NA |        NA |        NA |        NA |        NA |        NA |        NA |        NA |        NA |        NA |        NA |        NA |        NA |\n",
       "| SPI |        NA |        NA |        NA |        NA |        NA |        NA |        NA |        NA |        NA |        NA |        NA |        NA |        NA |        NA |        NA |  36.53493 |        NA |        NA |        NA |        NA |\n",
       "| SPS |        NA |        NA |        NA |        NA |        NA |  29.67606 |        NA |        NA |        NA |        NA |        NA |        NA |        NA |        NA |        NA |        NA |        NA |        NA |        NA |        NA |\n",
       "| SRQ |  73.87254 | 161.12500 |  83.05882 | 121.67098 |        NA |        NA | 145.13115 | 145.27331 | 132.25575 | 137.93636 |        NA |        NA | 141.10563 |        NA |        NA |        NA |        NA |        NA |        NA |        NA |\n",
       "| STL |  70.58891 | 133.59605 |  82.92320 |  54.02257 | 117.52297 |  83.73664 |  69.55181 | 121.13809 | 104.68803 | 126.88378 | 190.28463 | 217.75759 | 121.59915 | 114.75345 |  72.75288 |  46.74456 | 103.33333 | 180.04927 | 235.16110 | 168.29309 |\n",
       "| STT | 216.79545 | 228.79000 | 205.41439 |        NA |        NA |        NA |        NA | 233.28070 |        NA | 217.43056 |        NA |        NA | 228.58824 |        NA |        NA |        NA | 223.41860 |        NA |        NA |        NA |\n",
       "| STX | 224.87500 |        NA | 214.56818 |        NA |        NA |        NA |        NA |        NA |        NA |        NA |        NA |        NA |        NA |        NA |        NA |        NA |        NA |        NA |        NA |        NA |\n",
       "| SUN |        NA |        NA |        NA |        NA |        NA |        NA |        NA |        NA |        NA |        NA |        NA |        NA |        NA |        NA |        NA |        NA |        NA |        NA |        NA |  47.95436 |\n",
       "| SWF |        NA |        NA |        NA |        NA |        NA |        NA |        NA |        NA |        NA |  31.00000 |        NA |        NA |  24.00000 | 149.30769 |        NA | 117.85987 |        NA |        NA |        NA |        NA |\n",
       "| SYR | 117.72656 |        NA | 100.08044 |  89.96477 |        NA | 186.07123 |  65.32130 |  45.11202 |        NA |  46.67389 |        NA |        NA |  39.00000 | 144.20571 |        NA |  98.61814 |  49.35075 |        NA |        NA |        NA |\n",
       "| TEX |        NA |        NA |        NA |        NA |        NA |        NA |        NA |        NA |        NA |        NA |        NA |        NA |        NA |        NA |        NA |        NA |        NA |  94.61667 |        NA |        NA |\n",
       "| TLH |  43.69088 |        NA |  58.95238 |  87.76074 |        NA |        NA |        NA |        NA | 103.85006 |        NA |        NA |        NA |        NA |  38.00000 |        NA |        NA |        NA |        NA |        NA |        NA |\n",
       "| TOL |  87.54591 |        NA |        NA |  41.40787 |        NA |        NA |        NA |        NA |        NA |        NA |        NA |        NA |        NA |        NA |        NA |  45.08388 |        NA |        NA |        NA |        NA |\n",
       "| TPA |  68.74961 | 153.90213 |  78.15210 | 109.51089 | 209.40951 | 137.50225 | 136.28058 | 136.68474 | 114.04618 | 133.50841 | 270.17056 | 283.86614 | 137.51260 |        NA | 178.86716 | 144.23568 | 128.38494 | 247.30028 |        NA | 260.02975 |\n",
       "| TRI |  53.61102 |        NA |  28.44231 |  46.50000 |        NA |        NA |        NA |        NA |        NA |        NA |        NA |        NA |        NA |        NA |        NA |        NA |        NA |        NA |        NA |        NA |\n",
       "| TTN | 118.12500 |  52.60606 |        NA |        NA |        NA |        NA |        NA |        NA |        NA |        NA |        NA |        NA |        NA |        NA |        NA |        NA |        NA |        NA |        NA |        NA |\n",
       "| TUL |  89.47529 |        NA |        NA |  93.32952 |  82.82383 |  43.89305 |        NA | 157.11402 |  74.44073 |        NA | 156.41918 |        NA |        NA | 131.30732 |        NA |  83.63326 |        NA | 136.76079 |        NA | 138.87549 |\n",
       "| TUP |  45.44866 |        NA |        NA |        NA |        NA |        NA |        NA |        NA |        NA |        NA |        NA |        NA |        NA |        NA |        NA |        NA |        NA |        NA |        NA |        NA |\n",
       "| TUS | 185.41863 |        NA |        NA |        NA |  90.12527 | 105.03726 |        NA | 231.95238 | 125.00763 | 383.93617 |  58.02762 |  71.52328 |        NA |        NA | 160.30319 | 176.04642 |        NA |  26.96664 | 114.24390 |  88.00000 |\n",
       "| TVC | 115.73256 |        NA |        NA |  67.87719 |        NA |        NA |  41.59008 |        NA |        NA |        NA |        NA |        NA |  98.02632 |        NA |  62.06757 |  46.27850 |        NA |        NA |        NA |        NA |\n",
       "| TWF |        NA |        NA |        NA |        NA |        NA |        NA |        NA |        NA |        NA |        NA |        NA |        NA |        NA |        NA |        NA |        NA |        NA |        NA |        NA |  41.55641 |\n",
       "| TXK |        NA |        NA |        NA |        NA |        NA |  41.53947 |        NA |        NA |        NA |        NA |        NA |        NA |        NA |        NA |        NA |        NA |        NA |        NA |        NA |        NA |\n",
       "| TYR |        NA |        NA |        NA |        NA |        NA |  30.48733 |        NA |        NA |  40.51456 |        NA |        NA |        NA |        NA |        NA |        NA |        NA |        NA |        NA |        NA |        NA |\n",
       "| TYS |  35.01960 |        NA |  37.50000 |  49.86525 | 165.25157 | 119.51237 |        NA |  95.60932 | 117.50516 |        NA |        NA |        NA |  97.54575 |  74.46591 |        NA |  80.21979 |        NA |        NA |        NA |        NA |\n",
       "| VLD |  47.51441 |        NA |        NA |        NA |        NA |        NA |        NA |        NA |        NA |        NA |        NA |        NA |        NA |        NA |        NA |        NA |        NA |        NA |        NA |        NA |\n",
       "| VPS |  43.85534 |        NA |        NA |        NA |        NA | 105.09003 |        NA |        NA |  88.31888 |        NA |        NA |        NA |        NA |        NA |        NA |        NA |        NA |        NA |        NA |        NA |\n",
       "| WYS |        NA |        NA |        NA |        NA |        NA |        NA |        NA |        NA |        NA |        NA |        NA |        NA |        NA |        NA |        NA |        NA |        NA |        NA |        NA |  62.22989 |\n",
       "| XNA |  76.85714 |        NA | 100.52632 |  86.10387 |  93.66241 |  48.55969 | 114.00000 | 150.50389 |  78.77298 |        NA |        NA | 186.04830 | 155.46331 |        NA |  89.00000 |  77.43692 |        NA |        NA |        NA | 150.01282 |\n",
       "| YUM |        NA |        NA |        NA |        NA |        NA |        NA |        NA |        NA |        NA |        NA |        NA |  57.27344 |        NA |        NA |        NA |        NA |        NA |  40.42635 |        NA |        NA |\n",
       "\n"
      ],
      "text/plain": [
       "    ATL       BOS       CLT       CVG       DEN       DFW       DTW      \n",
       "ABE  99.76581        NA  76.24309  86.53635        NA        NA  75.50000\n",
       "ABI        NA        NA        NA        NA        NA  37.10790        NA\n",
       "ABQ 155.82889        NA        NA 150.65424  55.01665  76.08173        NA\n",
       "ABY  33.82929        NA        NA        NA        NA        NA        NA\n",
       "ACK        NA        NA        NA        NA        NA        NA        NA\n",
       "ACT        NA        NA        NA        NA        NA  29.97392        NA\n",
       "ACV        NA        NA        NA        NA        NA        NA        NA\n",
       "ACY 111.41406        NA        NA  95.27191        NA        NA        NA\n",
       "AEX  74.48528        NA        NA        NA        NA  73.76596        NA\n",
       "AGS  38.84975        NA  34.62500        NA        NA        NA        NA\n",
       "ALB 130.00129        NA 106.70433 105.49542        NA        NA  81.61670\n",
       "AMA        NA        NA        NA        NA        NA  48.17827        NA\n",
       "ANC 396.09434        NA        NA 357.48529 282.54063 351.73026 339.82667\n",
       "APF  85.90641        NA        NA        NA        NA        NA        NA\n",
       "ASE        NA        NA        NA        NA  34.63804        NA        NA\n",
       "ATL        NA 123.52259  41.11313  60.32167 169.82033 111.24186  84.01060\n",
       "ATW 108.05573        NA        NA  70.27113        NA        NA        NA\n",
       "AUS 105.48342 270.98538        NA 134.29964 110.08958  38.27298        NA\n",
       "AVL  41.22086        NA  25.82353  56.97674        NA        NA        NA\n",
       "AVP 114.35123        NA        NA  87.24690        NA        NA        NA\n",
       "AZO  93.38997        NA        NA  43.85422        NA        NA  30.93878\n",
       "BDL 127.49979  33.00000 102.28854 106.22195        NA 205.97458  93.34089\n",
       "BFL        NA        NA        NA        NA        NA        NA        NA\n",
       "BGM 114.52793        NA        NA  87.65744        NA        NA        NA\n",
       "BGR 162.64000  41.71405        NA 141.79268        NA        NA        NA\n",
       "BHM  32.66816        NA  54.56763  74.48409 151.06474  94.89685  95.41525\n",
       "BIL        NA        NA        NA        NA  66.27015        NA        NA\n",
       "BIS        NA        NA        NA        NA  77.92795        NA        NA\n",
       "BLI        NA        NA        NA        NA        NA        NA        NA\n",
       "BMI  81.68878        NA        NA        NA        NA        NA        NA\n",
       "BNA  39.77019 132.98780  53.88952  51.44226 146.30055  95.27199  74.04354\n",
       "BOI 213.28017        NA        NA        NA  87.21566        NA        NA\n",
       "BOS 140.08160        NA 111.62887 118.71377 225.03144 221.76416 101.53184\n",
       "BPT        NA        NA        NA        NA        NA        NA        NA\n",
       "BQK  44.96566        NA        NA        NA        NA        NA        NA\n",
       "BQN        NA        NA        NA        NA        NA        NA        NA\n",
       "BRO        NA        NA        NA        NA        NA        NA        NA\n",
       "BTM        NA        NA        NA        NA        NA        NA        NA\n",
       "BTR  64.58610        NA        NA 100.11527        NA  65.29965        NA\n",
       "BTV 143.79630  35.00000        NA 113.06009        NA        NA        NA\n",
       "BUF 103.13225  60.78832  90.93596  74.42144        NA 167.15385  47.11780\n",
       "BUR 236.22222        NA        NA        NA 111.13057 153.33410        NA\n",
       "BWI  90.48135  61.29524  61.91610  77.38824 212.17565 169.88153  69.93646\n",
       "BZN 197.75610        NA        NA        NA  73.92585        NA 168.33333\n",
       "CAE  41.16421        NA  27.23288  68.98643        NA 144.24347        NA\n",
       "CAK  80.66066  79.32083  69.00000  45.14776 176.70646        NA        NA\n",
       "CDC        NA        NA        NA        NA        NA        NA        NA\n",
       "CEC        NA        NA        NA        NA        NA        NA        NA\n",
       "CHA  29.88889        NA  49.07692  61.60685        NA 110.09348        NA\n",
       "CHO  75.33638        NA  46.29032  68.05843        NA        NA        NA\n",
       "... ...       ...       ...       ...       ...       ...       ...      \n",
       "RSW  82.93184 161.59581  91.82364 127.19471 227.08989 149.04784 149.21511\n",
       "SAN 220.35081 295.29121 240.38617 216.43243 112.81484 146.06262 234.68487\n",
       "SAT 116.33333        NA        NA 140.56628 112.44644  43.39703 157.95265\n",
       "SAV  42.65896 127.30594  45.96373  88.06312        NA 142.10464 107.33333\n",
       "SBA        NA        NA        NA        NA 119.23836 156.99415        NA\n",
       "SBN  83.26829        NA        NA  43.92308        NA        NA        NA\n",
       "SBP        NA        NA        NA        NA        NA        NA        NA\n",
       "SCE        NA        NA        NA  71.03018        NA        NA        NA\n",
       "SDF  57.58792        NA  58.66667  27.06853        NA 111.30717  59.13386\n",
       "SEA 251.80639 359.80418 263.55094 227.46813 129.57110 197.99604 221.59036\n",
       "SFO 244.57911 304.53376 264.77635 233.17427 119.39754 175.53150 239.43411\n",
       "SGF  78.77588        NA        NA  75.36318  98.47168  60.64859        NA\n",
       "SGU        NA        NA        NA        NA        NA        NA        NA\n",
       "SHV  79.77522        NA        NA  94.97376        NA  43.56562        NA\n",
       "SJC 248.14604 488.40000        NA        NA 125.30761 178.47981        NA\n",
       "SJT        NA        NA        NA        NA        NA  43.80884        NA\n",
       "SJU 208.09841 217.88103 197.79198 249.96970        NA 279.99525 269.47778\n",
       "SLC 187.22732 241.12447        NA 174.83907  58.96893 125.11486 180.71333\n",
       "SMF 238.96721        NA        NA        NA 115.63312 170.71832        NA\n",
       "SMX        NA        NA        NA        NA        NA        NA        NA\n",
       "SNA 224.31255        NA        NA 216.58528 109.76375 147.15488 223.66667\n",
       "SOP  58.49180        NA        NA        NA        NA        NA        NA\n",
       "SPI        NA        NA        NA        NA        NA        NA        NA\n",
       "SPS        NA        NA        NA        NA        NA  29.67606        NA\n",
       "SRQ  73.87254 161.12500  83.05882 121.67098        NA        NA 145.13115\n",
       "STL  70.58891 133.59605  82.92320  54.02257 117.52297  83.73664  69.55181\n",
       "STT 216.79545 228.79000 205.41439        NA        NA        NA        NA\n",
       "STX 224.87500        NA 214.56818        NA        NA        NA        NA\n",
       "SUN        NA        NA        NA        NA        NA        NA        NA\n",
       "SWF        NA        NA        NA        NA        NA        NA        NA\n",
       "SYR 117.72656        NA 100.08044  89.96477        NA 186.07123  65.32130\n",
       "TEX        NA        NA        NA        NA        NA        NA        NA\n",
       "TLH  43.69088        NA  58.95238  87.76074        NA        NA        NA\n",
       "TOL  87.54591        NA        NA  41.40787        NA        NA        NA\n",
       "TPA  68.74961 153.90213  78.15210 109.51089 209.40951 137.50225 136.28058\n",
       "TRI  53.61102        NA  28.44231  46.50000        NA        NA        NA\n",
       "TTN 118.12500  52.60606        NA        NA        NA        NA        NA\n",
       "TUL  89.47529        NA        NA  93.32952  82.82383  43.89305        NA\n",
       "TUP  45.44866        NA        NA        NA        NA        NA        NA\n",
       "TUS 185.41863        NA        NA        NA  90.12527 105.03726        NA\n",
       "TVC 115.73256        NA        NA  67.87719        NA        NA  41.59008\n",
       "TWF        NA        NA        NA        NA        NA        NA        NA\n",
       "TXK        NA        NA        NA        NA        NA  41.53947        NA\n",
       "TYR        NA        NA        NA        NA        NA  30.48733        NA\n",
       "TYS  35.01960        NA  37.50000  49.86525 165.25157 119.51237        NA\n",
       "VLD  47.51441        NA        NA        NA        NA        NA        NA\n",
       "VPS  43.85534        NA        NA        NA        NA 105.09003        NA\n",
       "WYS        NA        NA        NA        NA        NA        NA        NA\n",
       "XNA  76.85714        NA 100.52632  86.10387  93.66241  48.55969 114.00000\n",
       "YUM        NA        NA        NA        NA        NA        NA        NA\n",
       "    EWR       IAH       JFK         LAS       LAX       LGA       MCO      \n",
       "ABE        NA        NA    38.75000        NA        NA  38.50000        NA\n",
       "ABI        NA        NA          NA        NA 144.00000        NA        NA\n",
       "ABQ 219.24324 103.27048          NA  74.64480  99.82022        NA 184.00831\n",
       "ABY        NA        NA          NA        NA        NA        NA        NA\n",
       "ACK  61.00976        NA          NA        NA        NA        NA        NA\n",
       "ACT        NA        NA          NA        NA        NA        NA        NA\n",
       "ACV        NA        NA          NA        NA        NA        NA        NA\n",
       "ACY        NA        NA          NA        NA        NA  37.75000 129.45000\n",
       "AEX        NA  37.27797          NA        NA        NA        NA        NA\n",
       "AGS        NA        NA          NA        NA        NA        NA        NA\n",
       "ALB  37.28656        NA    50.69697 305.91781        NA        NA 152.87716\n",
       "AMA        NA  78.19925          NA 111.47802        NA        NA        NA\n",
       "ANC        NA 383.42714          NA 282.77899 290.25153        NA        NA\n",
       "APF        NA        NA          NA        NA        NA        NA        NA\n",
       "ASE        NA        NA          NA        NA 105.55357        NA        NA\n",
       "ATL 106.11811 104.34296   106.26499 236.37072 256.98233 106.65166  59.53870\n",
       "ATW        NA        NA          NA        NA        NA        NA        NA\n",
       "AUS 194.94595  34.62937   255.01761 154.07106 169.05746        NA 127.01923\n",
       "AVL  89.72344 125.13573          NA        NA        NA        NA        NA\n",
       "AVP        NA        NA    44.25000        NA        NA  38.00000        NA\n",
       "AZO        NA        NA          NA        NA        NA        NA        NA\n",
       "BDL  38.60094 208.94118    32.00000 314.75532 338.45704        NA 148.01879\n",
       "BFL        NA 183.68668          NA  47.24281  30.89519        NA        NA\n",
       "BGM        NA        NA          NA        NA        NA        NA        NA\n",
       "BGR  78.10507        NA          NA        NA        NA  70.56566        NA\n",
       "BHM 121.07057  89.35189          NA 223.33791        NA 126.45854  69.96433\n",
       "BIL        NA        NA          NA 106.12500        NA        NA        NA\n",
       "BIS        NA        NA          NA        NA        NA        NA        NA\n",
       "BLI        NA        NA          NA        NA        NA        NA        NA\n",
       "BMI        NA        NA          NA        NA        NA        NA 119.56548\n",
       "BNA 115.39938 106.14915   141.31828 220.08536 243.54387 107.54059  83.53837\n",
       "BOI        NA 186.83664          NA  82.94384 106.89053        NA        NA\n",
       "BOS  54.14145 227.16852    46.09112 284.34483 347.11603  46.28668 157.47942\n",
       "BPT        NA  21.60169          NA        NA        NA        NA        NA\n",
       "BQK        NA        NA          NA        NA        NA        NA        NA\n",
       "BQN 217.00000        NA   179.57543        NA        NA        NA 130.85950\n",
       "BRO        NA  57.39603          NA        NA        NA        NA        NA\n",
       "BTM        NA        NA          NA        NA        NA        NA        NA\n",
       "BTR 155.52027  48.38486          NA        NA        NA 148.76190        NA\n",
       "BTV  54.98521        NA    56.23673        NA        NA        NA        NA\n",
       "BUF  57.40000        NA    60.45564 270.87637        NA        NA 134.79554\n",
       "BUR        NA        NA   467.71937  43.37451        NA        NA 445.29167\n",
       "BWI  39.32421 177.31920    42.14993 288.24395 314.15925  41.00000 112.26203\n",
       "BZN        NA        NA          NA        NA        NA        NA        NA\n",
       "CAE  90.70112 133.56969 -1350.00000        NA        NA  85.03130        NA\n",
       "CAK        NA        NA          NA 261.37838        NA  67.41441 116.08033\n",
       "CDC        NA        NA          NA        NA        NA        NA        NA\n",
       "CEC        NA        NA          NA        NA        NA        NA        NA\n",
       "CHA        NA 105.73440          NA        NA        NA        NA        NA\n",
       "CHO        NA        NA          NA        NA        NA        NA        NA\n",
       "... ...       ...       ...         ...       ...       ...       ...      \n",
       "RSW 147.38584 130.28695 141.20962          NA        NA 145.91445  30.36685\n",
       "SAN 281.34474 164.02524 372.39198    51.28143  28.93469        NA        NA\n",
       "SAT 204.60355  40.35825        NA   152.08815 166.56906        NA 133.00205\n",
       "SAV 103.68983 130.80347        NA          NA        NA 107.25214  49.00000\n",
       "SBA        NA        NA        NA    51.98203  29.85906        NA        NA\n",
       "SBN        NA        NA        NA          NA        NA        NA        NA\n",
       "SBP        NA        NA        NA    57.97213  42.11985        NA        NA\n",
       "SCE        NA        NA        NA          NA        NA        NA        NA\n",
       "SDF 102.22083 124.22920 105.58824   225.21644        NA        NA 101.28042\n",
       "SEA 281.56351 224.42965 343.88215   120.89593 130.95603        NA 294.81319\n",
       "SFO 293.98113 201.21339 296.80855    65.54279  55.45085        NA 276.20430\n",
       "SGF        NA        NA        NA          NA        NA        NA        NA\n",
       "SGU        NA        NA        NA          NA  84.25140        NA        NA\n",
       "SHV        NA  40.06826        NA          NA        NA        NA        NA\n",
       "SJC 289.34762 203.97570 483.34272    61.93898  52.28673        NA        NA\n",
       "SJT        NA        NA        NA          NA        NA        NA        NA\n",
       "SJU 217.71619 263.25547 197.90536          NA 413.94186 219.61111 154.94657\n",
       "SLC 231.84494 154.58199 271.63917    58.93038  88.99568 228.63415 225.26844\n",
       "SMF        NA 195.20225 469.41176    61.23920  61.14151        NA        NA\n",
       "SMX        NA        NA        NA          NA  37.34636        NA        NA\n",
       "SNA 282.42346 170.61643        NA    46.23158  16.29961        NA        NA\n",
       "SOP        NA        NA        NA          NA        NA        NA        NA\n",
       "SPI        NA        NA        NA          NA        NA        NA        NA\n",
       "SPS        NA        NA        NA          NA        NA        NA        NA\n",
       "SRQ 145.27331 132.25575 137.93636          NA        NA 141.10563        NA\n",
       "STL 121.13809 104.68803 126.88378   190.28463 217.75759 121.59915 114.75345\n",
       "STT 233.28070        NA 217.43056          NA        NA 228.58824        NA\n",
       "STX        NA        NA        NA          NA        NA        NA        NA\n",
       "SUN        NA        NA        NA          NA        NA        NA        NA\n",
       "SWF        NA        NA  31.00000          NA        NA  24.00000 149.30769\n",
       "SYR  45.11202        NA  46.67389          NA        NA  39.00000 144.20571\n",
       "TEX        NA        NA        NA          NA        NA        NA        NA\n",
       "TLH        NA 103.85006        NA          NA        NA        NA  38.00000\n",
       "TOL        NA        NA        NA          NA        NA        NA        NA\n",
       "TPA 136.68474 114.04618 133.50841   270.17056 283.86614 137.51260        NA\n",
       "TRI        NA        NA        NA          NA        NA        NA        NA\n",
       "TTN        NA        NA        NA          NA        NA        NA        NA\n",
       "TUL 157.11402  74.44073        NA   156.41918        NA        NA 131.30732\n",
       "TUP        NA        NA        NA          NA        NA        NA        NA\n",
       "TUS 231.95238 125.00763 383.93617    58.02762  71.52328        NA        NA\n",
       "TVC        NA        NA        NA          NA        NA  98.02632        NA\n",
       "TWF        NA        NA        NA          NA        NA        NA        NA\n",
       "TXK        NA        NA        NA          NA        NA        NA        NA\n",
       "TYR        NA  40.51456        NA          NA        NA        NA        NA\n",
       "TYS  95.60932 117.50516        NA          NA        NA  97.54575  74.46591\n",
       "VLD        NA        NA        NA          NA        NA        NA        NA\n",
       "VPS        NA  88.31888        NA          NA        NA        NA        NA\n",
       "WYS        NA        NA        NA          NA        NA        NA        NA\n",
       "XNA 150.50389  78.77298        NA          NA 186.04830 155.46331        NA\n",
       "YUM        NA        NA        NA          NA  57.27344        NA        NA\n",
       "    MSP       ORD       PHL       PHX       SFO       SLC      \n",
       "ABE        NA 105.34195       NA         NA        NA        NA\n",
       "ABI        NA        NA       NA         NA        NA        NA\n",
       "ABQ 126.50704 140.79052       NA   56.55171 130.20445  77.40541\n",
       "ABY        NA        NA       NA         NA        NA        NA\n",
       "ACK        NA        NA       NA         NA        NA        NA\n",
       "ACT        NA        NA       NA         NA        NA        NA\n",
       "ACV        NA        NA       NA         NA  61.25723        NA\n",
       "ACY        NA        NA       NA         NA        NA        NA\n",
       "AEX        NA        NA       NA         NA        NA        NA\n",
       "AGS        NA        NA       NA         NA        NA        NA\n",
       "ALB        NA 115.77251 52.63048         NA        NA        NA\n",
       "AMA        NA        NA       NA   87.00000        NA        NA\n",
       "ANC 292.15822 332.14529       NA  303.83799 252.86145 251.11522\n",
       "APF        NA        NA       NA         NA        NA        NA\n",
       "ASE        NA 131.03448       NA  114.83274 122.00000  52.65505\n",
       "ATL 120.15724  94.85563 96.09057  218.62524 283.29794 215.89889\n",
       "ATW        NA  35.01496       NA         NA        NA        NA\n",
       "AUS 140.70599 131.73571       NA  125.90365 208.68956 153.45956\n",
       "AVL        NA        NA       NA         NA        NA        NA\n",
       "AVP        NA 104.63422       NA         NA        NA        NA\n",
       "AZO  72.00000  31.13696       NA         NA        NA        NA\n",
       "BDL 153.98755 126.06321 54.44915  304.96359        NA 281.81776\n",
       "BFL        NA        NA       NA   69.97759  57.36495  88.88766\n",
       "BGM        NA        NA       NA         NA        NA        NA\n",
       "BGR        NA        NA 73.00000         NA        NA        NA\n",
       "BHM        NA  98.40845       NA  206.94199        NA        NA\n",
       "BIL  96.87042 129.28571       NA  117.41176        NA  61.09237\n",
       "BIS  59.38588        NA       NA         NA        NA        NA\n",
       "BLI        NA        NA       NA         NA        NA 103.38832\n",
       "BMI        NA  29.59315       NA         NA        NA        NA\n",
       "BNA 106.57650  73.61115 94.44558  202.27304        NA 198.12500\n",
       "BOI 140.09158 176.59960       NA  100.68349  84.76170  46.31830\n",
       "BOS 163.79575 135.19867 63.91288  282.68664 360.45100 291.62323\n",
       "BPT        NA        NA       NA         NA        NA        NA\n",
       "BQK        NA        NA       NA         NA        NA        NA\n",
       "BQN        NA        NA       NA         NA        NA        NA\n",
       "BRO        NA        NA       NA         NA        NA        NA\n",
       "BTM        NA        NA       NA         NA        NA  55.26546\n",
       "BTR        NA 120.71465       NA         NA        NA        NA\n",
       "BTV        NA 117.42427 65.61751         NA        NA        NA\n",
       "BUF 112.56667  79.55185 57.75613  261.91736        NA        NA\n",
       "BUR        NA        NA       NA   63.66425  55.44762  84.60512\n",
       "BWI 137.21156 103.43732 31.42875  275.23001 332.16201 262.09129\n",
       "BZN 113.57993 146.00714       NA         NA        NA  53.17032\n",
       "CAE        NA 103.99547 80.34571         NA        NA        NA\n",
       "CAK        NA  62.39202       NA         NA        NA        NA\n",
       "CDC        NA        NA       NA         NA        NA  48.64672\n",
       "CEC        NA        NA       NA         NA  72.04941        NA\n",
       "CHA        NA  84.54303       NA         NA        NA        NA\n",
       "CHO        NA        NA       NA         NA        NA        NA\n",
       "... ...       ...       ...       ...       ...       ...      \n",
       "RSW 193.77165 159.95444 140.31089        NA        NA        NA\n",
       "SAN 186.98681 209.05636 278.42896  50.19332  68.38142  88.78362\n",
       "SAT 142.05233 137.61657        NA 123.29505 204.09524 154.04819\n",
       "SAV        NA 117.75270        NA        NA        NA        NA\n",
       "SBA        NA        NA        NA  68.90028  61.80574  94.27578\n",
       "SBN  67.00000  27.43495        NA        NA        NA        NA\n",
       "SBP        NA        NA        NA  76.79610  45.66493        NA\n",
       "SCE        NA        NA        NA        NA        NA        NA\n",
       "SDF 100.16442  56.64403 101.00000 213.17260        NA        NA\n",
       "SEA 166.24142 204.13659 278.12129 144.87183 103.33794  92.69077\n",
       "SFO 186.93959 215.78435 290.10942  91.37507        NA  81.68642\n",
       "SGF        NA  67.90942        NA        NA        NA        NA\n",
       "SGU        NA        NA        NA        NA        NA  60.23080\n",
       "SHV        NA        NA        NA        NA        NA        NA\n",
       "SJC 193.96537 224.29247        NA  87.21705        NA  87.34111\n",
       "SJT        NA        NA        NA        NA        NA        NA\n",
       "SJU 339.25926 281.98646 212.82201        NA        NA        NA\n",
       "SLC 124.41347 156.39579 225.75909  74.67444  94.12300        NA\n",
       "SMF 181.57002 210.96435        NA  89.89822  28.90007  74.70000\n",
       "SMX        NA        NA        NA        NA        NA        NA\n",
       "SNA 185.26070 205.37248        NA  53.37789  63.74945  85.90230\n",
       "SOP        NA        NA        NA        NA        NA        NA\n",
       "SPI        NA  36.53493        NA        NA        NA        NA\n",
       "SPS        NA        NA        NA        NA        NA        NA\n",
       "SRQ        NA        NA        NA        NA        NA        NA\n",
       "STL  72.75288  46.74456 103.33333 180.04927 235.16110 168.29309\n",
       "STT        NA        NA 223.41860        NA        NA        NA\n",
       "STX        NA        NA        NA        NA        NA        NA\n",
       "SUN        NA        NA        NA        NA        NA  47.95436\n",
       "SWF        NA 117.85987        NA        NA        NA        NA\n",
       "SYR        NA  98.61814  49.35075        NA        NA        NA\n",
       "TEX        NA        NA        NA  94.61667        NA        NA\n",
       "TLH        NA        NA        NA        NA        NA        NA\n",
       "TOL        NA  45.08388        NA        NA        NA        NA\n",
       "TPA 178.86716 144.23568 128.38494 247.30028        NA 260.02975\n",
       "TRI        NA        NA        NA        NA        NA        NA\n",
       "TTN        NA        NA        NA        NA        NA        NA\n",
       "TUL        NA  83.63326        NA 136.76079        NA 138.87549\n",
       "TUP        NA        NA        NA        NA        NA        NA\n",
       "TUS 160.30319 176.04642        NA  26.96664 114.24390  88.00000\n",
       "TVC  62.06757  46.27850        NA        NA        NA        NA\n",
       "TWF        NA        NA        NA        NA        NA  41.55641\n",
       "TXK        NA        NA        NA        NA        NA        NA\n",
       "TYR        NA        NA        NA        NA        NA        NA\n",
       "TYS        NA  80.21979        NA        NA        NA        NA\n",
       "VLD        NA        NA        NA        NA        NA        NA\n",
       "VPS        NA        NA        NA        NA        NA        NA\n",
       "WYS        NA        NA        NA        NA        NA  62.22989\n",
       "XNA  89.00000  77.43692        NA        NA        NA 150.01282\n",
       "YUM        NA        NA        NA  40.42635        NA        NA"
      ]
     },
     "metadata": {},
     "output_type": "display_data"
    }
   ],
   "source": [
    "tapply(top_dests_df$AirTime, list(top_dests_df$Origin, top_dests_df$Dest), mean, na.rm=TRUE)"
   ]
  },
  {
   "cell_type": "markdown",
   "id": "75ca2517-08f9-4a2c-8311-222e44bb4376",
   "metadata": {},
   "source": [
    "We used sort() before using names() because names() returns the labels of the table (which is in alphabetical order), but sort() makes it so that names() will return the data in order of highest flight counts."
   ]
  },
  {
   "cell_type": "markdown",
   "id": "9f688b41-7c05-4aec-835a-ccc391e7ebb7",
   "metadata": {},
   "source": [
    "The na.rm=TRUE only removes the missing values from the air time average calculations, not the origin and destination pairs. "
   ]
  },
  {
   "cell_type": "markdown",
   "id": "6f3cbbf1-13af-41b6-931e-3a922c94f058",
   "metadata": {},
   "source": [
    "# Question 3"
   ]
  },
  {
   "cell_type": "code",
   "execution_count": 13,
   "id": "39acef75-5fd3-4a28-a45f-226bcefa92e7",
   "metadata": {},
   "outputs": [
    {
     "data": {
      "text/plain": [
       "    brand               key                name             subhead         \n",
       " Length:241         Length:241         Length:241         Length:241        \n",
       " Class :character   Class :character   Class :character   Class :character  \n",
       " Mode  :character   Mode  :character   Mode  :character   Mode  :character  \n",
       "                                                                            \n",
       "                                                                            \n",
       "                                                                            \n",
       " description            rating       rating_count    ingredients       \n",
       " Length:241         Min.   :1.200   Min.   :  2.00   Length:241        \n",
       " Class :character   1st Qu.:4.000   1st Qu.: 28.00   Class :character  \n",
       " Mode  :character   Median :4.400   Median : 59.00   Mode  :character  \n",
       "                    Mean   :4.223   Mean   : 90.02                     \n",
       "                    3rd Qu.:4.700   3rd Qu.:112.00                     \n",
       "                    Max.   :5.000   Max.   :983.00                     "
      ]
     },
     "metadata": {},
     "output_type": "display_data"
    }
   ],
   "source": [
    "ice_cream <- read.csv(\"/anvil/projects/tdm/data/icecream/combined/products.csv\")\n",
    "summary(ice_cream)"
   ]
  },
  {
   "cell_type": "code",
   "execution_count": 14,
   "id": "59ca65c8-6188-4111-9c71-e96528994508",
   "metadata": {},
   "outputs": [],
   "source": [
    "rating_phrases <- table(cut(ice_cream$rating, breaks=c(0, 2, 3, 4, 5), labels=c(\"Wouldn't Recommend\", \"Needs Improvement\", \"Solid Choice\", \"Fan Favorite\")))"
   ]
  },
  {
   "cell_type": "code",
   "execution_count": 15,
   "id": "0e9aac19-8c1c-48b7-83c1-aa9b8f56e977",
   "metadata": {},
   "outputs": [
    {
     "data": {
      "text/plain": [
       "\n",
       "Wouldn't Recommend  Needs Improvement       Solid Choice       Fan Favorite \n",
       "                 2                 14                 52                173 "
      ]
     },
     "metadata": {},
     "output_type": "display_data"
    }
   ],
   "source": [
    "head(rating_phrases)"
   ]
  },
  {
   "cell_type": "markdown",
   "id": "609f255e-a5fd-4226-a53f-e88fa09d72f7",
   "metadata": {},
   "source": [
    "Another way that the cut() function can be used is to use it on the rating_count column. This would allow us to see how widely reviewed something is. We could categorize it as \"Low Popularity\", \"Medium Popularity\", and \"High Popularity\""
   ]
  },
  {
   "cell_type": "markdown",
   "id": "8ec8644c-ad92-40a0-b72e-12df56f6423c",
   "metadata": {},
   "source": [
    "# Question 4"
   ]
  },
  {
   "cell_type": "code",
   "execution_count": 16,
   "id": "944cabc0-7f4a-4d40-9ceb-a83bc5787362",
   "metadata": {},
   "outputs": [],
   "source": [
    "my_flights <- read.csv(\"/anvil/projects/tdm/data/flights/subset/1997.csv\")"
   ]
  },
  {
   "cell_type": "code",
   "execution_count": 17,
   "id": "cabd75df-e9b0-42d3-893a-69fd503d6200",
   "metadata": {},
   "outputs": [
    {
     "data": {
      "text/plain": [
       "\n",
       "          (0,300]         (300,600]         (600,900]     (900,1.2e+03] \n",
       "            40119             45068           1046463            968561 \n",
       "(1.2e+03,1.5e+03] (1.5e+03,1.8e+03] (1.8e+03,2.1e+03] (2.1e+03,2.4e+03] \n",
       "           998262            997450            893498            324659 "
      ]
     },
     "metadata": {},
     "output_type": "display_data"
    }
   ],
   "source": [
    "table(cut(my_flights$DepTime, breaks=c(0, 300, 600, 900, 1200, 1500, 1800, 2100, 2400)))"
   ]
  },
  {
   "cell_type": "code",
   "execution_count": 18,
   "id": "69c17c26-9a10-40a5-b9b7-0c26d8f6515d",
   "metadata": {},
   "outputs": [],
   "source": [
    "my_flights$depart_times <- cut(my_flights$DepTime, breaks=c(0, 300, 600, 900, 1200, 1500, 1800, 2100, 2400), labels=c(\"Night\", \"Early Morning\", \"Morning\", \"Late Morning\", \"Afternoon\", \"Evening\", \"Late Evening\", \"Late Night\"))"
   ]
  },
  {
   "cell_type": "code",
   "execution_count": 19,
   "id": "7cbeef49-81c4-46f5-abfc-b44edca9c1c1",
   "metadata": {},
   "outputs": [
    {
     "data": {
      "image/png": "[encoded data removed]",
      "text/plain": [
       "Plot with title \"Flight Departures by Time of Day\""
      ]
     },
     "metadata": {
      "image/png": {
       "height": 420,
       "width": 420
      }
     },
     "output_type": "display_data"
    }
   ],
   "source": [
    "barplot(table(my_flights$depart_times), main=\"Flight Departures by Time of Day\", col=\"blue\", las=2)"
   ]
  },
  {
   "cell_type": "code",
   "execution_count": 20,
   "id": "7a1f37a6-5a4c-4652-a355-90a0718bc6dc",
   "metadata": {},
   "outputs": [],
   "source": [
    "my_flights$arrival_times <- cut(my_flights$ArrTime, breaks=c(0, 300, 600, 900, 1200, 1500, 1800, 2100, 2400), labels=c(\"Night\", \"Early Morning\", \"Morning\", \"Late Morning\", \"Afternoon\", \"Evening\", \"Late Evening\", \"Late Night\"))"
   ]
  },
  {
   "cell_type": "code",
   "execution_count": 21,
   "id": "73750b28-29a2-43f9-ac7f-a393c2a7a821",
   "metadata": {},
   "outputs": [
    {
     "data": {
      "image/png": "[encoded data removed]",
      "text/plain": [
       "Plot with title \"Flight Arrivals by Time of Day\""
      ]
     },
     "metadata": {
      "image/png": {
       "height": 420,
       "width": 420
      }
     },
     "output_type": "display_data"
    }
   ],
   "source": [
    "barplot(table(my_flights$arrival_times), main=\"Flight Arrivals by Time of Day\", col=\"red\", las=2)"
   ]
  },
  {
   "cell_type": "markdown",
   "id": "319e69f7-f946-453e-9f7b-94d8cc16996b",
   "metadata": {},
   "source": [
    "4.1 - 900 was the time that had the most departure flights\n",
    "\n",
    "4.2 - Early morning or 300 was the time that had the least arrival flights\n",
    "\n",
    "4.3 - One conclusion I see is that the nights have much less acitivites going on, whereas, as expected, the afternoon/evenings have much more activities going on at the airports."
   ]
  },
  {
   "cell_type": "markdown",
   "id": "552a331b-01b2-48f5-b444-16d8f04ff881",
   "metadata": {},
   "source": [
    "# Question 5"
   ]
  },
  {
   "cell_type": "code",
   "execution_count": 22,
   "id": "af70f2a5-ce56-451c-bd57-f2441bc23399",
   "metadata": {},
   "outputs": [],
   "source": [
    "march <- subset(my_flights, Month == 3)"
   ]
  },
  {
   "cell_type": "code",
   "execution_count": 23,
   "id": "5e1ea40d-6248-4f48-9660-9047a930bc4d",
   "metadata": {},
   "outputs": [
    {
     "data": {
      "text/plain": [
       "\n",
       "    1     2     3     4     5     6     7 \n",
       "76352 61070 61093 61100 61052 68031 72288 "
      ]
     },
     "metadata": {},
     "output_type": "display_data"
    }
   ],
   "source": [
    "table(march$DayOfWeek)"
   ]
  },
  {
   "cell_type": "code",
   "execution_count": 24,
   "id": "8ca5fdfa-24ae-41d6-ae49-f2b1994dab44",
   "metadata": {},
   "outputs": [
    {
     "data": {
      "text/plain": [
       "\n",
       "     1      2      3      4      5      6      7 \n",
       "790298 791617 802130 785731 786342 706198 749527 "
      ]
     },
     "metadata": {},
     "output_type": "display_data"
    }
   ],
   "source": [
    "table(my_flights$DayOfWeek)"
   ]
  },
  {
   "cell_type": "code",
   "execution_count": 25,
   "id": "62701034-cb13-4235-ba66-a6e00b89747d",
   "metadata": {},
   "outputs": [],
   "source": [
    "flight_times <- tapply(my_flights$AirTime, list(my_flights$DayOfWeek, my_flights$Month), sum, na.rm=TRUE)"
   ]
  },
  {
   "cell_type": "code",
   "execution_count": 26,
   "id": "49f90c98-ea8b-42b2-bd11-f1a2010f2bcb",
   "metadata": {},
   "outputs": [
    {
     "data": {
      "text/html": [
       "<table class=\"dataframe\">\n",
       "<caption>A matrix: 7 x 12 of type int</caption>\n",
       "<thead>\n",
       "\t<tr><th></th><th scope=col>1</th><th scope=col>2</th><th scope=col>3</th><th scope=col>4</th><th scope=col>5</th><th scope=col>6</th><th scope=col>7</th><th scope=col>8</th><th scope=col>9</th><th scope=col>10</th><th scope=col>11</th><th scope=col>12</th></tr>\n",
       "</thead>\n",
       "<tbody>\n",
       "\t<tr><th scope=row>1</th><td>5820142</td><td>5996050</td><td>7450628</td><td>6032763</td><td>5943737</td><td>7525264</td><td>6100879</td><td>6104229</td><td>7425773</td><td>5954814</td><td>5990224</td><td>7521815</td></tr>\n",
       "\t<tr><th scope=row>2</th><td>5894308</td><td>6014615</td><td>6036897</td><td>7438885</td><td>5973378</td><td>6023384</td><td>7587559</td><td>6088182</td><td>7471445</td><td>5977490</td><td>6012467</td><td>7485652</td></tr>\n",
       "\t<tr><th scope=row>3</th><td>7265554</td><td>6062085</td><td>6047810</td><td>7510912</td><td>5976554</td><td>5988220</td><td>7577076</td><td>6109375</td><td>5945379</td><td>7473880</td><td>6059871</td><td>7239442</td></tr>\n",
       "\t<tr><th scope=row>4</th><td>7310610</td><td>6065632</td><td>5998931</td><td>6021716</td><td>7487291</td><td>6029059</td><td>7567389</td><td>6120396</td><td>5943426</td><td>7506399</td><td>5682853</td><td>5824651</td></tr>\n",
       "\t<tr><th scope=row>5</th><td>7415133</td><td>5992478</td><td>6028038</td><td>6061881</td><td>7528029</td><td>6046017</td><td>5840017</td><td>7627953</td><td>5915696</td><td>7477447</td><td>5761139</td><td>5989230</td></tr>\n",
       "\t<tr><th scope=row>6</th><td>5463380</td><td>5457435</td><td>6930980</td><td>5540389</td><td>6793947</td><td>5688313</td><td>5628626</td><td>7087879</td><td>5374278</td><td>5319835</td><td>6785410</td><td>5518159</td></tr>\n",
       "\t<tr><th scope=row>7</th><td>5643971</td><td>5719389</td><td>7284005</td><td>5808701</td><td>5645453</td><td>7321258</td><td>5920780</td><td>7247138</td><td>5694575</td><td>5697566</td><td>7231943</td><td>5819670</td></tr>\n",
       "</tbody>\n",
       "</table>\n"
      ],
      "text/latex": [
       "A matrix: 7 x 12 of type int\n",
       "\\begin{tabular}{r|llllllllllll}\n",
       "  & 1 & 2 & 3 & 4 & 5 & 6 & 7 & 8 & 9 & 10 & 11 & 12\\\\\n",
       "\\hline\n",
       "\t1 & 5820142 & 5996050 & 7450628 & 6032763 & 5943737 & 7525264 & 6100879 & 6104229 & 7425773 & 5954814 & 5990224 & 7521815\\\\\n",
       "\t2 & 5894308 & 6014615 & 6036897 & 7438885 & 5973378 & 6023384 & 7587559 & 6088182 & 7471445 & 5977490 & 6012467 & 7485652\\\\\n",
       "\t3 & 7265554 & 6062085 & 6047810 & 7510912 & 5976554 & 5988220 & 7577076 & 6109375 & 5945379 & 7473880 & 6059871 & 7239442\\\\\n",
       "\t4 & 7310610 & 6065632 & 5998931 & 6021716 & 7487291 & 6029059 & 7567389 & 6120396 & 5943426 & 7506399 & 5682853 & 5824651\\\\\n",
       "\t5 & 7415133 & 5992478 & 6028038 & 6061881 & 7528029 & 6046017 & 5840017 & 7627953 & 5915696 & 7477447 & 5761139 & 5989230\\\\\n",
       "\t6 & 5463380 & 5457435 & 6930980 & 5540389 & 6793947 & 5688313 & 5628626 & 7087879 & 5374278 & 5319835 & 6785410 & 5518159\\\\\n",
       "\t7 & 5643971 & 5719389 & 7284005 & 5808701 & 5645453 & 7321258 & 5920780 & 7247138 & 5694575 & 5697566 & 7231943 & 5819670\\\\\n",
       "\\end{tabular}\n"
      ],
      "text/markdown": [
       "\n",
       "A matrix: 7 x 12 of type int\n",
       "\n",
       "| <!--/--> | 1 | 2 | 3 | 4 | 5 | 6 | 7 | 8 | 9 | 10 | 11 | 12 |\n",
       "|---|---|---|---|---|---|---|---|---|---|---|---|---|\n",
       "| 1 | 5820142 | 5996050 | 7450628 | 6032763 | 5943737 | 7525264 | 6100879 | 6104229 | 7425773 | 5954814 | 5990224 | 7521815 |\n",
       "| 2 | 5894308 | 6014615 | 6036897 | 7438885 | 5973378 | 6023384 | 7587559 | 6088182 | 7471445 | 5977490 | 6012467 | 7485652 |\n",
       "| 3 | 7265554 | 6062085 | 6047810 | 7510912 | 5976554 | 5988220 | 7577076 | 6109375 | 5945379 | 7473880 | 6059871 | 7239442 |\n",
       "| 4 | 7310610 | 6065632 | 5998931 | 6021716 | 7487291 | 6029059 | 7567389 | 6120396 | 5943426 | 7506399 | 5682853 | 5824651 |\n",
       "| 5 | 7415133 | 5992478 | 6028038 | 6061881 | 7528029 | 6046017 | 5840017 | 7627953 | 5915696 | 7477447 | 5761139 | 5989230 |\n",
       "| 6 | 5463380 | 5457435 | 6930980 | 5540389 | 6793947 | 5688313 | 5628626 | 7087879 | 5374278 | 5319835 | 6785410 | 5518159 |\n",
       "| 7 | 5643971 | 5719389 | 7284005 | 5808701 | 5645453 | 7321258 | 5920780 | 7247138 | 5694575 | 5697566 | 7231943 | 5819670 |\n",
       "\n"
      ],
      "text/plain": [
       "  1       2       3       4       5       6       7       8       9      \n",
       "1 5820142 5996050 7450628 6032763 5943737 7525264 6100879 6104229 7425773\n",
       "2 5894308 6014615 6036897 7438885 5973378 6023384 7587559 6088182 7471445\n",
       "3 7265554 6062085 6047810 7510912 5976554 5988220 7577076 6109375 5945379\n",
       "4 7310610 6065632 5998931 6021716 7487291 6029059 7567389 6120396 5943426\n",
       "5 7415133 5992478 6028038 6061881 7528029 6046017 5840017 7627953 5915696\n",
       "6 5463380 5457435 6930980 5540389 6793947 5688313 5628626 7087879 5374278\n",
       "7 5643971 5719389 7284005 5808701 5645453 7321258 5920780 7247138 5694575\n",
       "  10      11      12     \n",
       "1 5954814 5990224 7521815\n",
       "2 5977490 6012467 7485652\n",
       "3 7473880 6059871 7239442\n",
       "4 7506399 5682853 5824651\n",
       "5 7477447 5761139 5989230\n",
       "6 5319835 6785410 5518159\n",
       "7 5697566 7231943 5819670"
      ]
     },
     "metadata": {},
     "output_type": "display_data"
    }
   ],
   "source": [
    "flight_times"
   ]
  },
  {
   "cell_type": "code",
   "execution_count": 31,
   "id": "2e8e5d5a-d805-4a1a-98fe-991ab13b24e3",
   "metadata": {
    "scrolled": true
   },
   "outputs": [
    {
     "data": {
      "image/png": "[encoded data removed]",
      "text/plain": [
       "plot without title"
      ]
     },
     "metadata": {
      "image/png": {
       "height": 420,
       "width": 420
      }
     },
     "output_type": "display_data"
    }
   ],
   "source": [
    "heatmap(flight_times, Rowv = NA, Colv=NA)"
   ]
  },
  {
   "cell_type": "markdown",
   "id": "0661526e-7d89-4d93-89c9-298d3fa1c2c2",
   "metadata": {},
   "source": [
    "The heatmap above is for the day of the week category"
   ]
  },
  {
   "cell_type": "code",
   "execution_count": 28,
   "id": "89825a3f-a321-4da0-afff-8288f6cea91b",
   "metadata": {},
   "outputs": [],
   "source": [
    "flight_times_month <- tapply(my_flights$AirTime, list(my_flights$DayofMonth, my_flights$Month), sum, na.rm=TRUE)"
   ]
  },
  {
   "cell_type": "code",
   "execution_count": 29,
   "id": "bbc6ba17-0baf-4078-bf18-a838fb373d73",
   "metadata": {
    "scrolled": true
   },
   "outputs": [
    {
     "data": {
      "image/png": "[encoded data removed]",
      "text/plain": [
       "plot without title"
      ]
     },
     "metadata": {
      "image/png": {
       "height": 420,
       "width": 420
      }
     },
     "output_type": "display_data"
    }
   ],
   "source": [
    "heatmap(flight_times_month, Rowv = NA, Colv=NA)"
   ]
  },
  {
   "cell_type": "markdown",
   "id": "5c1bacc1-8a23-4924-b43e-541fce634190",
   "metadata": {},
   "source": [
    "The heatmap above is for the day of the month category"
   ]
  },
  {
   "cell_type": "markdown",
   "id": "29a0d324-7308-4437-8028-a6a8eb12ca83",
   "metadata": {},
   "source": [
    "5.1 - I prefer the heatmap for the days of the week because that heatmap is much smaller and it is easier to read the data than compared to the heatmap for the days of the month one\n",
    "\n",
    "5.2 - I noticed the air time is higher in the summer months, which would be between June and August, and in the winter months, the airtime is less. The only exception to this is in December because that time is around the holidays\n",
    "\n",
    "5.3 - I added Rowv = NA and Colv = NA, both of which made the heatmap much easier to look at and be able to read. These commands cleaned up the heatmaps and I was able to better understand their meaning and collect data from them as well"
   ]
  }
 ],
 "metadata": {
  "kernelspec": {
   "display_name": "seminar-r",
   "language": "R",
   "name": "seminar-r"
  },
  "language_info": {
   "codemirror_mode": "r",
   "file_extension": ".r",
   "mimetype": "text/x-r-source",
   "name": "R",
   "pygments_lexer": "r",
   "version": "4.4.3"
  }
 },
 "nbformat": 4,
 "nbformat_minor": 5
}
