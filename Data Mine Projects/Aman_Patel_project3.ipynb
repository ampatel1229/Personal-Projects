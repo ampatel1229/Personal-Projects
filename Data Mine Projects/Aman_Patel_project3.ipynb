{
 "cells": [
  {
   "cell_type": "markdown",
   "id": "69430647-c71a-416a-a167-6df278712dfc",
   "metadata": {},
   "source": [
    "# Project 3 -- Aman Patel "
   ]
  },
  {
   "cell_type": "markdown",
   "id": "4e8b2d90-6993-4406-9452-e2e01171d478",
   "metadata": {},
   "source": [
    "# Question 1"
   ]
  },
  {
   "cell_type": "code",
   "execution_count": 18,
   "id": "f264c457-4096-46e3-be0c-750d9eadd66a",
   "metadata": {},
   "outputs": [],
   "source": [
    "video_games <- read.csv(\"/anvil/projects/tdm/data/grouping/vgchartz-2024.csv\")"
   ]
  },
  {
   "cell_type": "code",
   "execution_count": 19,
   "id": "6ecd98f5-28c6-485d-9c0d-feaed85a392f",
   "metadata": {},
   "outputs": [
    {
     "data": {
      "text/html": [
       "<style>\n",
       ".dl-inline {width: auto; margin:0; padding: 0}\n",
       ".dl-inline>dt, .dl-inline>dd {float: none; width: auto; display: inline-block}\n",
       ".dl-inline>dt::after {content: \":\\0020\"; padding-right: .5ex}\n",
       ".dl-inline>dt:not(:first-of-type) {padding-left: .5ex}\n",
       "</style><dl class=dl-inline><dt>Sandbox</dt><dd>9.2</dd><dt>Visual Novel</dt><dd>8.5</dd><dt>Music</dt><dd>7.99259259259259</dd><dt>MMO</dt><dd>7.78181818181818</dd><dt>Education</dt><dd>7.75</dd><dt>Action-Adventure</dt><dd>7.67837837837838</dd><dt>Role-Playing</dt><dd>7.47091954022989</dd><dt>Strategy</dt><dd>7.43173333333333</dd><dt>Fighting</dt><dd>7.39242424242424</dd><dt>Adventure</dt><dd>7.34105793450882</dd><dt>Platform</dt><dd>7.30763765541741</dd><dt>Sports</dt><dd>7.29102749638206</dd><dt>Shooter</dt><dd>7.2768</dd><dt>Puzzle</dt><dd>7.20104895104895</dd><dt>Racing</dt><dd>7.18752436647173</dd><dt>Simulation</dt><dd>6.91471861471861</dd><dt>Misc</dt><dd>6.88459302325581</dd><dt>Action</dt><dd>6.83100775193798</dd><dt>Party</dt><dd>5.96875</dd><dt>Board Game</dt><dd>5.3</dd></dl>\n"
      ],
      "text/latex": [
       "\\begin{description*}\n",
       "\\item[Sandbox] 9.2\n",
       "\\item[Visual Novel] 8.5\n",
       "\\item[Music] 7.99259259259259\n",
       "\\item[MMO] 7.78181818181818\n",
       "\\item[Education] 7.75\n",
       "\\item[Action-Adventure] 7.67837837837838\n",
       "\\item[Role-Playing] 7.47091954022989\n",
       "\\item[Strategy] 7.43173333333333\n",
       "\\item[Fighting] 7.39242424242424\n",
       "\\item[Adventure] 7.34105793450882\n",
       "\\item[Platform] 7.30763765541741\n",
       "\\item[Sports] 7.29102749638206\n",
       "\\item[Shooter] 7.2768\n",
       "\\item[Puzzle] 7.20104895104895\n",
       "\\item[Racing] 7.18752436647173\n",
       "\\item[Simulation] 6.91471861471861\n",
       "\\item[Misc] 6.88459302325581\n",
       "\\item[Action] 6.83100775193798\n",
       "\\item[Party] 5.96875\n",
       "\\item[Board Game] 5.3\n",
       "\\end{description*}\n"
      ],
      "text/markdown": [
       "Sandbox\n",
       ":   9.2Visual Novel\n",
       ":   8.5Music\n",
       ":   7.99259259259259MMO\n",
       ":   7.78181818181818Education\n",
       ":   7.75Action-Adventure\n",
       ":   7.67837837837838Role-Playing\n",
       ":   7.47091954022989Strategy\n",
       ":   7.43173333333333Fighting\n",
       ":   7.39242424242424Adventure\n",
       ":   7.34105793450882Platform\n",
       ":   7.30763765541741Sports\n",
       ":   7.29102749638206Shooter\n",
       ":   7.2768Puzzle\n",
       ":   7.20104895104895Racing\n",
       ":   7.18752436647173Simulation\n",
       ":   6.91471861471861Misc\n",
       ":   6.88459302325581Action\n",
       ":   6.83100775193798Party\n",
       ":   5.96875Board Game\n",
       ":   5.3\n",
       "\n"
      ],
      "text/plain": [
       "         Sandbox     Visual Novel            Music              MMO \n",
       "        9.200000         8.500000         7.992593         7.781818 \n",
       "       Education Action-Adventure     Role-Playing         Strategy \n",
       "        7.750000         7.678378         7.470920         7.431733 \n",
       "        Fighting        Adventure         Platform           Sports \n",
       "        7.392424         7.341058         7.307638         7.291027 \n",
       "         Shooter           Puzzle           Racing       Simulation \n",
       "        7.276800         7.201049         7.187524         6.914719 \n",
       "            Misc           Action            Party       Board Game \n",
       "        6.884593         6.831008         5.968750         5.300000 "
      ]
     },
     "metadata": {},
     "output_type": "display_data"
    }
   ],
   "source": [
    "sort(tapply(video_games$critic_score, video_games$genre, mean, na.rm=TRUE), decreasing=TRUE)"
   ]
  },
  {
   "cell_type": "markdown",
   "id": "ad8f8f02-3bec-4d57-801b-3761ba69435e",
   "metadata": {},
   "source": [
    "The video game genre with the highest average critic score is Sandbox"
   ]
  },
  {
   "cell_type": "code",
   "execution_count": 20,
   "id": "cdd0e548-09ea-4592-b231-f0a6580c99a9",
   "metadata": {},
   "outputs": [
    {
     "data": {
      "text/html": [
       "<style>\n",
       ".dl-inline {width: auto; margin:0; padding: 0}\n",
       ".dl-inline>dt, .dl-inline>dd {float: none; width: auto; display: inline-block}\n",
       ".dl-inline>dt::after {content: \":\\0020\"; padding-right: .5ex}\n",
       ".dl-inline>dt:not(:first-of-type) {padding-left: .5ex}\n",
       "</style><dl class=dl-inline><dt>PS2</dt><dd>1027.76</dd><dt>X360</dt><dd>859.79</dd><dt>PS3</dt><dd>839.7</dd><dt>PS</dt><dd>546.25</dd><dt>PS4</dt><dd>539.92</dd><dt>Wii</dt><dd>459.44</dd><dt>DS</dt><dd>458.17</dd><dt>XOne</dt><dd>268.96</dd><dt>PSP</dt><dd>245.29</dd><dt>XB</dt><dd>232.05</dd><dt>GBA</dt><dd>224.48</dd><dt>PC</dt><dd>168.99</dd><dt>GC</dt><dd>119.53</dd><dt>3DS</dt><dd>99.27</dd><dt>N64</dt><dd>93.79</dd><dt>2600</dt><dd>75.66</dd><dt>SNES</dt><dd>65.71</dd><dt>PSV</dt><dd>63.02</dd><dt>NES</dt><dd>47.93</dd><dt>NS</dt><dd>36.46</dd><dt>WiiU</dt><dd>35.42</dd><dt>SAT</dt><dd>33.67</dd><dt>GB</dt><dd>19.84</dd><dt>GEN</dt><dd>18.83</dd><dt>DC</dt><dd>13.31</dd><dt>GBC</dt><dd>4.34</dd><dt>PSN</dt><dd>3.81</dd><dt>NG</dt><dd>1.44</dd><dt>WS</dt><dd>1.43</dd><dt>SCD</dt><dd>0.37</dd><dt>VC</dt><dd>0.35</dd><dt>WW</dt><dd>0.25</dd><dt>XBL</dt><dd>0.2</dd><dt>3DO</dt><dd>0.19</dd><dt>PCE</dt><dd>0.16</dd><dt>GG</dt><dd>0.04</dd><dt>Mob</dt><dd>0.03</dd><dt>OSX</dt><dd>0.03</dd><dt>PCFX</dt><dd>0.03</dd><dt>5200</dt><dd>0</dd><dt>7800</dt><dd>0</dd><dt>ACPC</dt><dd>0</dd><dt>AJ</dt><dd>0</dd><dt>AST</dt><dd>0</dd><dt>Aco</dt><dd>0</dd><dt>All</dt><dd>0</dd><dt>Amig</dt><dd>0</dd><dt>And</dt><dd>0</dd><dt>ApII</dt><dd>0</dd><dt>Arc</dt><dd>0</dd><dt>BBCM</dt><dd>0</dd><dt>BRW</dt><dd>0</dd><dt>C128</dt><dd>0</dd><dt>C64</dt><dd>0</dd><dt>CD32</dt><dd>0</dd><dt>CDi</dt><dd>0</dd><dt>CV</dt><dd>0</dd><dt>DSi</dt><dd>0</dd><dt>DSiW</dt><dd>0</dd><dt>FDS</dt><dd>0</dd><dt>FMT</dt><dd>0</dd><dt>GIZ</dt><dd>0</dd><dt>Int</dt><dd>0</dd><dt>Linux</dt><dd>0</dd><dt>Lynx</dt><dd>0</dd><dt>MS</dt><dd>0</dd><dt>MSD</dt><dd>0</dd><dt>MSX</dt><dd>0</dd><dt>NGage</dt><dd>0</dd><dt>OR</dt><dd>0</dd><dt>Ouya</dt><dd>0</dd><dt>PS5</dt><dd>0</dd><dt>S32X</dt><dd>0</dd><dt>Series</dt><dd>0</dd><dt>TG16</dt><dd>0</dd><dt>VB</dt><dd>0</dd><dt>WinP</dt><dd>0</dd><dt>XS</dt><dd>0</dd><dt>ZXS</dt><dd>0</dd><dt>iOS</dt><dd>0</dd><dt>iQue</dt><dd>0</dd></dl>\n"
      ],
      "text/latex": [
       "\\begin{description*}\n",
       "\\item[PS2] 1027.76\n",
       "\\item[X360] 859.79\n",
       "\\item[PS3] 839.7\n",
       "\\item[PS] 546.25\n",
       "\\item[PS4] 539.92\n",
       "\\item[Wii] 459.44\n",
       "\\item[DS] 458.17\n",
       "\\item[XOne] 268.96\n",
       "\\item[PSP] 245.29\n",
       "\\item[XB] 232.05\n",
       "\\item[GBA] 224.48\n",
       "\\item[PC] 168.99\n",
       "\\item[GC] 119.53\n",
       "\\item[3DS] 99.27\n",
       "\\item[N64] 93.79\n",
       "\\item[2600] 75.66\n",
       "\\item[SNES] 65.71\n",
       "\\item[PSV] 63.02\n",
       "\\item[NES] 47.93\n",
       "\\item[NS] 36.46\n",
       "\\item[WiiU] 35.42\n",
       "\\item[SAT] 33.67\n",
       "\\item[GB] 19.84\n",
       "\\item[GEN] 18.83\n",
       "\\item[DC] 13.31\n",
       "\\item[GBC] 4.34\n",
       "\\item[PSN] 3.81\n",
       "\\item[NG] 1.44\n",
       "\\item[WS] 1.43\n",
       "\\item[SCD] 0.37\n",
       "\\item[VC] 0.35\n",
       "\\item[WW] 0.25\n",
       "\\item[XBL] 0.2\n",
       "\\item[3DO] 0.19\n",
       "\\item[PCE] 0.16\n",
       "\\item[GG] 0.04\n",
       "\\item[Mob] 0.03\n",
       "\\item[OSX] 0.03\n",
       "\\item[PCFX] 0.03\n",
       "\\item[5200] 0\n",
       "\\item[7800] 0\n",
       "\\item[ACPC] 0\n",
       "\\item[AJ] 0\n",
       "\\item[AST] 0\n",
       "\\item[Aco] 0\n",
       "\\item[All] 0\n",
       "\\item[Amig] 0\n",
       "\\item[And] 0\n",
       "\\item[ApII] 0\n",
       "\\item[Arc] 0\n",
       "\\item[BBCM] 0\n",
       "\\item[BRW] 0\n",
       "\\item[C128] 0\n",
       "\\item[C64] 0\n",
       "\\item[CD32] 0\n",
       "\\item[CDi] 0\n",
       "\\item[CV] 0\n",
       "\\item[DSi] 0\n",
       "\\item[DSiW] 0\n",
       "\\item[FDS] 0\n",
       "\\item[FMT] 0\n",
       "\\item[GIZ] 0\n",
       "\\item[Int] 0\n",
       "\\item[Linux] 0\n",
       "\\item[Lynx] 0\n",
       "\\item[MS] 0\n",
       "\\item[MSD] 0\n",
       "\\item[MSX] 0\n",
       "\\item[NGage] 0\n",
       "\\item[OR] 0\n",
       "\\item[Ouya] 0\n",
       "\\item[PS5] 0\n",
       "\\item[S32X] 0\n",
       "\\item[Series] 0\n",
       "\\item[TG16] 0\n",
       "\\item[VB] 0\n",
       "\\item[WinP] 0\n",
       "\\item[XS] 0\n",
       "\\item[ZXS] 0\n",
       "\\item[iOS] 0\n",
       "\\item[iQue] 0\n",
       "\\end{description*}\n"
      ],
      "text/markdown": [
       "PS2\n",
       ":   1027.76X360\n",
       ":   859.79PS3\n",
       ":   839.7PS\n",
       ":   546.25PS4\n",
       ":   539.92Wii\n",
       ":   459.44DS\n",
       ":   458.17XOne\n",
       ":   268.96PSP\n",
       ":   245.29XB\n",
       ":   232.05GBA\n",
       ":   224.48PC\n",
       ":   168.99GC\n",
       ":   119.533DS\n",
       ":   99.27N64\n",
       ":   93.792600\n",
       ":   75.66SNES\n",
       ":   65.71PSV\n",
       ":   63.02NES\n",
       ":   47.93NS\n",
       ":   36.46WiiU\n",
       ":   35.42SAT\n",
       ":   33.67GB\n",
       ":   19.84GEN\n",
       ":   18.83DC\n",
       ":   13.31GBC\n",
       ":   4.34PSN\n",
       ":   3.81NG\n",
       ":   1.44WS\n",
       ":   1.43SCD\n",
       ":   0.37VC\n",
       ":   0.35WW\n",
       ":   0.25XBL\n",
       ":   0.23DO\n",
       ":   0.19PCE\n",
       ":   0.16GG\n",
       ":   0.04Mob\n",
       ":   0.03OSX\n",
       ":   0.03PCFX\n",
       ":   0.035200\n",
       ":   07800\n",
       ":   0ACPC\n",
       ":   0AJ\n",
       ":   0AST\n",
       ":   0Aco\n",
       ":   0All\n",
       ":   0Amig\n",
       ":   0And\n",
       ":   0ApII\n",
       ":   0Arc\n",
       ":   0BBCM\n",
       ":   0BRW\n",
       ":   0C128\n",
       ":   0C64\n",
       ":   0CD32\n",
       ":   0CDi\n",
       ":   0CV\n",
       ":   0DSi\n",
       ":   0DSiW\n",
       ":   0FDS\n",
       ":   0FMT\n",
       ":   0GIZ\n",
       ":   0Int\n",
       ":   0Linux\n",
       ":   0Lynx\n",
       ":   0MS\n",
       ":   0MSD\n",
       ":   0MSX\n",
       ":   0NGage\n",
       ":   0OR\n",
       ":   0Ouya\n",
       ":   0PS5\n",
       ":   0S32X\n",
       ":   0Series\n",
       ":   0TG16\n",
       ":   0VB\n",
       ":   0WinP\n",
       ":   0XS\n",
       ":   0ZXS\n",
       ":   0iOS\n",
       ":   0iQue\n",
       ":   0\n",
       "\n"
      ],
      "text/plain": [
       "    PS2    X360     PS3      PS     PS4     Wii      DS    XOne     PSP      XB \n",
       "1027.76  859.79  839.70  546.25  539.92  459.44  458.17  268.96  245.29  232.05 \n",
       "    GBA      PC      GC     3DS     N64    2600    SNES     PSV     NES      NS \n",
       " 224.48  168.99  119.53   99.27   93.79   75.66   65.71   63.02   47.93   36.46 \n",
       "   WiiU     SAT      GB     GEN      DC     GBC     PSN      NG      WS     SCD \n",
       "  35.42   33.67   19.84   18.83   13.31    4.34    3.81    1.44    1.43    0.37 \n",
       "     VC      WW     XBL     3DO     PCE      GG     Mob     OSX    PCFX    5200 \n",
       "   0.35    0.25    0.20    0.19    0.16    0.04    0.03    0.03    0.03    0.00 \n",
       "   7800    ACPC      AJ     AST     Aco     All    Amig     And    ApII     Arc \n",
       "   0.00    0.00    0.00    0.00    0.00    0.00    0.00    0.00    0.00    0.00 \n",
       "   BBCM     BRW    C128     C64    CD32     CDi      CV     DSi    DSiW     FDS \n",
       "   0.00    0.00    0.00    0.00    0.00    0.00    0.00    0.00    0.00    0.00 \n",
       "    FMT     GIZ     Int   Linux    Lynx      MS     MSD     MSX   NGage      OR \n",
       "   0.00    0.00    0.00    0.00    0.00    0.00    0.00    0.00    0.00    0.00 \n",
       "   Ouya     PS5    S32X  Series    TG16      VB    WinP      XS     ZXS     iOS \n",
       "   0.00    0.00    0.00    0.00    0.00    0.00    0.00    0.00    0.00    0.00 \n",
       "   iQue \n",
       "   0.00 "
      ]
     },
     "metadata": {},
     "output_type": "display_data"
    }
   ],
   "source": [
    "sort(tapply(video_games$total_sales, video_games$console, sum, na.rm=TRUE), decreasing=TRUE)"
   ]
  },
  {
   "cell_type": "markdown",
   "id": "886357c4-aa92-41b9-8c93-6efd28934303",
   "metadata": {},
   "source": [
    "The PS2 has the highest number of total sales within the console genre"
   ]
  },
  {
   "cell_type": "code",
   "execution_count": 21,
   "id": "6b6431eb-bb01-480c-8bf6-40d6917fbe08",
   "metadata": {},
   "outputs": [
    {
     "data": {
      "text/html": [
       "<style>\n",
       ".dl-inline {width: auto; margin:0; padding: 0}\n",
       ".dl-inline>dt, .dl-inline>dd {float: none; width: auto; display: inline-block}\n",
       ".dl-inline>dt::after {content: \":\\0020\"; padding-right: .5ex}\n",
       ".dl-inline>dt:not(:first-of-type) {padding-left: .5ex}\n",
       "</style><dl class=dl-inline><dt>Misc</dt><dd>9304</dd><dt>Action</dt><dd>8557</dd><dt>Adventure</dt><dd>6260</dd><dt>Role-Playing</dt><dd>5721</dd><dt>Sports</dt><dd>5586</dd><dt>Shooter</dt><dd>5410</dd><dt>Platform</dt><dd>4001</dd><dt>Strategy</dt><dd>3685</dd><dt>Puzzle</dt><dd>3521</dd><dt>Racing</dt><dd>3425</dd><dt>Simulation</dt><dd>3158</dd><dt>Fighting</dt><dd>2367</dd><dt>Action-Adventure</dt><dd>1877</dd><dt>Visual Novel</dt><dd>493</dd><dt>Music</dt><dd>297</dd><dt>Party</dt><dd>151</dd><dt>MMO</dt><dd>115</dd><dt>Education</dt><dd>35</dd><dt>Board Game</dt><dd>33</dd><dt>Sandbox</dt><dd>20</dd></dl>\n"
      ],
      "text/latex": [
       "\\begin{description*}\n",
       "\\item[Misc] 9304\n",
       "\\item[Action] 8557\n",
       "\\item[Adventure] 6260\n",
       "\\item[Role-Playing] 5721\n",
       "\\item[Sports] 5586\n",
       "\\item[Shooter] 5410\n",
       "\\item[Platform] 4001\n",
       "\\item[Strategy] 3685\n",
       "\\item[Puzzle] 3521\n",
       "\\item[Racing] 3425\n",
       "\\item[Simulation] 3158\n",
       "\\item[Fighting] 2367\n",
       "\\item[Action-Adventure] 1877\n",
       "\\item[Visual Novel] 493\n",
       "\\item[Music] 297\n",
       "\\item[Party] 151\n",
       "\\item[MMO] 115\n",
       "\\item[Education] 35\n",
       "\\item[Board Game] 33\n",
       "\\item[Sandbox] 20\n",
       "\\end{description*}\n"
      ],
      "text/markdown": [
       "Misc\n",
       ":   9304Action\n",
       ":   8557Adventure\n",
       ":   6260Role-Playing\n",
       ":   5721Sports\n",
       ":   5586Shooter\n",
       ":   5410Platform\n",
       ":   4001Strategy\n",
       ":   3685Puzzle\n",
       ":   3521Racing\n",
       ":   3425Simulation\n",
       ":   3158Fighting\n",
       ":   2367Action-Adventure\n",
       ":   1877Visual Novel\n",
       ":   493Music\n",
       ":   297Party\n",
       ":   151MMO\n",
       ":   115Education\n",
       ":   35Board Game\n",
       ":   33Sandbox\n",
       ":   20\n",
       "\n"
      ],
      "text/plain": [
       "            Misc           Action        Adventure     Role-Playing \n",
       "            9304             8557             6260             5721 \n",
       "          Sports          Shooter         Platform         Strategy \n",
       "            5586             5410             4001             3685 \n",
       "          Puzzle           Racing       Simulation         Fighting \n",
       "            3521             3425             3158             2367 \n",
       "Action-Adventure     Visual Novel            Music            Party \n",
       "            1877              493              297              151 \n",
       "             MMO        Education       Board Game          Sandbox \n",
       "             115               35               33               20 "
      ]
     },
     "metadata": {},
     "output_type": "display_data"
    }
   ],
   "source": [
    "sort(tapply(video_games$title, video_games$genre, length), decreasing=TRUE)"
   ]
  },
  {
   "cell_type": "markdown",
   "id": "6cdb8d70-4c37-4689-ac33-36e2f23a579d",
   "metadata": {},
   "source": [
    "The function above shows how many games are in each genre from highest to lowest"
   ]
  },
  {
   "cell_type": "markdown",
   "id": "387ee916-002d-40b9-a6de-0bb6954dfc42",
   "metadata": {},
   "source": [
    "The tapply() function takes a column, splits the column into groups, and applys an operation to it. This operation could be mean, sum, length,etc. The function is useful with datasets because it allows you to easily split columns and do an action with them rather than having to manually do it with long code segments."
   ]
  },
  {
   "cell_type": "markdown",
   "id": "fa5de0a2-e6b9-4eee-ad36-b93c54e95488",
   "metadata": {},
   "source": [
    "# Question 2"
   ]
  },
  {
   "cell_type": "code",
   "execution_count": 6,
   "id": "9084dcb4-ef7b-4930-83ec-cfe092157918",
   "metadata": {},
   "outputs": [],
   "source": [
    "library(dplyr)"
   ]
  },
  {
   "cell_type": "code",
   "execution_count": 24,
   "id": "e162f2e5-dce7-48c8-ad81-c7cfb2172aef",
   "metadata": {},
   "outputs": [
    {
     "data": {
      "text/html": [
       "<table class=\"dataframe\">\n",
       "<caption>A tibble: 20 x 2</caption>\n",
       "<thead>\n",
       "\t<tr><th scope=col>genre</th><th scope=col>avg_critic_score</th></tr>\n",
       "\t<tr><th scope=col>&lt;chr&gt;</th><th scope=col>&lt;dbl&gt;</th></tr>\n",
       "</thead>\n",
       "<tbody>\n",
       "\t<tr><td>Action          </td><td>6.831008</td></tr>\n",
       "\t<tr><td>Action-Adventure</td><td>7.678378</td></tr>\n",
       "\t<tr><td>Adventure       </td><td>7.341058</td></tr>\n",
       "\t<tr><td>Board Game      </td><td>5.300000</td></tr>\n",
       "\t<tr><td>Education       </td><td>7.750000</td></tr>\n",
       "\t<tr><td>Fighting        </td><td>7.392424</td></tr>\n",
       "\t<tr><td>MMO             </td><td>7.781818</td></tr>\n",
       "\t<tr><td>Misc            </td><td>6.884593</td></tr>\n",
       "\t<tr><td>Music           </td><td>7.992593</td></tr>\n",
       "\t<tr><td>Party           </td><td>5.968750</td></tr>\n",
       "\t<tr><td>Platform        </td><td>7.307638</td></tr>\n",
       "\t<tr><td>Puzzle          </td><td>7.201049</td></tr>\n",
       "\t<tr><td>Racing          </td><td>7.187524</td></tr>\n",
       "\t<tr><td>Role-Playing    </td><td>7.470920</td></tr>\n",
       "\t<tr><td>Sandbox         </td><td>9.200000</td></tr>\n",
       "\t<tr><td>Shooter         </td><td>7.276800</td></tr>\n",
       "\t<tr><td>Simulation      </td><td>6.914719</td></tr>\n",
       "\t<tr><td>Sports          </td><td>7.291027</td></tr>\n",
       "\t<tr><td>Strategy        </td><td>7.431733</td></tr>\n",
       "\t<tr><td>Visual Novel    </td><td>8.500000</td></tr>\n",
       "</tbody>\n",
       "</table>\n"
      ],
      "text/latex": [
       "A tibble: 20 x 2\n",
       "\\begin{tabular}{ll}\n",
       " genre & avg\\_critic\\_score\\\\\n",
       " <chr> & <dbl>\\\\\n",
       "\\hline\n",
       "\t Action           & 6.831008\\\\\n",
       "\t Action-Adventure & 7.678378\\\\\n",
       "\t Adventure        & 7.341058\\\\\n",
       "\t Board Game       & 5.300000\\\\\n",
       "\t Education        & 7.750000\\\\\n",
       "\t Fighting         & 7.392424\\\\\n",
       "\t MMO              & 7.781818\\\\\n",
       "\t Misc             & 6.884593\\\\\n",
       "\t Music            & 7.992593\\\\\n",
       "\t Party            & 5.968750\\\\\n",
       "\t Platform         & 7.307638\\\\\n",
       "\t Puzzle           & 7.201049\\\\\n",
       "\t Racing           & 7.187524\\\\\n",
       "\t Role-Playing     & 7.470920\\\\\n",
       "\t Sandbox          & 9.200000\\\\\n",
       "\t Shooter          & 7.276800\\\\\n",
       "\t Simulation       & 6.914719\\\\\n",
       "\t Sports           & 7.291027\\\\\n",
       "\t Strategy         & 7.431733\\\\\n",
       "\t Visual Novel     & 8.500000\\\\\n",
       "\\end{tabular}\n"
      ],
      "text/markdown": [
       "\n",
       "A tibble: 20 x 2\n",
       "\n",
       "| genre &lt;chr&gt; | avg_critic_score &lt;dbl&gt; |\n",
       "|---|---|\n",
       "| Action           | 6.831008 |\n",
       "| Action-Adventure | 7.678378 |\n",
       "| Adventure        | 7.341058 |\n",
       "| Board Game       | 5.300000 |\n",
       "| Education        | 7.750000 |\n",
       "| Fighting         | 7.392424 |\n",
       "| MMO              | 7.781818 |\n",
       "| Misc             | 6.884593 |\n",
       "| Music            | 7.992593 |\n",
       "| Party            | 5.968750 |\n",
       "| Platform         | 7.307638 |\n",
       "| Puzzle           | 7.201049 |\n",
       "| Racing           | 7.187524 |\n",
       "| Role-Playing     | 7.470920 |\n",
       "| Sandbox          | 9.200000 |\n",
       "| Shooter          | 7.276800 |\n",
       "| Simulation       | 6.914719 |\n",
       "| Sports           | 7.291027 |\n",
       "| Strategy         | 7.431733 |\n",
       "| Visual Novel     | 8.500000 |\n",
       "\n"
      ],
      "text/plain": [
       "   genre            avg_critic_score\n",
       "1  Action           6.831008        \n",
       "2  Action-Adventure 7.678378        \n",
       "3  Adventure        7.341058        \n",
       "4  Board Game       5.300000        \n",
       "5  Education        7.750000        \n",
       "6  Fighting         7.392424        \n",
       "7  MMO              7.781818        \n",
       "8  Misc             6.884593        \n",
       "9  Music            7.992593        \n",
       "10 Party            5.968750        \n",
       "11 Platform         7.307638        \n",
       "12 Puzzle           7.201049        \n",
       "13 Racing           7.187524        \n",
       "14 Role-Playing     7.470920        \n",
       "15 Sandbox          9.200000        \n",
       "16 Shooter          7.276800        \n",
       "17 Simulation       6.914719        \n",
       "18 Sports           7.291027        \n",
       "19 Strategy         7.431733        \n",
       "20 Visual Novel     8.500000        "
      ]
     },
     "metadata": {},
     "output_type": "display_data"
    }
   ],
   "source": [
    "video_games %>%\n",
    "    group_by(genre) %>%\n",
    "    summarize(avg_critic_score = mean(critic_score, na.rm=TRUE))"
   ]
  },
  {
   "cell_type": "markdown",
   "id": "dccb3fc7-e885-40a6-bca3-b4e569b0ccf2",
   "metadata": {},
   "source": [
    "1 key difference between tapply() and dplyr is that dplyr put the data into a nice table format, while tapply() just lists the data out, allowing for more readability from dplyr. Another example of the difference between the two is that dplyr outputs data frames, while tapply() outputs vectors."
   ]
  },
  {
   "cell_type": "markdown",
   "id": "49951d71-9451-4e9b-b37f-198694e43108",
   "metadata": {},
   "source": [
    "I prefer dplyr simply because it is more easily readable then tapply(). On top of that, for dplyr, you write less, more concise code while printing out the same result"
   ]
  },
  {
   "cell_type": "markdown",
   "id": "e564c017-7f47-45d1-aaa3-6ea8c522269f",
   "metadata": {},
   "source": [
    "# Question 3"
   ]
  },
  {
   "cell_type": "code",
   "execution_count": 25,
   "id": "08e532db-5308-4400-83ca-f3b40c94fbeb",
   "metadata": {},
   "outputs": [
    {
     "data": {
      "text/html": [
       "<table class=\"dataframe\">\n",
       "<caption>A tibble: 20 x 2</caption>\n",
       "<thead>\n",
       "\t<tr><th scope=col>console</th><th scope=col>sum_sales</th></tr>\n",
       "\t<tr><th scope=col>&lt;chr&gt;</th><th scope=col>&lt;dbl&gt;</th></tr>\n",
       "</thead>\n",
       "<tbody>\n",
       "\t<tr><td>PS2 </td><td>1027.76</td></tr>\n",
       "\t<tr><td>X360</td><td> 859.79</td></tr>\n",
       "\t<tr><td>PS3 </td><td> 839.70</td></tr>\n",
       "\t<tr><td>PS  </td><td> 546.25</td></tr>\n",
       "\t<tr><td>PS4 </td><td> 539.92</td></tr>\n",
       "\t<tr><td>Wii </td><td> 459.44</td></tr>\n",
       "\t<tr><td>DS  </td><td> 458.17</td></tr>\n",
       "\t<tr><td>XOne</td><td> 268.96</td></tr>\n",
       "\t<tr><td>PSP </td><td> 245.29</td></tr>\n",
       "\t<tr><td>XB  </td><td> 232.05</td></tr>\n",
       "\t<tr><td>GBA </td><td> 224.48</td></tr>\n",
       "\t<tr><td>PC  </td><td> 168.99</td></tr>\n",
       "\t<tr><td>GC  </td><td> 119.53</td></tr>\n",
       "\t<tr><td>3DS </td><td>  99.27</td></tr>\n",
       "\t<tr><td>N64 </td><td>  93.79</td></tr>\n",
       "\t<tr><td>2600</td><td>  75.66</td></tr>\n",
       "\t<tr><td>SNES</td><td>  65.71</td></tr>\n",
       "\t<tr><td>PSV </td><td>  63.02</td></tr>\n",
       "\t<tr><td>NES </td><td>  47.93</td></tr>\n",
       "\t<tr><td>NS  </td><td>  36.46</td></tr>\n",
       "</tbody>\n",
       "</table>\n"
      ],
      "text/latex": [
       "A tibble: 20 x 2\n",
       "\\begin{tabular}{ll}\n",
       " console & sum\\_sales\\\\\n",
       " <chr> & <dbl>\\\\\n",
       "\\hline\n",
       "\t PS2  & 1027.76\\\\\n",
       "\t X360 &  859.79\\\\\n",
       "\t PS3  &  839.70\\\\\n",
       "\t PS   &  546.25\\\\\n",
       "\t PS4  &  539.92\\\\\n",
       "\t Wii  &  459.44\\\\\n",
       "\t DS   &  458.17\\\\\n",
       "\t XOne &  268.96\\\\\n",
       "\t PSP  &  245.29\\\\\n",
       "\t XB   &  232.05\\\\\n",
       "\t GBA  &  224.48\\\\\n",
       "\t PC   &  168.99\\\\\n",
       "\t GC   &  119.53\\\\\n",
       "\t 3DS  &   99.27\\\\\n",
       "\t N64  &   93.79\\\\\n",
       "\t 2600 &   75.66\\\\\n",
       "\t SNES &   65.71\\\\\n",
       "\t PSV  &   63.02\\\\\n",
       "\t NES  &   47.93\\\\\n",
       "\t NS   &   36.46\\\\\n",
       "\\end{tabular}\n"
      ],
      "text/markdown": [
       "\n",
       "A tibble: 20 x 2\n",
       "\n",
       "| console &lt;chr&gt; | sum_sales &lt;dbl&gt; |\n",
       "|---|---|\n",
       "| PS2  | 1027.76 |\n",
       "| X360 |  859.79 |\n",
       "| PS3  |  839.70 |\n",
       "| PS   |  546.25 |\n",
       "| PS4  |  539.92 |\n",
       "| Wii  |  459.44 |\n",
       "| DS   |  458.17 |\n",
       "| XOne |  268.96 |\n",
       "| PSP  |  245.29 |\n",
       "| XB   |  232.05 |\n",
       "| GBA  |  224.48 |\n",
       "| PC   |  168.99 |\n",
       "| GC   |  119.53 |\n",
       "| 3DS  |   99.27 |\n",
       "| N64  |   93.79 |\n",
       "| 2600 |   75.66 |\n",
       "| SNES |   65.71 |\n",
       "| PSV  |   63.02 |\n",
       "| NES  |   47.93 |\n",
       "| NS   |   36.46 |\n",
       "\n"
      ],
      "text/plain": [
       "   console sum_sales\n",
       "1  PS2     1027.76  \n",
       "2  X360     859.79  \n",
       "3  PS3      839.70  \n",
       "4  PS       546.25  \n",
       "5  PS4      539.92  \n",
       "6  Wii      459.44  \n",
       "7  DS       458.17  \n",
       "8  XOne     268.96  \n",
       "9  PSP      245.29  \n",
       "10 XB       232.05  \n",
       "11 GBA      224.48  \n",
       "12 PC       168.99  \n",
       "13 GC       119.53  \n",
       "14 3DS       99.27  \n",
       "15 N64       93.79  \n",
       "16 2600      75.66  \n",
       "17 SNES      65.71  \n",
       "18 PSV       63.02  \n",
       "19 NES       47.93  \n",
       "20 NS        36.46  "
      ]
     },
     "metadata": {},
     "output_type": "display_data"
    }
   ],
   "source": [
    "console_sales <- video_games %>%\n",
    "    group_by(console) %>%\n",
    "    summarize(sum_sales = sum(total_sales, na.rm=TRUE)) %>%\n",
    "    arrange(desc(sum_sales))\n",
    "    head(console_sales, n=20)"
   ]
  },
  {
   "cell_type": "markdown",
   "id": "f38425c6-b74a-44b2-8bca-2af23879a230",
   "metadata": {},
   "source": [
    "PS2 has the most sales with $1027.76"
   ]
  },
  {
   "cell_type": "code",
   "execution_count": 26,
   "id": "486e5338-692f-4552-9e71-5be1441e5f57",
   "metadata": {},
   "outputs": [
    {
     "data": {
      "text/html": [
       "<table class=\"dataframe\">\n",
       "<caption>A tibble: 6 x 2</caption>\n",
       "<thead>\n",
       "\t<tr><th scope=col>genre</th><th scope=col>total_titles</th></tr>\n",
       "\t<tr><th scope=col>&lt;chr&gt;</th><th scope=col>&lt;int&gt;</th></tr>\n",
       "</thead>\n",
       "<tbody>\n",
       "\t<tr><td>Misc        </td><td>9304</td></tr>\n",
       "\t<tr><td>Action      </td><td>8557</td></tr>\n",
       "\t<tr><td>Adventure   </td><td>6260</td></tr>\n",
       "\t<tr><td>Role-Playing</td><td>5721</td></tr>\n",
       "\t<tr><td>Sports      </td><td>5586</td></tr>\n",
       "\t<tr><td>Shooter     </td><td>5410</td></tr>\n",
       "</tbody>\n",
       "</table>\n"
      ],
      "text/latex": [
       "A tibble: 6 x 2\n",
       "\\begin{tabular}{ll}\n",
       " genre & total\\_titles\\\\\n",
       " <chr> & <int>\\\\\n",
       "\\hline\n",
       "\t Misc         & 9304\\\\\n",
       "\t Action       & 8557\\\\\n",
       "\t Adventure    & 6260\\\\\n",
       "\t Role-Playing & 5721\\\\\n",
       "\t Sports       & 5586\\\\\n",
       "\t Shooter      & 5410\\\\\n",
       "\\end{tabular}\n"
      ],
      "text/markdown": [
       "\n",
       "A tibble: 6 x 2\n",
       "\n",
       "| genre &lt;chr&gt; | total_titles &lt;int&gt; |\n",
       "|---|---|\n",
       "| Misc         | 9304 |\n",
       "| Action       | 8557 |\n",
       "| Adventure    | 6260 |\n",
       "| Role-Playing | 5721 |\n",
       "| Sports       | 5586 |\n",
       "| Shooter      | 5410 |\n",
       "\n"
      ],
      "text/plain": [
       "  genre        total_titles\n",
       "1 Misc         9304        \n",
       "2 Action       8557        \n",
       "3 Adventure    6260        \n",
       "4 Role-Playing 5721        \n",
       "5 Sports       5586        \n",
       "6 Shooter      5410        "
      ]
     },
     "metadata": {},
     "output_type": "display_data"
    }
   ],
   "source": [
    "genre_title_counts <- video_games %>%\n",
    "    group_by(genre) %>%\n",
    "    summarize(total_titles = sum(n(), na.rm=TRUE)) %>%\n",
    "    arrange(desc(total_titles)) \n",
    "\n",
    "head(genre_title_counts)"
   ]
  },
  {
   "cell_type": "markdown",
   "id": "affa1bcc-d775-472f-baae-6b1ec9a5075e",
   "metadata": {},
   "source": [
    "Shooter games had the least title counts with only 5410"
   ]
  },
  {
   "cell_type": "code",
   "execution_count": 27,
   "id": "7648d266-1310-4f0a-b706-d197da87a97d",
   "metadata": {},
   "outputs": [
    {
     "data": {
      "text/html": [
       "<table class=\"dataframe\">\n",
       "<caption>A tibble: 10 x 2</caption>\n",
       "<thead>\n",
       "\t<tr><th scope=col>title</th><th scope=col>high_sell</th></tr>\n",
       "\t<tr><th scope=col>&lt;chr&gt;</th><th scope=col>&lt;dbl&gt;</th></tr>\n",
       "</thead>\n",
       "<tbody>\n",
       "\t<tr><td>Grand Theft Auto V            </td><td>64.29</td></tr>\n",
       "\t<tr><td>Call of Duty: Black Ops       </td><td>30.99</td></tr>\n",
       "\t<tr><td>Call of Duty: Modern Warfare 3</td><td>30.71</td></tr>\n",
       "\t<tr><td>Call of Duty: Black Ops II    </td><td>29.59</td></tr>\n",
       "\t<tr><td>Call of Duty: Ghosts          </td><td>28.80</td></tr>\n",
       "\t<tr><td>Call of Duty: Black Ops 3     </td><td>26.72</td></tr>\n",
       "\t<tr><td>Call of Duty: Modern Warfare 2</td><td>25.02</td></tr>\n",
       "\t<tr><td>Minecraft                     </td><td>24.01</td></tr>\n",
       "\t<tr><td>Grand Theft Auto IV           </td><td>22.53</td></tr>\n",
       "\t<tr><td>Call of Duty: Advanced Warfare</td><td>21.78</td></tr>\n",
       "</tbody>\n",
       "</table>\n"
      ],
      "text/latex": [
       "A tibble: 10 x 2\n",
       "\\begin{tabular}{ll}\n",
       " title & high\\_sell\\\\\n",
       " <chr> & <dbl>\\\\\n",
       "\\hline\n",
       "\t Grand Theft Auto V             & 64.29\\\\\n",
       "\t Call of Duty: Black Ops        & 30.99\\\\\n",
       "\t Call of Duty: Modern Warfare 3 & 30.71\\\\\n",
       "\t Call of Duty: Black Ops II     & 29.59\\\\\n",
       "\t Call of Duty: Ghosts           & 28.80\\\\\n",
       "\t Call of Duty: Black Ops 3      & 26.72\\\\\n",
       "\t Call of Duty: Modern Warfare 2 & 25.02\\\\\n",
       "\t Minecraft                      & 24.01\\\\\n",
       "\t Grand Theft Auto IV            & 22.53\\\\\n",
       "\t Call of Duty: Advanced Warfare & 21.78\\\\\n",
       "\\end{tabular}\n"
      ],
      "text/markdown": [
       "\n",
       "A tibble: 10 x 2\n",
       "\n",
       "| title &lt;chr&gt; | high_sell &lt;dbl&gt; |\n",
       "|---|---|\n",
       "| Grand Theft Auto V             | 64.29 |\n",
       "| Call of Duty: Black Ops        | 30.99 |\n",
       "| Call of Duty: Modern Warfare 3 | 30.71 |\n",
       "| Call of Duty: Black Ops II     | 29.59 |\n",
       "| Call of Duty: Ghosts           | 28.80 |\n",
       "| Call of Duty: Black Ops 3      | 26.72 |\n",
       "| Call of Duty: Modern Warfare 2 | 25.02 |\n",
       "| Minecraft                      | 24.01 |\n",
       "| Grand Theft Auto IV            | 22.53 |\n",
       "| Call of Duty: Advanced Warfare | 21.78 |\n",
       "\n"
      ],
      "text/plain": [
       "   title                          high_sell\n",
       "1  Grand Theft Auto V             64.29    \n",
       "2  Call of Duty: Black Ops        30.99    \n",
       "3  Call of Duty: Modern Warfare 3 30.71    \n",
       "4  Call of Duty: Black Ops II     29.59    \n",
       "5  Call of Duty: Ghosts           28.80    \n",
       "6  Call of Duty: Black Ops 3      26.72    \n",
       "7  Call of Duty: Modern Warfare 2 25.02    \n",
       "8  Minecraft                      24.01    \n",
       "9  Grand Theft Auto IV            22.53    \n",
       "10 Call of Duty: Advanced Warfare 21.78    "
      ]
     },
     "metadata": {},
     "output_type": "display_data"
    }
   ],
   "source": [
    "high_sold_games <- video_games %>%\n",
    "    group_by(title) %>%\n",
    "    summarize(high_sell = sum(total_sales, na.rm=TRUE)) %>%\n",
    "    arrange(desc(high_sell)) \n",
    "\n",
    "head(high_sold_games, n=10)"
   ]
  },
  {
   "cell_type": "markdown",
   "id": "ad3ab6db-7c36-4f70-a55d-c0936700c158",
   "metadata": {},
   "source": [
    "The table above shows the top 10 most sold games (in millions), with Grand Theft Auto having sold 64.29 million copies"
   ]
  },
  {
   "cell_type": "markdown",
   "id": "7054c8c7-788e-40e4-ab4a-ce9c40214ba8",
   "metadata": {},
   "source": [
    "# Question 4"
   ]
  },
  {
   "cell_type": "code",
   "execution_count": 2,
   "id": "2721786e-2281-4645-a36a-bd81e024333d",
   "metadata": {},
   "outputs": [],
   "source": [
    "app_store <- read.csv(\"/anvil/projects/tdm/data/grouping/googleplaystore.csv\")"
   ]
  },
  {
   "cell_type": "code",
   "execution_count": 7,
   "id": "8df5cb61-f19f-4641-929b-e1cdaeca0fd0",
   "metadata": {},
   "outputs": [
    {
     "data": {
      "text/html": [
       "<table class=\"dataframe\">\n",
       "<caption>A tibble: 6 x 2</caption>\n",
       "<thead>\n",
       "\t<tr><th scope=col>Rating</th><th scope=col>total_reviews</th></tr>\n",
       "\t<tr><th scope=col>&lt;dbl&gt;</th><th scope=col>&lt;int&gt;</th></tr>\n",
       "</thead>\n",
       "<tbody>\n",
       "\t<tr><td>NaN</td><td>1474</td></tr>\n",
       "\t<tr><td>4.4</td><td>1109</td></tr>\n",
       "\t<tr><td>4.3</td><td>1076</td></tr>\n",
       "\t<tr><td>4.5</td><td>1038</td></tr>\n",
       "\t<tr><td>4.2</td><td> 952</td></tr>\n",
       "\t<tr><td>4.6</td><td> 823</td></tr>\n",
       "</tbody>\n",
       "</table>\n"
      ],
      "text/latex": [
       "A tibble: 6 x 2\n",
       "\\begin{tabular}{ll}\n",
       " Rating & total\\_reviews\\\\\n",
       " <dbl> & <int>\\\\\n",
       "\\hline\n",
       "\t NaN & 1474\\\\\n",
       "\t 4.4 & 1109\\\\\n",
       "\t 4.3 & 1076\\\\\n",
       "\t 4.5 & 1038\\\\\n",
       "\t 4.2 &  952\\\\\n",
       "\t 4.6 &  823\\\\\n",
       "\\end{tabular}\n"
      ],
      "text/markdown": [
       "\n",
       "A tibble: 6 x 2\n",
       "\n",
       "| Rating &lt;dbl&gt; | total_reviews &lt;int&gt; |\n",
       "|---|---|\n",
       "| NaN | 1474 |\n",
       "| 4.4 | 1109 |\n",
       "| 4.3 | 1076 |\n",
       "| 4.5 | 1038 |\n",
       "| 4.2 |  952 |\n",
       "| 4.6 |  823 |\n",
       "\n"
      ],
      "text/plain": [
       "  Rating total_reviews\n",
       "1 NaN    1474         \n",
       "2 4.4    1109         \n",
       "3 4.3    1076         \n",
       "4 4.5    1038         \n",
       "5 4.2     952         \n",
       "6 4.6     823         "
      ]
     },
     "metadata": {},
     "output_type": "display_data"
    }
   ],
   "source": [
    "app_rating <- app_store %>%\n",
    "    group_by(Rating) %>%\n",
    "    summarize(total_reviews = sum(n(), na.rm=TRUE)) %>%\n",
    "    arrange(desc(total_reviews))\n",
    "\n",
    "head(app_rating)"
   ]
  },
  {
   "cell_type": "code",
   "execution_count": 13,
   "id": "48c60773-d1bd-4f07-83c8-485c93326376",
   "metadata": {},
   "outputs": [
    {
     "name": "stderr",
     "output_type": "stream",
     "text": [
      "Warning message:\n",
      "\"NAs introduced by coercion\"\n"
     ]
    },
    {
     "data": {
      "text/html": [
       "'3.0M'"
      ],
      "text/latex": [
       "'3.0M'"
      ],
      "text/markdown": [
       "'3.0M'"
      ],
      "text/plain": [
       "[1] \"3.0M\""
      ]
     },
     "metadata": {},
     "output_type": "display_data"
    }
   ],
   "source": [
    "app_store$Clean_Reviews <- gsub(',','',app_store$Review)\n",
    "app_store$Numeric_Reviews <- as.numeric(app_store$Clean_Reviews)\n",
    "app_store[is.na(app_store$Numeric_Reviews) & !is.na(app_store$Reviews), \"Reviews\"]"
   ]
  },
  {
   "cell_type": "code",
   "execution_count": 10,
   "id": "bf8b7ddc-0795-407c-9c66-7ece33c3e29a",
   "metadata": {},
   "outputs": [
    {
     "name": "stderr",
     "output_type": "stream",
     "text": [
      "Warning message:\n",
      "\"\u001b[1m\u001b[22mThere was 1 warning in `mutate()`.\n",
      "\u001b[1m\u001b[22m\u001b[36mi\u001b[39m In argument: `Numeric_Reviews = as.numeric(Clean_Reviews)`.\n",
      "Caused by warning:\n",
      "\u001b[33m!\u001b[39m NAs introduced by coercion\"\n"
     ]
    }
   ],
   "source": [
    "app_store_clean <- app_store %>%\n",
    "    mutate(\n",
    "        Clean_Reviews = gsub(\",\", \"\", Reviews),\n",
    "        Numeric_Reviews = as.numeric(Clean_Reviews)\n",
    "    ) %>%\n",
    "    filter(!is.na(Numeric_Reviews))"
   ]
  },
  {
   "cell_type": "markdown",
   "id": "3074938a-8424-47cd-9f7f-38e1b8d7345b",
   "metadata": {},
   "source": [
    "mutate() -> adds new columns or it can change existing columns in the dataset\n",
    "\n",
    "filter() -> keeps only the rows that meet certain conditions; this was used to remove the 3.0M value\n",
    "\n",
    "gsub() -> this function is used to replace parts of the data. In this dataset, we used gsub() to replace the \",\" with \"\"(nothing)"
   ]
  },
  {
   "cell_type": "code",
   "execution_count": 14,
   "id": "de3bb690-afc2-40ae-9bb8-24b34fbcd143",
   "metadata": {},
   "outputs": [
    {
     "data": {
      "text/html": [
       "<style>\n",
       ".list-inline {list-style: none; margin:0; padding: 0}\n",
       ".list-inline>li {display: inline-block}\n",
       ".list-inline>li:not(:last-child)::after {content: \"\\00b7\"; padding: 0 .5ex}\n",
       "</style>\n",
       "<ol class=list-inline><li>0.0257861635220126</li><li>0.00403309203722854</li><li>5.37081476402697e-05</li><li>2.08677264380182e-05</li><li>0.00444674250258532</li><li>0.0263473053892216</li></ol>\n"
      ],
      "text/latex": [
       "\\begin{enumerate*}\n",
       "\\item 0.0257861635220126\n",
       "\\item 0.00403309203722854\n",
       "\\item 5.37081476402697e-05\n",
       "\\item 2.08677264380182e-05\n",
       "\\item 0.00444674250258532\n",
       "\\item 0.0263473053892216\n",
       "\\end{enumerate*}\n"
      ],
      "text/markdown": [
       "1. 0.0257861635220126\n",
       "2. 0.00403309203722854\n",
       "3. 5.37081476402697e-05\n",
       "4. 2.08677264380182e-05\n",
       "5. 0.00444674250258532\n",
       "6. 0.0263473053892216\n",
       "\n",
       "\n"
      ],
      "text/plain": [
       "[1] 2.578616e-02 4.033092e-03 5.370815e-05 2.086773e-05 4.446743e-03\n",
       "[6] 2.634731e-02"
      ]
     },
     "metadata": {},
     "output_type": "display_data"
    }
   ],
   "source": [
    "app_store_cleaned <- app_store_clean %>%\n",
    "    mutate(rating_per_review = Rating / Numeric_Reviews)\n",
    "\n",
    "head(app_store_cleaned$rating_per_review)"
   ]
  },
  {
   "cell_type": "markdown",
   "id": "d12941b2-c285-4a65-bfd2-69e37c10fbd4",
   "metadata": {},
   "source": [
    "# Question 5"
   ]
  },
  {
   "cell_type": "markdown",
   "id": "c5d5b13b-d942-4621-8490-ad33c65098c6",
   "metadata": {},
   "source": [
    "lapply() - outputs a list after applying a function to each element of the list\n",
    "\n",
    "sapply() - applies the function to a list and then simplifies it"
   ]
  },
  {
   "cell_type": "code",
   "execution_count": 37,
   "id": "420f94bd-8e76-40d3-a80a-c716396360d9",
   "metadata": {},
   "outputs": [
    {
     "data": {
      "text/html": [
       "<dl>\n",
       "\t<dt>$App</dt>\n",
       "\t\t<dd>'character'</dd>\n",
       "\t<dt>$Category</dt>\n",
       "\t\t<dd>'character'</dd>\n",
       "\t<dt>$Rating</dt>\n",
       "\t\t<dd>'numeric'</dd>\n",
       "\t<dt>$Reviews</dt>\n",
       "\t\t<dd>'character'</dd>\n",
       "\t<dt>$Size</dt>\n",
       "\t\t<dd>'character'</dd>\n",
       "\t<dt>$Installs</dt>\n",
       "\t\t<dd>'character'</dd>\n",
       "\t<dt>$Type</dt>\n",
       "\t\t<dd>'character'</dd>\n",
       "\t<dt>$Price</dt>\n",
       "\t\t<dd>'character'</dd>\n",
       "\t<dt>$Content.Rating</dt>\n",
       "\t\t<dd>'character'</dd>\n",
       "\t<dt>$Genres</dt>\n",
       "\t\t<dd>'character'</dd>\n",
       "\t<dt>$Last.Updated</dt>\n",
       "\t\t<dd>'character'</dd>\n",
       "\t<dt>$Current.Ver</dt>\n",
       "\t\t<dd>'character'</dd>\n",
       "\t<dt>$Android.Ver</dt>\n",
       "\t\t<dd>'character'</dd>\n",
       "\t<dt>$Clean_Reviews</dt>\n",
       "\t\t<dd>'character'</dd>\n",
       "\t<dt>$Numeric_Reviews</dt>\n",
       "\t\t<dd>'numeric'</dd>\n",
       "\t<dt>$rating_per_review</dt>\n",
       "\t\t<dd>'numeric'</dd>\n",
       "</dl>\n"
      ],
      "text/latex": [
       "\\begin{description}\n",
       "\\item[\\$App] 'character'\n",
       "\\item[\\$Category] 'character'\n",
       "\\item[\\$Rating] 'numeric'\n",
       "\\item[\\$Reviews] 'character'\n",
       "\\item[\\$Size] 'character'\n",
       "\\item[\\$Installs] 'character'\n",
       "\\item[\\$Type] 'character'\n",
       "\\item[\\$Price] 'character'\n",
       "\\item[\\$Content.Rating] 'character'\n",
       "\\item[\\$Genres] 'character'\n",
       "\\item[\\$Last.Updated] 'character'\n",
       "\\item[\\$Current.Ver] 'character'\n",
       "\\item[\\$Android.Ver] 'character'\n",
       "\\item[\\$Clean\\_Reviews] 'character'\n",
       "\\item[\\$Numeric\\_Reviews] 'numeric'\n",
       "\\item[\\$rating\\_per\\_review] 'numeric'\n",
       "\\end{description}\n"
      ],
      "text/markdown": [
       "$App\n",
       ":   'character'\n",
       "$Category\n",
       ":   'character'\n",
       "$Rating\n",
       ":   'numeric'\n",
       "$Reviews\n",
       ":   'character'\n",
       "$Size\n",
       ":   'character'\n",
       "$Installs\n",
       ":   'character'\n",
       "$Type\n",
       ":   'character'\n",
       "$Price\n",
       ":   'character'\n",
       "$Content.Rating\n",
       ":   'character'\n",
       "$Genres\n",
       ":   'character'\n",
       "$Last.Updated\n",
       ":   'character'\n",
       "$Current.Ver\n",
       ":   'character'\n",
       "$Android.Ver\n",
       ":   'character'\n",
       "$Clean_Reviews\n",
       ":   'character'\n",
       "$Numeric_Reviews\n",
       ":   'numeric'\n",
       "$rating_per_review\n",
       ":   'numeric'\n",
       "\n",
       "\n"
      ],
      "text/plain": [
       "$App\n",
       "[1] \"character\"\n",
       "\n",
       "$Category\n",
       "[1] \"character\"\n",
       "\n",
       "$Rating\n",
       "[1] \"numeric\"\n",
       "\n",
       "$Reviews\n",
       "[1] \"character\"\n",
       "\n",
       "$Size\n",
       "[1] \"character\"\n",
       "\n",
       "$Installs\n",
       "[1] \"character\"\n",
       "\n",
       "$Type\n",
       "[1] \"character\"\n",
       "\n",
       "$Price\n",
       "[1] \"character\"\n",
       "\n",
       "$Content.Rating\n",
       "[1] \"character\"\n",
       "\n",
       "$Genres\n",
       "[1] \"character\"\n",
       "\n",
       "$Last.Updated\n",
       "[1] \"character\"\n",
       "\n",
       "$Current.Ver\n",
       "[1] \"character\"\n",
       "\n",
       "$Android.Ver\n",
       "[1] \"character\"\n",
       "\n",
       "$Clean_Reviews\n",
       "[1] \"character\"\n",
       "\n",
       "$Numeric_Reviews\n",
       "[1] \"numeric\"\n",
       "\n",
       "$rating_per_review\n",
       "[1] \"numeric\"\n"
      ]
     },
     "metadata": {},
     "output_type": "display_data"
    }
   ],
   "source": [
    "lapply(app_store_cleaned, class)"
   ]
  },
  {
   "cell_type": "code",
   "execution_count": 18,
   "id": "37e67022-1406-4ad4-9cca-ea0264d5667a",
   "metadata": {},
   "outputs": [
    {
     "data": {
      "text/html": [
       "<style>\n",
       ".dl-inline {width: auto; margin:0; padding: 0}\n",
       ".dl-inline>dt, .dl-inline>dd {float: none; width: auto; display: inline-block}\n",
       ".dl-inline>dt::after {content: \":\\0020\"; padding-right: .5ex}\n",
       ".dl-inline>dt:not(:first-of-type) {padding-left: .5ex}\n",
       "</style><dl class=dl-inline><dt>App</dt><dd>'character'</dd><dt>Category</dt><dd>'character'</dd><dt>Rating</dt><dd>'numeric'</dd><dt>Reviews</dt><dd>'character'</dd><dt>Size</dt><dd>'character'</dd><dt>Installs</dt><dd>'character'</dd><dt>Type</dt><dd>'character'</dd><dt>Price</dt><dd>'character'</dd><dt>Content.Rating</dt><dd>'character'</dd><dt>Genres</dt><dd>'character'</dd><dt>Last.Updated</dt><dd>'character'</dd><dt>Current.Ver</dt><dd>'character'</dd><dt>Android.Ver</dt><dd>'character'</dd><dt>Clean_Reviews</dt><dd>'character'</dd><dt>Numeric_Reviews</dt><dd>'numeric'</dd><dt>rating_per_review</dt><dd>'numeric'</dd></dl>\n"
      ],
      "text/latex": [
       "\\begin{description*}\n",
       "\\item[App] 'character'\n",
       "\\item[Category] 'character'\n",
       "\\item[Rating] 'numeric'\n",
       "\\item[Reviews] 'character'\n",
       "\\item[Size] 'character'\n",
       "\\item[Installs] 'character'\n",
       "\\item[Type] 'character'\n",
       "\\item[Price] 'character'\n",
       "\\item[Content.Rating] 'character'\n",
       "\\item[Genres] 'character'\n",
       "\\item[Last.Updated] 'character'\n",
       "\\item[Current.Ver] 'character'\n",
       "\\item[Android.Ver] 'character'\n",
       "\\item[Clean\\textbackslash{}\\_Reviews] 'character'\n",
       "\\item[Numeric\\textbackslash{}\\_Reviews] 'numeric'\n",
       "\\item[rating\\textbackslash{}\\_per\\textbackslash{}\\_review] 'numeric'\n",
       "\\end{description*}\n"
      ],
      "text/markdown": [
       "App\n",
       ":   'character'Category\n",
       ":   'character'Rating\n",
       ":   'numeric'Reviews\n",
       ":   'character'Size\n",
       ":   'character'Installs\n",
       ":   'character'Type\n",
       ":   'character'Price\n",
       ":   'character'Content.Rating\n",
       ":   'character'Genres\n",
       ":   'character'Last.Updated\n",
       ":   'character'Current.Ver\n",
       ":   'character'Android.Ver\n",
       ":   'character'Clean_Reviews\n",
       ":   'character'Numeric_Reviews\n",
       ":   'numeric'rating_per_review\n",
       ":   'numeric'\n",
       "\n"
      ],
      "text/plain": [
       "              App          Category            Rating           Reviews \n",
       "      \"character\"       \"character\"         \"numeric\"       \"character\" \n",
       "             Size          Installs              Type             Price \n",
       "      \"character\"       \"character\"       \"character\"       \"character\" \n",
       "   Content.Rating            Genres      Last.Updated       Current.Ver \n",
       "      \"character\"       \"character\"       \"character\"       \"character\" \n",
       "      Android.Ver     Clean_Reviews   Numeric_Reviews rating_per_review \n",
       "      \"character\"       \"character\"         \"numeric\"         \"numeric\" "
      ]
     },
     "metadata": {},
     "output_type": "display_data"
    }
   ],
   "source": [
    "sapply(app_store_cleaned, class)"
   ]
  },
  {
   "cell_type": "code",
   "execution_count": 16,
   "id": "8bc17cd8-cae0-440b-8a69-0e79098cb4c8",
   "metadata": {},
   "outputs": [
    {
     "data": {
      "text/html": [
       "<ol>\n",
       "\t<li>8</li>\n",
       "\t<li>8</li>\n",
       "\t<li>8</li>\n",
       "\t<li>4</li>\n",
       "\t<li>8</li>\n",
       "\t<li>8</li>\n",
       "\t<li>8</li>\n",
       "\t<li>8</li>\n",
       "\t<li>8</li>\n",
       "\t<li>8</li>\n",
       "\t<li>8</li>\n",
       "\t<li>8</li>\n",
       "\t<li>4</li>\n",
       "\t<li>8</li>\n",
       "\t<li>8</li>\n",
       "\t<li>8</li>\n",
       "\t<li>8</li>\n",
       "\t<li>8</li>\n",
       "\t<li>8</li>\n",
       "\t<li>8</li>\n",
       "\t<li>8</li>\n",
       "\t<li>8</li>\n",
       "\t<li>12</li>\n",
       "\t<li>8</li>\n",
       "\t<li>8</li>\n",
       "\t<li>8</li>\n",
       "\t<li>8</li>\n",
       "\t<li>8</li>\n",
       "\t<li>8</li>\n",
       "\t<li>8</li>\n",
       "</ol>\n"
      ],
      "text/latex": [
       "\\begin{enumerate}\n",
       "\\item 8\n",
       "\\item 8\n",
       "\\item 8\n",
       "\\item 4\n",
       "\\item 8\n",
       "\\item 8\n",
       "\\item 8\n",
       "\\item 8\n",
       "\\item 8\n",
       "\\item 8\n",
       "\\item 8\n",
       "\\item 8\n",
       "\\item 4\n",
       "\\item 8\n",
       "\\item 8\n",
       "\\item 8\n",
       "\\item 8\n",
       "\\item 8\n",
       "\\item 8\n",
       "\\item 8\n",
       "\\item 8\n",
       "\\item 8\n",
       "\\item 12\n",
       "\\item 8\n",
       "\\item 8\n",
       "\\item 8\n",
       "\\item 8\n",
       "\\item 8\n",
       "\\item 8\n",
       "\\item 8\n",
       "\\end{enumerate}\n"
      ],
      "text/markdown": [
       "1. 8\n",
       "2. 8\n",
       "3. 8\n",
       "4. 4\n",
       "5. 8\n",
       "6. 8\n",
       "7. 8\n",
       "8. 8\n",
       "9. 8\n",
       "10. 8\n",
       "11. 8\n",
       "12. 8\n",
       "13. 4\n",
       "14. 8\n",
       "15. 8\n",
       "16. 8\n",
       "17. 8\n",
       "18. 8\n",
       "19. 8\n",
       "20. 8\n",
       "21. 8\n",
       "22. 8\n",
       "23. 12\n",
       "24. 8\n",
       "25. 8\n",
       "26. 8\n",
       "27. 8\n",
       "28. 8\n",
       "29. 8\n",
       "30. 8\n",
       "\n",
       "\n"
      ],
      "text/plain": [
       "[[1]]\n",
       "[1] 8\n",
       "\n",
       "[[2]]\n",
       "[1] 8\n",
       "\n",
       "[[3]]\n",
       "[1] 8\n",
       "\n",
       "[[4]]\n",
       "[1] 4\n",
       "\n",
       "[[5]]\n",
       "[1] 8\n",
       "\n",
       "[[6]]\n",
       "[1] 8\n",
       "\n",
       "[[7]]\n",
       "[1] 8\n",
       "\n",
       "[[8]]\n",
       "[1] 8\n",
       "\n",
       "[[9]]\n",
       "[1] 8\n",
       "\n",
       "[[10]]\n",
       "[1] 8\n",
       "\n",
       "[[11]]\n",
       "[1] 8\n",
       "\n",
       "[[12]]\n",
       "[1] 8\n",
       "\n",
       "[[13]]\n",
       "[1] 4\n",
       "\n",
       "[[14]]\n",
       "[1] 8\n",
       "\n",
       "[[15]]\n",
       "[1] 8\n",
       "\n",
       "[[16]]\n",
       "[1] 8\n",
       "\n",
       "[[17]]\n",
       "[1] 8\n",
       "\n",
       "[[18]]\n",
       "[1] 8\n",
       "\n",
       "[[19]]\n",
       "[1] 8\n",
       "\n",
       "[[20]]\n",
       "[1] 8\n",
       "\n",
       "[[21]]\n",
       "[1] 8\n",
       "\n",
       "[[22]]\n",
       "[1] 8\n",
       "\n",
       "[[23]]\n",
       "[1] 12\n",
       "\n",
       "[[24]]\n",
       "[1] 8\n",
       "\n",
       "[[25]]\n",
       "[1] 8\n",
       "\n",
       "[[26]]\n",
       "[1] 8\n",
       "\n",
       "[[27]]\n",
       "[1] 8\n",
       "\n",
       "[[28]]\n",
       "[1] 8\n",
       "\n",
       "[[29]]\n",
       "[1] 8\n",
       "\n",
       "[[30]]\n",
       "[1] 8\n"
      ]
     },
     "metadata": {},
     "output_type": "display_data"
    }
   ],
   "source": [
    "head(lapply(app_store_cleaned$Content.Rating, nchar), n=30)"
   ]
  },
  {
   "cell_type": "code",
   "execution_count": 40,
   "id": "65136ac8-9dca-4a07-bb8e-073aac67a8f2",
   "metadata": {},
   "outputs": [
    {
     "data": {
      "text/html": [
       "<style>\n",
       ".dl-inline {width: auto; margin:0; padding: 0}\n",
       ".dl-inline>dt, .dl-inline>dd {float: none; width: auto; display: inline-block}\n",
       ".dl-inline>dt::after {content: \":\\0020\"; padding-right: .5ex}\n",
       ".dl-inline>dt:not(:first-of-type) {padding-left: .5ex}\n",
       "</style><dl class=dl-inline><dt>Everyone</dt><dd>8</dd><dt>Everyone</dt><dd>8</dd><dt>Everyone</dt><dd>8</dd><dt>Teen</dt><dd>4</dd><dt>Everyone</dt><dd>8</dd><dt>Everyone</dt><dd>8</dd><dt>Everyone</dt><dd>8</dd><dt>Everyone</dt><dd>8</dd><dt>Everyone</dt><dd>8</dd><dt>Everyone</dt><dd>8</dd><dt>Everyone</dt><dd>8</dd><dt>Everyone</dt><dd>8</dd><dt>Teen</dt><dd>4</dd><dt>Everyone</dt><dd>8</dd><dt>Everyone</dt><dd>8</dd><dt>Everyone</dt><dd>8</dd><dt>Everyone</dt><dd>8</dd><dt>Everyone</dt><dd>8</dd><dt>Everyone</dt><dd>8</dd><dt>Everyone</dt><dd>8</dd><dt>Everyone</dt><dd>8</dd><dt>Everyone</dt><dd>8</dd><dt>Everyone 10+</dt><dd>12</dd><dt>Everyone</dt><dd>8</dd><dt>Everyone</dt><dd>8</dd><dt>Everyone</dt><dd>8</dd><dt>Everyone</dt><dd>8</dd><dt>Everyone</dt><dd>8</dd><dt>Everyone</dt><dd>8</dd><dt>Everyone</dt><dd>8</dd></dl>\n"
      ],
      "text/latex": [
       "\\begin{description*}\n",
       "\\item[Everyone] 8\n",
       "\\item[Everyone] 8\n",
       "\\item[Everyone] 8\n",
       "\\item[Teen] 4\n",
       "\\item[Everyone] 8\n",
       "\\item[Everyone] 8\n",
       "\\item[Everyone] 8\n",
       "\\item[Everyone] 8\n",
       "\\item[Everyone] 8\n",
       "\\item[Everyone] 8\n",
       "\\item[Everyone] 8\n",
       "\\item[Everyone] 8\n",
       "\\item[Teen] 4\n",
       "\\item[Everyone] 8\n",
       "\\item[Everyone] 8\n",
       "\\item[Everyone] 8\n",
       "\\item[Everyone] 8\n",
       "\\item[Everyone] 8\n",
       "\\item[Everyone] 8\n",
       "\\item[Everyone] 8\n",
       "\\item[Everyone] 8\n",
       "\\item[Everyone] 8\n",
       "\\item[Everyone 10+] 12\n",
       "\\item[Everyone] 8\n",
       "\\item[Everyone] 8\n",
       "\\item[Everyone] 8\n",
       "\\item[Everyone] 8\n",
       "\\item[Everyone] 8\n",
       "\\item[Everyone] 8\n",
       "\\item[Everyone] 8\n",
       "\\end{description*}\n"
      ],
      "text/markdown": [
       "Everyone\n",
       ":   8Everyone\n",
       ":   8Everyone\n",
       ":   8Teen\n",
       ":   4Everyone\n",
       ":   8Everyone\n",
       ":   8Everyone\n",
       ":   8Everyone\n",
       ":   8Everyone\n",
       ":   8Everyone\n",
       ":   8Everyone\n",
       ":   8Everyone\n",
       ":   8Teen\n",
       ":   4Everyone\n",
       ":   8Everyone\n",
       ":   8Everyone\n",
       ":   8Everyone\n",
       ":   8Everyone\n",
       ":   8Everyone\n",
       ":   8Everyone\n",
       ":   8Everyone\n",
       ":   8Everyone\n",
       ":   8Everyone 10+\n",
       ":   12Everyone\n",
       ":   8Everyone\n",
       ":   8Everyone\n",
       ":   8Everyone\n",
       ":   8Everyone\n",
       ":   8Everyone\n",
       ":   8Everyone\n",
       ":   8\n",
       "\n"
      ],
      "text/plain": [
       "    Everyone     Everyone     Everyone         Teen     Everyone     Everyone \n",
       "           8            8            8            4            8            8 \n",
       "    Everyone     Everyone     Everyone     Everyone     Everyone     Everyone \n",
       "           8            8            8            8            8            8 \n",
       "        Teen     Everyone     Everyone     Everyone     Everyone     Everyone \n",
       "           4            8            8            8            8            8 \n",
       "    Everyone     Everyone     Everyone     Everyone Everyone 10+     Everyone \n",
       "           8            8            8            8           12            8 \n",
       "    Everyone     Everyone     Everyone     Everyone     Everyone     Everyone \n",
       "           8            8            8            8            8            8 "
      ]
     },
     "metadata": {},
     "output_type": "display_data"
    }
   ],
   "source": [
    "head(sapply(app_store_cleaned$Content.Rating, nchar), n=30)"
   ]
  },
  {
   "cell_type": "markdown",
   "id": "b814199f-ec7f-49bb-a3c1-0b25def14818",
   "metadata": {},
   "source": [
    "I used this website to research a little bit about the basic apply() function: https://www.dataquest.io/blog/apply-functions-in-r-sapply-lapply-tapply\n",
    "\n",
    "The basic apply() function is used to apply a function to a dataset. There are 3 main arguments taken: the dataset, the margin, and the function that has to be applied. '1' in the margin argument is rows and '2' is columns. Unlike lapply() or sapply(), which applies functions to lists, apply() applies a function to tables with numeric values. "
   ]
  }
 ],
 "metadata": {
  "kernelspec": {
   "display_name": "seminar-r",
   "language": "R",
   "name": "seminar-r"
  },
  "language_info": {
   "codemirror_mode": "r",
   "file_extension": ".r",
   "mimetype": "text/x-r-source",
   "name": "R",
   "pygments_lexer": "r",
   "version": "4.4.3"
  }
 },
 "nbformat": 4,
 "nbformat_minor": 5
}
